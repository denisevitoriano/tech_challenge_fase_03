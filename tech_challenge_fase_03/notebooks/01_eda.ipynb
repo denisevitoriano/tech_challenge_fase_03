{
 "cells": [
  {
   "cell_type": "markdown",
   "id": "c5f78c4a",
   "metadata": {},
   "source": [
    "# Objetivo\n",
    "\n",
    "Esta análise exploratória de dados (exploratory data analysis - EDA) tem o objetivo principal de analisar casos de uso para os dados da Olist com foco em modelos de machine learning. \n",
    "\n",
    "Para isso, precisamos primeiro entender o comportamento dos dados e como estão relacionados entre si.\n",
    "\n",
    "Fonte das tabelas usadas neste notebook: https://www.kaggle.com/datasets/olistbr/brazilian-ecommerce."
   ]
  },
  {
   "cell_type": "markdown",
   "id": "af905e98",
   "metadata": {},
   "source": [
    "# Bibliotecas"
   ]
  },
  {
   "cell_type": "code",
   "execution_count": null,
   "id": "1ed638e2",
   "metadata": {},
   "outputs": [],
   "source": [
    "import os\n",
    "import shutil\n",
    "import kagglehub\n",
    "import pandas as pd\n",
    "import matplotlib.pyplot as plt"
   ]
  },
  {
   "cell_type": "markdown",
   "id": "64bb0166",
   "metadata": {},
   "source": [
    "# Carregando as tabelas"
   ]
  },
  {
   "cell_type": "code",
   "execution_count": 2,
   "id": "23e04a98",
   "metadata": {},
   "outputs": [
    {
     "name": "stdout",
     "output_type": "stream",
     "text": [
      "Já existem arquivos em '../data/raw/'. Nenhum download necessário.\n"
     ]
    }
   ],
   "source": [
    "new_path = \"../data/raw/\"\n",
    "\n",
    "# Se a pasta já existe e tem arquivos, apenas avisa\n",
    "if os.path.exists(new_path) and len(os.listdir(new_path)) == 9:\n",
    "    print(f\"Já existem arquivos em '{new_path}'. Nenhum download necessário.\")\n",
    "else:\n",
    "    # Remove a pasta de destino se já existir e tiver menos de 9 arquivos\n",
    "    shutil.rmtree(new_path)\n",
    "    # Faz o download do dataset\n",
    "    path = kagglehub.dataset_download(\"olistbr/brazilian-ecommerce\")\n",
    "    print(\"Download concluído. Path:\", path)\n",
    "    # Move os arquivos baixados para a pasta de destino\n",
    "    shutil.move(path, new_path)\n",
    "    print(f\"Arquivos movidos para '{new_path}'.\")"
   ]
  },
  {
   "cell_type": "markdown",
   "id": "fa7fb62c",
   "metadata": {},
   "source": [
    "# Lendo as tabelas"
   ]
  },
  {
   "cell_type": "code",
   "execution_count": null,
   "id": "510524e5",
   "metadata": {},
   "outputs": [],
   "source": [
    "# Vendedores\n",
    "sellers = pd.read_csv(f\"{new_path}olist_sellers_dataset.csv\")\n",
    "\n",
    "# Consumidores\n",
    "customers = pd.read_csv(f\"{new_path}olist_customers_dataset.csv\")\n",
    "\n",
    "# Geolocalização\n",
    "geolocation = pd.read_csv(f\"{new_path}olist_geolocation_dataset.csv\")\n",
    "\n",
    "# Produtos\n",
    "products = pd.read_csv(f\"{new_path}olist_products_dataset.csv\")\n",
    "\n",
    "# Categoria dos produtos\n",
    "product_category_name_translation = pd.read_csv(f\"{new_path}product_category_name_translation.csv\")\n",
    "\n",
    "# Produtos pedidos\n",
    "order_items = pd.read_csv(f\"{new_path}olist_order_items_dataset.csv\")\n",
    "\n",
    "# Pagamentos dos pedidos\n",
    "order_payments = pd.read_csv(f\"{new_path}olist_order_payments_dataset.csv\")\n",
    "\n",
    "# Status dos pedidos\n",
    "orders = pd.read_csv(f\"{new_path}olist_orders_dataset.csv\")\n",
    "\n",
    "# Reviews dos pedidos\n",
    "order_reviews = pd.read_csv(f\"{new_path}olist_order_reviews_dataset.csv\")"
   ]
  },
  {
   "cell_type": "markdown",
   "id": "6335c663",
   "metadata": {},
   "source": [
    "# Verificando os tipos das colunas e tamanho das tabelas"
   ]
  },
  {
   "cell_type": "markdown",
   "id": "14d1aa54",
   "metadata": {},
   "source": [
    "## Vendedores"
   ]
  },
  {
   "cell_type": "code",
   "execution_count": 29,
   "id": "89964d4d",
   "metadata": {},
   "outputs": [
    {
     "data": {
      "application/vnd.microsoft.datawrangler.viewer.v0+json": {
       "columns": [
        {
         "name": "index",
         "rawType": "int64",
         "type": "integer"
        },
        {
         "name": "seller_id",
         "rawType": "object",
         "type": "string"
        },
        {
         "name": "seller_zip_code_prefix",
         "rawType": "int64",
         "type": "integer"
        },
        {
         "name": "seller_city",
         "rawType": "object",
         "type": "string"
        },
        {
         "name": "seller_state",
         "rawType": "object",
         "type": "string"
        }
       ],
       "ref": "2f3e9f8d-6f66-4829-b1a4-afc00590ae38",
       "rows": [
        [
         "0",
         "3442f8959a84dea7ee197c632cb2df15",
         "13023",
         "campinas",
         "SP"
        ],
        [
         "1",
         "d1b65fc7debc3361ea86b5f14c68d2e2",
         "13844",
         "mogi guacu",
         "SP"
        ],
        [
         "2",
         "ce3ad9de960102d0677a81f5d0bb7b2d",
         "20031",
         "rio de janeiro",
         "RJ"
        ],
        [
         "3",
         "c0f3eea2e14555b6faeea3dd58c1b1c3",
         "4195",
         "sao paulo",
         "SP"
        ],
        [
         "4",
         "51a04a8a6bdcb23deccc82b0b80742cf",
         "12914",
         "braganca paulista",
         "SP"
        ]
       ],
       "shape": {
        "columns": 4,
        "rows": 5
       }
      },
      "text/html": [
       "<div>\n",
       "<style scoped>\n",
       "    .dataframe tbody tr th:only-of-type {\n",
       "        vertical-align: middle;\n",
       "    }\n",
       "\n",
       "    .dataframe tbody tr th {\n",
       "        vertical-align: top;\n",
       "    }\n",
       "\n",
       "    .dataframe thead th {\n",
       "        text-align: right;\n",
       "    }\n",
       "</style>\n",
       "<table border=\"1\" class=\"dataframe\">\n",
       "  <thead>\n",
       "    <tr style=\"text-align: right;\">\n",
       "      <th></th>\n",
       "      <th>seller_id</th>\n",
       "      <th>seller_zip_code_prefix</th>\n",
       "      <th>seller_city</th>\n",
       "      <th>seller_state</th>\n",
       "    </tr>\n",
       "  </thead>\n",
       "  <tbody>\n",
       "    <tr>\n",
       "      <th>0</th>\n",
       "      <td>3442f8959a84dea7ee197c632cb2df15</td>\n",
       "      <td>13023</td>\n",
       "      <td>campinas</td>\n",
       "      <td>SP</td>\n",
       "    </tr>\n",
       "    <tr>\n",
       "      <th>1</th>\n",
       "      <td>d1b65fc7debc3361ea86b5f14c68d2e2</td>\n",
       "      <td>13844</td>\n",
       "      <td>mogi guacu</td>\n",
       "      <td>SP</td>\n",
       "    </tr>\n",
       "    <tr>\n",
       "      <th>2</th>\n",
       "      <td>ce3ad9de960102d0677a81f5d0bb7b2d</td>\n",
       "      <td>20031</td>\n",
       "      <td>rio de janeiro</td>\n",
       "      <td>RJ</td>\n",
       "    </tr>\n",
       "    <tr>\n",
       "      <th>3</th>\n",
       "      <td>c0f3eea2e14555b6faeea3dd58c1b1c3</td>\n",
       "      <td>4195</td>\n",
       "      <td>sao paulo</td>\n",
       "      <td>SP</td>\n",
       "    </tr>\n",
       "    <tr>\n",
       "      <th>4</th>\n",
       "      <td>51a04a8a6bdcb23deccc82b0b80742cf</td>\n",
       "      <td>12914</td>\n",
       "      <td>braganca paulista</td>\n",
       "      <td>SP</td>\n",
       "    </tr>\n",
       "  </tbody>\n",
       "</table>\n",
       "</div>"
      ],
      "text/plain": [
       "                          seller_id  seller_zip_code_prefix  \\\n",
       "0  3442f8959a84dea7ee197c632cb2df15                   13023   \n",
       "1  d1b65fc7debc3361ea86b5f14c68d2e2                   13844   \n",
       "2  ce3ad9de960102d0677a81f5d0bb7b2d                   20031   \n",
       "3  c0f3eea2e14555b6faeea3dd58c1b1c3                    4195   \n",
       "4  51a04a8a6bdcb23deccc82b0b80742cf                   12914   \n",
       "\n",
       "         seller_city seller_state  \n",
       "0           campinas           SP  \n",
       "1         mogi guacu           SP  \n",
       "2     rio de janeiro           RJ  \n",
       "3          sao paulo           SP  \n",
       "4  braganca paulista           SP  "
      ]
     },
     "execution_count": 29,
     "metadata": {},
     "output_type": "execute_result"
    }
   ],
   "source": [
    "sellers.head()"
   ]
  },
  {
   "cell_type": "code",
   "execution_count": 33,
   "id": "c7642e0c",
   "metadata": {},
   "outputs": [
    {
     "name": "stdout",
     "output_type": "stream",
     "text": [
      "<class 'pandas.core.frame.DataFrame'>\n",
      "RangeIndex: 3095 entries, 0 to 3094\n",
      "Data columns (total 4 columns):\n",
      " #   Column                  Non-Null Count  Dtype \n",
      "---  ------                  --------------  ----- \n",
      " 0   seller_id               3095 non-null   object\n",
      " 1   seller_zip_code_prefix  3095 non-null   int64 \n",
      " 2   seller_city             3095 non-null   object\n",
      " 3   seller_state            3095 non-null   object\n",
      "dtypes: int64(1), object(3)\n",
      "memory usage: 96.8+ KB\n",
      "(3095, 4)\n"
     ]
    }
   ],
   "source": [
    "sellers.info()\n",
    "print(sellers.shape)"
   ]
  },
  {
   "cell_type": "code",
   "execution_count": 71,
   "id": "4b2137ea",
   "metadata": {},
   "outputs": [
    {
     "name": "stdout",
     "output_type": "stream",
     "text": [
      "3095\n"
     ]
    }
   ],
   "source": [
    "print(sellers[\"seller_id\"].nunique())"
   ]
  },
  {
   "cell_type": "code",
   "execution_count": 104,
   "id": "b883c774",
   "metadata": {},
   "outputs": [
    {
     "data": {
      "application/vnd.microsoft.datawrangler.viewer.v0+json": {
       "columns": [
        {
         "name": "index",
         "rawType": "int64",
         "type": "integer"
        },
        {
         "name": "seller_state",
         "rawType": "object",
         "type": "string"
        },
        {
         "name": "count",
         "rawType": "int64",
         "type": "integer"
        },
        {
         "name": "proportion",
         "rawType": "float64",
         "type": "float"
        }
       ],
       "ref": "74472d70-e7a2-4cee-b191-f617e182b4f7",
       "rows": [
        [
         "0",
         "SP",
         "1849",
         "59.7"
        ],
        [
         "1",
         "PR",
         "349",
         "11.3"
        ],
        [
         "2",
         "MG",
         "244",
         "7.9"
        ],
        [
         "3",
         "SC",
         "190",
         "6.1"
        ],
        [
         "4",
         "RJ",
         "171",
         "5.5"
        ],
        [
         "5",
         "RS",
         "129",
         "4.2"
        ],
        [
         "6",
         "GO",
         "40",
         "1.3"
        ],
        [
         "7",
         "DF",
         "30",
         "1.0"
        ],
        [
         "8",
         "ES",
         "23",
         "0.7"
        ],
        [
         "9",
         "BA",
         "19",
         "0.6"
        ],
        [
         "10",
         "CE",
         "13",
         "0.4"
        ],
        [
         "11",
         "PE",
         "9",
         "0.3"
        ],
        [
         "12",
         "PB",
         "6",
         "0.2"
        ],
        [
         "13",
         "RN",
         "5",
         "0.2"
        ],
        [
         "14",
         "MS",
         "5",
         "0.2"
        ],
        [
         "15",
         "MT",
         "4",
         "0.1"
        ],
        [
         "16",
         "RO",
         "2",
         "0.1"
        ],
        [
         "17",
         "SE",
         "2",
         "0.1"
        ],
        [
         "18",
         "PI",
         "1",
         "0.0"
        ],
        [
         "19",
         "AC",
         "1",
         "0.0"
        ],
        [
         "20",
         "MA",
         "1",
         "0.0"
        ],
        [
         "21",
         "AM",
         "1",
         "0.0"
        ],
        [
         "22",
         "PA",
         "1",
         "0.0"
        ]
       ],
       "shape": {
        "columns": 3,
        "rows": 23
       }
      },
      "text/html": [
       "<div>\n",
       "<style scoped>\n",
       "    .dataframe tbody tr th:only-of-type {\n",
       "        vertical-align: middle;\n",
       "    }\n",
       "\n",
       "    .dataframe tbody tr th {\n",
       "        vertical-align: top;\n",
       "    }\n",
       "\n",
       "    .dataframe thead th {\n",
       "        text-align: right;\n",
       "    }\n",
       "</style>\n",
       "<table border=\"1\" class=\"dataframe\">\n",
       "  <thead>\n",
       "    <tr style=\"text-align: right;\">\n",
       "      <th></th>\n",
       "      <th>seller_state</th>\n",
       "      <th>count</th>\n",
       "      <th>proportion</th>\n",
       "    </tr>\n",
       "  </thead>\n",
       "  <tbody>\n",
       "    <tr>\n",
       "      <th>0</th>\n",
       "      <td>SP</td>\n",
       "      <td>1849</td>\n",
       "      <td>59.7</td>\n",
       "    </tr>\n",
       "    <tr>\n",
       "      <th>1</th>\n",
       "      <td>PR</td>\n",
       "      <td>349</td>\n",
       "      <td>11.3</td>\n",
       "    </tr>\n",
       "    <tr>\n",
       "      <th>2</th>\n",
       "      <td>MG</td>\n",
       "      <td>244</td>\n",
       "      <td>7.9</td>\n",
       "    </tr>\n",
       "    <tr>\n",
       "      <th>3</th>\n",
       "      <td>SC</td>\n",
       "      <td>190</td>\n",
       "      <td>6.1</td>\n",
       "    </tr>\n",
       "    <tr>\n",
       "      <th>4</th>\n",
       "      <td>RJ</td>\n",
       "      <td>171</td>\n",
       "      <td>5.5</td>\n",
       "    </tr>\n",
       "    <tr>\n",
       "      <th>5</th>\n",
       "      <td>RS</td>\n",
       "      <td>129</td>\n",
       "      <td>4.2</td>\n",
       "    </tr>\n",
       "    <tr>\n",
       "      <th>6</th>\n",
       "      <td>GO</td>\n",
       "      <td>40</td>\n",
       "      <td>1.3</td>\n",
       "    </tr>\n",
       "    <tr>\n",
       "      <th>7</th>\n",
       "      <td>DF</td>\n",
       "      <td>30</td>\n",
       "      <td>1.0</td>\n",
       "    </tr>\n",
       "    <tr>\n",
       "      <th>8</th>\n",
       "      <td>ES</td>\n",
       "      <td>23</td>\n",
       "      <td>0.7</td>\n",
       "    </tr>\n",
       "    <tr>\n",
       "      <th>9</th>\n",
       "      <td>BA</td>\n",
       "      <td>19</td>\n",
       "      <td>0.6</td>\n",
       "    </tr>\n",
       "    <tr>\n",
       "      <th>10</th>\n",
       "      <td>CE</td>\n",
       "      <td>13</td>\n",
       "      <td>0.4</td>\n",
       "    </tr>\n",
       "    <tr>\n",
       "      <th>11</th>\n",
       "      <td>PE</td>\n",
       "      <td>9</td>\n",
       "      <td>0.3</td>\n",
       "    </tr>\n",
       "    <tr>\n",
       "      <th>12</th>\n",
       "      <td>PB</td>\n",
       "      <td>6</td>\n",
       "      <td>0.2</td>\n",
       "    </tr>\n",
       "    <tr>\n",
       "      <th>13</th>\n",
       "      <td>RN</td>\n",
       "      <td>5</td>\n",
       "      <td>0.2</td>\n",
       "    </tr>\n",
       "    <tr>\n",
       "      <th>14</th>\n",
       "      <td>MS</td>\n",
       "      <td>5</td>\n",
       "      <td>0.2</td>\n",
       "    </tr>\n",
       "    <tr>\n",
       "      <th>15</th>\n",
       "      <td>MT</td>\n",
       "      <td>4</td>\n",
       "      <td>0.1</td>\n",
       "    </tr>\n",
       "    <tr>\n",
       "      <th>16</th>\n",
       "      <td>RO</td>\n",
       "      <td>2</td>\n",
       "      <td>0.1</td>\n",
       "    </tr>\n",
       "    <tr>\n",
       "      <th>17</th>\n",
       "      <td>SE</td>\n",
       "      <td>2</td>\n",
       "      <td>0.1</td>\n",
       "    </tr>\n",
       "    <tr>\n",
       "      <th>18</th>\n",
       "      <td>PI</td>\n",
       "      <td>1</td>\n",
       "      <td>0.0</td>\n",
       "    </tr>\n",
       "    <tr>\n",
       "      <th>19</th>\n",
       "      <td>AC</td>\n",
       "      <td>1</td>\n",
       "      <td>0.0</td>\n",
       "    </tr>\n",
       "    <tr>\n",
       "      <th>20</th>\n",
       "      <td>MA</td>\n",
       "      <td>1</td>\n",
       "      <td>0.0</td>\n",
       "    </tr>\n",
       "    <tr>\n",
       "      <th>21</th>\n",
       "      <td>AM</td>\n",
       "      <td>1</td>\n",
       "      <td>0.0</td>\n",
       "    </tr>\n",
       "    <tr>\n",
       "      <th>22</th>\n",
       "      <td>PA</td>\n",
       "      <td>1</td>\n",
       "      <td>0.0</td>\n",
       "    </tr>\n",
       "  </tbody>\n",
       "</table>\n",
       "</div>"
      ],
      "text/plain": [
       "   seller_state  count  proportion\n",
       "0            SP   1849        59.7\n",
       "1            PR    349        11.3\n",
       "2            MG    244         7.9\n",
       "3            SC    190         6.1\n",
       "4            RJ    171         5.5\n",
       "5            RS    129         4.2\n",
       "6            GO     40         1.3\n",
       "7            DF     30         1.0\n",
       "8            ES     23         0.7\n",
       "9            BA     19         0.6\n",
       "10           CE     13         0.4\n",
       "11           PE      9         0.3\n",
       "12           PB      6         0.2\n",
       "13           RN      5         0.2\n",
       "14           MS      5         0.2\n",
       "15           MT      4         0.1\n",
       "16           RO      2         0.1\n",
       "17           SE      2         0.1\n",
       "18           PI      1         0.0\n",
       "19           AC      1         0.0\n",
       "20           MA      1         0.0\n",
       "21           AM      1         0.0\n",
       "22           PA      1         0.0"
      ]
     },
     "execution_count": 104,
     "metadata": {},
     "output_type": "execute_result"
    }
   ],
   "source": [
    "# Percentual de vendedores por estado\n",
    "seller_state_count = sellers[\"seller_state\"].value_counts().reset_index()\n",
    "seller_state_pct = round(sellers[\"seller_state\"].value_counts(normalize=True) * 100,1).reset_index()\n",
    "seller_state = seller_state_count.merge(seller_state_pct, on=\"seller_state\", how=\"left\").sort_values(by=\"count\", ascending=False)\n",
    "seller_state"
   ]
  },
  {
   "cell_type": "code",
   "execution_count": 105,
   "id": "e9dbc5d9",
   "metadata": {},
   "outputs": [
    {
     "data": {
      "text/plain": [
       "<Axes: title={'center': 'Distribuição de vendedores por estado'}, ylabel='% de vendedores'>"
      ]
     },
     "execution_count": 105,
     "metadata": {},
     "output_type": "execute_result"
    },
    {
     "data": {
      "image/png": "[encoded data removed]",
      "text/plain": [
       "<Figure size 1000x600 with 1 Axes>"
      ]
     },
     "metadata": {},
     "output_type": "display_data"
    }
   ],
   "source": [
    "# Gráfico de barras dos vendedores por estado\n",
    "seller_state.plot(\n",
    "    x='seller_state',\n",
    "    y='proportion',\n",
    "    kind='bar',\n",
    "    figsize=(10,6),\n",
    "    xlabel='',\n",
    "    ylabel='% de vendedores',\n",
    "    title='Distribuição de vendedores por estado',\n",
    "    legend=False\n",
    ")"
   ]
  },
  {
   "cell_type": "markdown",
   "id": "d2969409",
   "metadata": {},
   "source": [
    "## Consumidores"
   ]
  },
  {
   "cell_type": "code",
   "execution_count": 67,
   "id": "3a8230ab",
   "metadata": {},
   "outputs": [
    {
     "data": {
      "application/vnd.microsoft.datawrangler.viewer.v0+json": {
       "columns": [
        {
         "name": "index",
         "rawType": "int64",
         "type": "integer"
        },
        {
         "name": "customer_id",
         "rawType": "object",
         "type": "string"
        },
        {
         "name": "customer_unique_id",
         "rawType": "object",
         "type": "string"
        },
        {
         "name": "customer_zip_code_prefix",
         "rawType": "int64",
         "type": "integer"
        },
        {
         "name": "customer_city",
         "rawType": "object",
         "type": "string"
        },
        {
         "name": "customer_state",
         "rawType": "object",
         "type": "string"
        }
       ],
       "ref": "aedb8d74-abb9-4421-9a95-8a3105774b5f",
       "rows": [
        [
         "0",
         "06b8999e2fba1a1fbc88172c00ba8bc7",
         "861eff4711a542e4b93843c6dd7febb0",
         "14409",
         "franca",
         "SP"
        ],
        [
         "1",
         "18955e83d337fd6b2def6b18a428ac77",
         "290c77bc529b7ac935b93aa66c333dc3",
         "9790",
         "sao bernardo do campo",
         "SP"
        ],
        [
         "2",
         "4e7b3e00288586ebd08712fdd0374a03",
         "060e732b5b29e8181a18229c7b0b2b5e",
         "1151",
         "sao paulo",
         "SP"
        ],
        [
         "3",
         "b2b6027bc5c5109e529d4dc6358b12c3",
         "259dac757896d24d7702b9acbbff3f3c",
         "8775",
         "mogi das cruzes",
         "SP"
        ],
        [
         "4",
         "4f2d8ab171c80ec8364f7c12e35b23ad",
         "345ecd01c38d18a9036ed96c73b8d066",
         "13056",
         "campinas",
         "SP"
        ]
       ],
       "shape": {
        "columns": 5,
        "rows": 5
       }
      },
      "text/html": [
       "<div>\n",
       "<style scoped>\n",
       "    .dataframe tbody tr th:only-of-type {\n",
       "        vertical-align: middle;\n",
       "    }\n",
       "\n",
       "    .dataframe tbody tr th {\n",
       "        vertical-align: top;\n",
       "    }\n",
       "\n",
       "    .dataframe thead th {\n",
       "        text-align: right;\n",
       "    }\n",
       "</style>\n",
       "<table border=\"1\" class=\"dataframe\">\n",
       "  <thead>\n",
       "    <tr style=\"text-align: right;\">\n",
       "      <th></th>\n",
       "      <th>customer_id</th>\n",
       "      <th>customer_unique_id</th>\n",
       "      <th>customer_zip_code_prefix</th>\n",
       "      <th>customer_city</th>\n",
       "      <th>customer_state</th>\n",
       "    </tr>\n",
       "  </thead>\n",
       "  <tbody>\n",
       "    <tr>\n",
       "      <th>0</th>\n",
       "      <td>06b8999e2fba1a1fbc88172c00ba8bc7</td>\n",
       "      <td>861eff4711a542e4b93843c6dd7febb0</td>\n",
       "      <td>14409</td>\n",
       "      <td>franca</td>\n",
       "      <td>SP</td>\n",
       "    </tr>\n",
       "    <tr>\n",
       "      <th>1</th>\n",
       "      <td>18955e83d337fd6b2def6b18a428ac77</td>\n",
       "      <td>290c77bc529b7ac935b93aa66c333dc3</td>\n",
       "      <td>9790</td>\n",
       "      <td>sao bernardo do campo</td>\n",
       "      <td>SP</td>\n",
       "    </tr>\n",
       "    <tr>\n",
       "      <th>2</th>\n",
       "      <td>4e7b3e00288586ebd08712fdd0374a03</td>\n",
       "      <td>060e732b5b29e8181a18229c7b0b2b5e</td>\n",
       "      <td>1151</td>\n",
       "      <td>sao paulo</td>\n",
       "      <td>SP</td>\n",
       "    </tr>\n",
       "    <tr>\n",
       "      <th>3</th>\n",
       "      <td>b2b6027bc5c5109e529d4dc6358b12c3</td>\n",
       "      <td>259dac757896d24d7702b9acbbff3f3c</td>\n",
       "      <td>8775</td>\n",
       "      <td>mogi das cruzes</td>\n",
       "      <td>SP</td>\n",
       "    </tr>\n",
       "    <tr>\n",
       "      <th>4</th>\n",
       "      <td>4f2d8ab171c80ec8364f7c12e35b23ad</td>\n",
       "      <td>345ecd01c38d18a9036ed96c73b8d066</td>\n",
       "      <td>13056</td>\n",
       "      <td>campinas</td>\n",
       "      <td>SP</td>\n",
       "    </tr>\n",
       "  </tbody>\n",
       "</table>\n",
       "</div>"
      ],
      "text/plain": [
       "                        customer_id                customer_unique_id  \\\n",
       "0  06b8999e2fba1a1fbc88172c00ba8bc7  861eff4711a542e4b93843c6dd7febb0   \n",
       "1  18955e83d337fd6b2def6b18a428ac77  290c77bc529b7ac935b93aa66c333dc3   \n",
       "2  4e7b3e00288586ebd08712fdd0374a03  060e732b5b29e8181a18229c7b0b2b5e   \n",
       "3  b2b6027bc5c5109e529d4dc6358b12c3  259dac757896d24d7702b9acbbff3f3c   \n",
       "4  4f2d8ab171c80ec8364f7c12e35b23ad  345ecd01c38d18a9036ed96c73b8d066   \n",
       "\n",
       "   customer_zip_code_prefix          customer_city customer_state  \n",
       "0                     14409                 franca             SP  \n",
       "1                      9790  sao bernardo do campo             SP  \n",
       "2                      1151              sao paulo             SP  \n",
       "3                      8775        mogi das cruzes             SP  \n",
       "4                     13056               campinas             SP  "
      ]
     },
     "execution_count": 67,
     "metadata": {},
     "output_type": "execute_result"
    }
   ],
   "source": [
    "customers.head()"
   ]
  },
  {
   "cell_type": "code",
   "execution_count": 68,
   "id": "be822ac4",
   "metadata": {},
   "outputs": [
    {
     "name": "stdout",
     "output_type": "stream",
     "text": [
      "<class 'pandas.core.frame.DataFrame'>\n",
      "RangeIndex: 99441 entries, 0 to 99440\n",
      "Data columns (total 5 columns):\n",
      " #   Column                    Non-Null Count  Dtype \n",
      "---  ------                    --------------  ----- \n",
      " 0   customer_id               99441 non-null  object\n",
      " 1   customer_unique_id        99441 non-null  object\n",
      " 2   customer_zip_code_prefix  99441 non-null  int64 \n",
      " 3   customer_city             99441 non-null  object\n",
      " 4   customer_state            99441 non-null  object\n",
      "dtypes: int64(1), object(4)\n",
      "memory usage: 3.8+ MB\n",
      "(99441, 5)\n"
     ]
    }
   ],
   "source": [
    "customers.info()\n",
    "print(customers.shape)"
   ]
  },
  {
   "cell_type": "code",
   "execution_count": 74,
   "id": "dd634b00",
   "metadata": {},
   "outputs": [
    {
     "name": "stdout",
     "output_type": "stream",
     "text": [
      "# de chave primária: 99441\n",
      "# de consumidores únicos: 96096\n"
     ]
    }
   ],
   "source": [
    "print(f\"# de chave primária: {customers['customer_id'].nunique()}\")\n",
    "print(f\"# de consumidores únicos: {customers['customer_unique_id'].nunique()}\")"
   ]
  },
  {
   "cell_type": "code",
   "execution_count": 149,
   "id": "f5b981ce",
   "metadata": {},
   "outputs": [
    {
     "data": {
      "application/vnd.microsoft.datawrangler.viewer.v0+json": {
       "columns": [
        {
         "name": "index",
         "rawType": "int64",
         "type": "integer"
        },
        {
         "name": "customer_state",
         "rawType": "object",
         "type": "string"
        },
        {
         "name": "count",
         "rawType": "int64",
         "type": "integer"
        },
        {
         "name": "proportion",
         "rawType": "float64",
         "type": "float"
        }
       ],
       "ref": "e9968b40-df05-46bd-bf20-ab18ef7978dc",
       "rows": [
        [
         "25",
         "SP",
         "40302",
         "41.9"
        ],
        [
         "18",
         "RJ",
         "12384",
         "12.9"
        ],
        [
         "10",
         "MG",
         "11259",
         "11.7"
        ],
        [
         "22",
         "RS",
         "5277",
         "5.5"
        ],
        [
         "17",
         "PR",
         "4882",
         "5.1"
        ],
        [
         "23",
         "SC",
         "3534",
         "3.7"
        ],
        [
         "4",
         "BA",
         "3277",
         "3.4"
        ],
        [
         "6",
         "DF",
         "2075",
         "2.2"
        ],
        [
         "7",
         "ES",
         "1964",
         "2.0"
        ],
        [
         "8",
         "GO",
         "1952",
         "2.0"
        ],
        [
         "15",
         "PE",
         "1609",
         "1.7"
        ],
        [
         "5",
         "CE",
         "1313",
         "1.4"
        ],
        [
         "13",
         "PA",
         "949",
         "1.0"
        ],
        [
         "12",
         "MT",
         "876",
         "0.9"
        ],
        [
         "9",
         "MA",
         "726",
         "0.8"
        ],
        [
         "11",
         "MS",
         "694",
         "0.7"
        ],
        [
         "14",
         "PB",
         "519",
         "0.5"
        ],
        [
         "16",
         "PI",
         "482",
         "0.5"
        ],
        [
         "19",
         "RN",
         "474",
         "0.5"
        ],
        [
         "1",
         "AL",
         "401",
         "0.4"
        ],
        [
         "24",
         "SE",
         "342",
         "0.4"
        ],
        [
         "26",
         "TO",
         "273",
         "0.3"
        ],
        [
         "20",
         "RO",
         "240",
         "0.2"
        ],
        [
         "2",
         "AM",
         "143",
         "0.1"
        ],
        [
         "0",
         "AC",
         "77",
         "0.1"
        ],
        [
         "3",
         "AP",
         "67",
         "0.1"
        ],
        [
         "21",
         "RR",
         "45",
         "0.0"
        ]
       ],
       "shape": {
        "columns": 3,
        "rows": 27
       }
      },
      "text/html": [
       "<div>\n",
       "<style scoped>\n",
       "    .dataframe tbody tr th:only-of-type {\n",
       "        vertical-align: middle;\n",
       "    }\n",
       "\n",
       "    .dataframe tbody tr th {\n",
       "        vertical-align: top;\n",
       "    }\n",
       "\n",
       "    .dataframe thead th {\n",
       "        text-align: right;\n",
       "    }\n",
       "</style>\n",
       "<table border=\"1\" class=\"dataframe\">\n",
       "  <thead>\n",
       "    <tr style=\"text-align: right;\">\n",
       "      <th></th>\n",
       "      <th>customer_state</th>\n",
       "      <th>count</th>\n",
       "      <th>proportion</th>\n",
       "    </tr>\n",
       "  </thead>\n",
       "  <tbody>\n",
       "    <tr>\n",
       "      <th>25</th>\n",
       "      <td>SP</td>\n",
       "      <td>40302</td>\n",
       "      <td>41.9</td>\n",
       "    </tr>\n",
       "    <tr>\n",
       "      <th>18</th>\n",
       "      <td>RJ</td>\n",
       "      <td>12384</td>\n",
       "      <td>12.9</td>\n",
       "    </tr>\n",
       "    <tr>\n",
       "      <th>10</th>\n",
       "      <td>MG</td>\n",
       "      <td>11259</td>\n",
       "      <td>11.7</td>\n",
       "    </tr>\n",
       "    <tr>\n",
       "      <th>22</th>\n",
       "      <td>RS</td>\n",
       "      <td>5277</td>\n",
       "      <td>5.5</td>\n",
       "    </tr>\n",
       "    <tr>\n",
       "      <th>17</th>\n",
       "      <td>PR</td>\n",
       "      <td>4882</td>\n",
       "      <td>5.1</td>\n",
       "    </tr>\n",
       "    <tr>\n",
       "      <th>23</th>\n",
       "      <td>SC</td>\n",
       "      <td>3534</td>\n",
       "      <td>3.7</td>\n",
       "    </tr>\n",
       "    <tr>\n",
       "      <th>4</th>\n",
       "      <td>BA</td>\n",
       "      <td>3277</td>\n",
       "      <td>3.4</td>\n",
       "    </tr>\n",
       "    <tr>\n",
       "      <th>6</th>\n",
       "      <td>DF</td>\n",
       "      <td>2075</td>\n",
       "      <td>2.2</td>\n",
       "    </tr>\n",
       "    <tr>\n",
       "      <th>7</th>\n",
       "      <td>ES</td>\n",
       "      <td>1964</td>\n",
       "      <td>2.0</td>\n",
       "    </tr>\n",
       "    <tr>\n",
       "      <th>8</th>\n",
       "      <td>GO</td>\n",
       "      <td>1952</td>\n",
       "      <td>2.0</td>\n",
       "    </tr>\n",
       "    <tr>\n",
       "      <th>15</th>\n",
       "      <td>PE</td>\n",
       "      <td>1609</td>\n",
       "      <td>1.7</td>\n",
       "    </tr>\n",
       "    <tr>\n",
       "      <th>5</th>\n",
       "      <td>CE</td>\n",
       "      <td>1313</td>\n",
       "      <td>1.4</td>\n",
       "    </tr>\n",
       "    <tr>\n",
       "      <th>13</th>\n",
       "      <td>PA</td>\n",
       "      <td>949</td>\n",
       "      <td>1.0</td>\n",
       "    </tr>\n",
       "    <tr>\n",
       "      <th>12</th>\n",
       "      <td>MT</td>\n",
       "      <td>876</td>\n",
       "      <td>0.9</td>\n",
       "    </tr>\n",
       "    <tr>\n",
       "      <th>9</th>\n",
       "      <td>MA</td>\n",
       "      <td>726</td>\n",
       "      <td>0.8</td>\n",
       "    </tr>\n",
       "    <tr>\n",
       "      <th>11</th>\n",
       "      <td>MS</td>\n",
       "      <td>694</td>\n",
       "      <td>0.7</td>\n",
       "    </tr>\n",
       "    <tr>\n",
       "      <th>14</th>\n",
       "      <td>PB</td>\n",
       "      <td>519</td>\n",
       "      <td>0.5</td>\n",
       "    </tr>\n",
       "    <tr>\n",
       "      <th>16</th>\n",
       "      <td>PI</td>\n",
       "      <td>482</td>\n",
       "      <td>0.5</td>\n",
       "    </tr>\n",
       "    <tr>\n",
       "      <th>19</th>\n",
       "      <td>RN</td>\n",
       "      <td>474</td>\n",
       "      <td>0.5</td>\n",
       "    </tr>\n",
       "    <tr>\n",
       "      <th>1</th>\n",
       "      <td>AL</td>\n",
       "      <td>401</td>\n",
       "      <td>0.4</td>\n",
       "    </tr>\n",
       "    <tr>\n",
       "      <th>24</th>\n",
       "      <td>SE</td>\n",
       "      <td>342</td>\n",
       "      <td>0.4</td>\n",
       "    </tr>\n",
       "    <tr>\n",
       "      <th>26</th>\n",
       "      <td>TO</td>\n",
       "      <td>273</td>\n",
       "      <td>0.3</td>\n",
       "    </tr>\n",
       "    <tr>\n",
       "      <th>20</th>\n",
       "      <td>RO</td>\n",
       "      <td>240</td>\n",
       "      <td>0.2</td>\n",
       "    </tr>\n",
       "    <tr>\n",
       "      <th>2</th>\n",
       "      <td>AM</td>\n",
       "      <td>143</td>\n",
       "      <td>0.1</td>\n",
       "    </tr>\n",
       "    <tr>\n",
       "      <th>0</th>\n",
       "      <td>AC</td>\n",
       "      <td>77</td>\n",
       "      <td>0.1</td>\n",
       "    </tr>\n",
       "    <tr>\n",
       "      <th>3</th>\n",
       "      <td>AP</td>\n",
       "      <td>67</td>\n",
       "      <td>0.1</td>\n",
       "    </tr>\n",
       "    <tr>\n",
       "      <th>21</th>\n",
       "      <td>RR</td>\n",
       "      <td>45</td>\n",
       "      <td>0.0</td>\n",
       "    </tr>\n",
       "  </tbody>\n",
       "</table>\n",
       "</div>"
      ],
      "text/plain": [
       "   customer_state  count  proportion\n",
       "25             SP  40302        41.9\n",
       "18             RJ  12384        12.9\n",
       "10             MG  11259        11.7\n",
       "22             RS   5277         5.5\n",
       "17             PR   4882         5.1\n",
       "23             SC   3534         3.7\n",
       "4              BA   3277         3.4\n",
       "6              DF   2075         2.2\n",
       "7              ES   1964         2.0\n",
       "8              GO   1952         2.0\n",
       "15             PE   1609         1.7\n",
       "5              CE   1313         1.4\n",
       "13             PA    949         1.0\n",
       "12             MT    876         0.9\n",
       "9              MA    726         0.8\n",
       "11             MS    694         0.7\n",
       "14             PB    519         0.5\n",
       "16             PI    482         0.5\n",
       "19             RN    474         0.5\n",
       "1              AL    401         0.4\n",
       "24             SE    342         0.4\n",
       "26             TO    273         0.3\n",
       "20             RO    240         0.2\n",
       "2              AM    143         0.1\n",
       "0              AC     77         0.1\n",
       "3              AP     67         0.1\n",
       "21             RR     45         0.0"
      ]
     },
     "execution_count": 149,
     "metadata": {},
     "output_type": "execute_result"
    }
   ],
   "source": [
    "# Percentual de consumidores por estado\n",
    "customer_state = (\n",
    "    customers\n",
    "    .groupby([\"customer_state\"])\n",
    "    .agg(\n",
    "        count = (\"customer_unique_id\", \"nunique\")\n",
    "    )\n",
    "    .reset_index()\n",
    ")\n",
    "customer_state[\"proportion\"] = round(customer_state[\"count\"] / customer_state[\"count\"].sum() * 100, 1)\n",
    "customer_state = customer_state.sort_values(by=\"count\", ascending=False)\n",
    "customer_state"
   ]
  },
  {
   "cell_type": "code",
   "execution_count": 150,
   "id": "c4f9ed0a",
   "metadata": {},
   "outputs": [
    {
     "data": {
      "text/plain": [
       "<Axes: title={'center': 'Distribuição de consumidores por estado'}, ylabel='% de consumidores'>"
      ]
     },
     "execution_count": 150,
     "metadata": {},
     "output_type": "execute_result"
    },
    {
     "data": {
      "image/png": "[encoded data removed]",
      "text/plain": [
       "<Figure size 1000x600 with 1 Axes>"
      ]
     },
     "metadata": {},
     "output_type": "display_data"
    }
   ],
   "source": [
    "# Gráfico de barras dos vendedores por estado\n",
    "customer_state.plot(\n",
    "    x='customer_state',\n",
    "    y='proportion',\n",
    "    kind='bar',\n",
    "    figsize=(10,6),\n",
    "    xlabel='',\n",
    "    ylabel='% de consumidores',\n",
    "    title='Distribuição de consumidores por estado',\n",
    "    legend=False\n",
    ")"
   ]
  },
  {
   "cell_type": "markdown",
   "id": "1a1f8ce9",
   "metadata": {},
   "source": [
    "## Geolocalização"
   ]
  },
  {
   "cell_type": "code",
   "execution_count": 88,
   "id": "8fc4ff05",
   "metadata": {},
   "outputs": [
    {
     "data": {
      "application/vnd.microsoft.datawrangler.viewer.v0+json": {
       "columns": [
        {
         "name": "index",
         "rawType": "int64",
         "type": "integer"
        },
        {
         "name": "geolocation_zip_code_prefix",
         "rawType": "int64",
         "type": "integer"
        },
        {
         "name": "geolocation_lat",
         "rawType": "float64",
         "type": "float"
        },
        {
         "name": "geolocation_lng",
         "rawType": "float64",
         "type": "float"
        },
        {
         "name": "geolocation_city",
         "rawType": "object",
         "type": "string"
        },
        {
         "name": "geolocation_state",
         "rawType": "object",
         "type": "string"
        }
       ],
       "ref": "7f51b3bc-3fc5-489e-96ac-d93969a1066a",
       "rows": [
        [
         "0",
         "1037",
         "-23.54562128115268",
         "-46.63929204800168",
         "sao paulo",
         "SP"
        ],
        [
         "1",
         "1046",
         "-23.546081127035535",
         "-46.64482029837157",
         "sao paulo",
         "SP"
        ],
        [
         "2",
         "1046",
         "-23.54612896641469",
         "-46.64295148361138",
         "sao paulo",
         "SP"
        ],
        [
         "3",
         "1041",
         "-23.5443921648681",
         "-46.63949930627844",
         "sao paulo",
         "SP"
        ],
        [
         "4",
         "1035",
         "-23.541577961711493",
         "-46.64160722329613",
         "sao paulo",
         "SP"
        ]
       ],
       "shape": {
        "columns": 5,
        "rows": 5
       }
      },
      "text/html": [
       "<div>\n",
       "<style scoped>\n",
       "    .dataframe tbody tr th:only-of-type {\n",
       "        vertical-align: middle;\n",
       "    }\n",
       "\n",
       "    .dataframe tbody tr th {\n",
       "        vertical-align: top;\n",
       "    }\n",
       "\n",
       "    .dataframe thead th {\n",
       "        text-align: right;\n",
       "    }\n",
       "</style>\n",
       "<table border=\"1\" class=\"dataframe\">\n",
       "  <thead>\n",
       "    <tr style=\"text-align: right;\">\n",
       "      <th></th>\n",
       "      <th>geolocation_zip_code_prefix</th>\n",
       "      <th>geolocation_lat</th>\n",
       "      <th>geolocation_lng</th>\n",
       "      <th>geolocation_city</th>\n",
       "      <th>geolocation_state</th>\n",
       "    </tr>\n",
       "  </thead>\n",
       "  <tbody>\n",
       "    <tr>\n",
       "      <th>0</th>\n",
       "      <td>1037</td>\n",
       "      <td>-23.545621</td>\n",
       "      <td>-46.639292</td>\n",
       "      <td>sao paulo</td>\n",
       "      <td>SP</td>\n",
       "    </tr>\n",
       "    <tr>\n",
       "      <th>1</th>\n",
       "      <td>1046</td>\n",
       "      <td>-23.546081</td>\n",
       "      <td>-46.644820</td>\n",
       "      <td>sao paulo</td>\n",
       "      <td>SP</td>\n",
       "    </tr>\n",
       "    <tr>\n",
       "      <th>2</th>\n",
       "      <td>1046</td>\n",
       "      <td>-23.546129</td>\n",
       "      <td>-46.642951</td>\n",
       "      <td>sao paulo</td>\n",
       "      <td>SP</td>\n",
       "    </tr>\n",
       "    <tr>\n",
       "      <th>3</th>\n",
       "      <td>1041</td>\n",
       "      <td>-23.544392</td>\n",
       "      <td>-46.639499</td>\n",
       "      <td>sao paulo</td>\n",
       "      <td>SP</td>\n",
       "    </tr>\n",
       "    <tr>\n",
       "      <th>4</th>\n",
       "      <td>1035</td>\n",
       "      <td>-23.541578</td>\n",
       "      <td>-46.641607</td>\n",
       "      <td>sao paulo</td>\n",
       "      <td>SP</td>\n",
       "    </tr>\n",
       "  </tbody>\n",
       "</table>\n",
       "</div>"
      ],
      "text/plain": [
       "   geolocation_zip_code_prefix  geolocation_lat  geolocation_lng  \\\n",
       "0                         1037       -23.545621       -46.639292   \n",
       "1                         1046       -23.546081       -46.644820   \n",
       "2                         1046       -23.546129       -46.642951   \n",
       "3                         1041       -23.544392       -46.639499   \n",
       "4                         1035       -23.541578       -46.641607   \n",
       "\n",
       "  geolocation_city geolocation_state  \n",
       "0        sao paulo                SP  \n",
       "1        sao paulo                SP  \n",
       "2        sao paulo                SP  \n",
       "3        sao paulo                SP  \n",
       "4        sao paulo                SP  "
      ]
     },
     "execution_count": 88,
     "metadata": {},
     "output_type": "execute_result"
    }
   ],
   "source": [
    "geolocation.head()"
   ]
  },
  {
   "cell_type": "code",
   "execution_count": 89,
   "id": "938a0139",
   "metadata": {},
   "outputs": [
    {
     "name": "stdout",
     "output_type": "stream",
     "text": [
      "<class 'pandas.core.frame.DataFrame'>\n",
      "RangeIndex: 1000163 entries, 0 to 1000162\n",
      "Data columns (total 5 columns):\n",
      " #   Column                       Non-Null Count    Dtype  \n",
      "---  ------                       --------------    -----  \n",
      " 0   geolocation_zip_code_prefix  1000163 non-null  int64  \n",
      " 1   geolocation_lat              1000163 non-null  float64\n",
      " 2   geolocation_lng              1000163 non-null  float64\n",
      " 3   geolocation_city             1000163 non-null  object \n",
      " 4   geolocation_state            1000163 non-null  object \n",
      "dtypes: float64(2), int64(1), object(2)\n",
      "memory usage: 38.2+ MB\n",
      "(1000163, 5)\n"
     ]
    }
   ],
   "source": [
    "geolocation.info()\n",
    "print(geolocation.shape)"
   ]
  },
  {
   "cell_type": "code",
   "execution_count": 92,
   "id": "95b7a8a4",
   "metadata": {
    "vscode": {
     "languageId": "ruby"
    }
   },
   "outputs": [
    {
     "data": {
      "application/vnd.microsoft.datawrangler.viewer.v0+json": {
       "columns": [
        {
         "name": "index",
         "rawType": "int64",
         "type": "integer"
        },
        {
         "name": "geolocation_zip_code_prefix",
         "rawType": "int64",
         "type": "integer"
        },
        {
         "name": "geolocation_lat",
         "rawType": "float64",
         "type": "float"
        },
        {
         "name": "geolocation_lng",
         "rawType": "float64",
         "type": "float"
        },
        {
         "name": "geolocation_city",
         "rawType": "object",
         "type": "string"
        },
        {
         "name": "geolocation_state",
         "rawType": "object",
         "type": "string"
        }
       ],
       "ref": "d77913dc-4db7-4a33-a7a9-3c631895bb2e",
       "rows": [
        [
         "745115",
         "61600",
         "-3.729438263572223",
         "-38.664096043812776",
         "caucaia",
         "CE"
        ],
        [
         "745011",
         "61600",
         "-3.721603950175571",
         "-38.66279918024221",
         "caucaia",
         "CE"
        ],
        [
         "744916",
         "61600",
         "-3.727868220254592",
         "-38.66572151771239",
         "caucaia",
         "CE"
        ],
        [
         "744988",
         "61600",
         "-3.7286968245334178",
         "-38.663535063438694",
         "caucaia",
         "CE"
        ],
        [
         "744892",
         "61600",
         "-3.732408169223661",
         "-38.66332431978007",
         "caucaia",
         "CE"
        ],
        [
         "744985",
         "61600",
         "-3.72792278468713",
         "-38.66288608134773",
         "caucaia",
         "CE"
        ],
        [
         "744970",
         "61600",
         "-3.723348898388287",
         "-38.666703012148865",
         "caucaia",
         "CE"
        ],
        [
         "745018",
         "61600",
         "-3.7213070819274816",
         "-38.66292210925188",
         "caucaia",
         "CE"
        ],
        [
         "744963",
         "61600",
         "-3.7212334092889745",
         "-38.66686660572",
         "caucaia",
         "CE"
        ],
        [
         "744899",
         "61600",
         "-3.724932406383476",
         "-38.66744034322052",
         "caucaia",
         "CE"
        ],
        [
         "744943",
         "61600",
         "-3.732908049193595",
         "-38.657087096180874",
         "caucaia",
         "CE"
        ],
        [
         "744904",
         "61600",
         "-3.7269953639889857",
         "-38.67130517433007",
         "caucaia",
         "CE"
        ],
        [
         "744932",
         "61600",
         "-3.731786694672647",
         "-38.664384682499815",
         "caucaia",
         "CE"
        ],
        [
         "744930",
         "61600",
         "-3.7338970612737983",
         "-38.65890825969318",
         "caucaia",
         "CE"
        ],
        [
         "744928",
         "61600",
         "-3.7338970612737983",
         "-38.65890825969318",
         "caucaia",
         "CE"
        ],
        [
         "744898",
         "61600",
         "-3.724247205877928",
         "-38.66659377348951",
         "caucaia",
         "CE"
        ],
        [
         "745033",
         "61600",
         "-3.724286266663267",
         "-38.66101738334437",
         "caucaia",
         "CE"
        ],
        [
         "745003",
         "61600",
         "-3.727450909742163",
         "-38.65703273234267",
         "caucaia",
         "CE"
        ],
        [
         "744915",
         "61600",
         "-3.723705614126024",
         "-38.66186044640121",
         "caucaia",
         "CE"
        ],
        [
         "745040",
         "61600",
         "-3.733996499999999",
         "-38.65153274999999",
         "caucaia",
         "CE"
        ],
        [
         "745102",
         "61600",
         "-3.732588031903626",
         "-38.65474874384327",
         "caucaia",
         "CE"
        ],
        [
         "745064",
         "61600",
         "-3.723705614126024",
         "-38.66186044640121",
         "caucaia",
         "CE"
        ],
        [
         "745094",
         "61600",
         "-3.721326827977596",
         "-38.66695591695254",
         "caucaia",
         "CE"
        ],
        [
         "745074",
         "61600",
         "-3.729054243970173",
         "-38.666479363191606",
         "caucaia",
         "CE"
        ],
        [
         "744865",
         "61601",
         "-3.722297575936949",
         "-38.65670215326409",
         "caucaia",
         "CE"
        ],
        [
         "745098",
         "61601",
         "-3.7224998673020377",
         "-38.656751948061654",
         "caucaia",
         "CE"
        ],
        [
         "744868",
         "61601",
         "-3.697900916730265",
         "-38.59688140211409",
         "caucaia",
         "CE"
        ],
        [
         "744941",
         "61601",
         "-3.723050999999945",
         "-38.65734799999995",
         "caucaia",
         "CE"
        ],
        [
         "744958",
         "61601",
         "-3.723460344575647",
         "-38.655617108906974",
         "caucaia",
         "CE"
        ],
        [
         "745039",
         "61601",
         "-3.723942187835465",
         "-38.65340779695888",
         "caucaia",
         "CE"
        ],
        [
         "745015",
         "61601",
         "-3.716597993999926",
         "-38.661854999999946",
         "caucaia",
         "CE"
        ],
        [
         "745067",
         "61601",
         "-3.6949213193506782",
         "-38.62748742299569",
         "caucaia",
         "CE"
        ],
        [
         "744994",
         "61601",
         "-3.7230097893084713",
         "-38.65675882895014",
         "caucaia",
         "CE"
        ],
        [
         "745014",
         "61601",
         "-3.716597993999926",
         "-38.661854999999946",
         "caucaia",
         "CE"
        ],
        [
         "745057",
         "61601",
         "-3.6949213193506782",
         "-38.62748742299569",
         "caucaia",
         "CE"
        ],
        [
         "745002",
         "61602",
         "-3.717813292464639",
         "-38.65139131925574",
         "caucaia",
         "CE"
        ],
        [
         "744929",
         "61602",
         "-3.7299348445590734",
         "-38.64670738033594",
         "caucaia",
         "CE"
        ],
        [
         "745037",
         "61602",
         "-3.732196622292883",
         "-38.65424074981649",
         "caucaia",
         "CE"
        ],
        [
         "745090",
         "61602",
         "-3.731211460940531",
         "-38.64542981699144",
         "caucaia",
         "CE"
        ],
        [
         "744870",
         "61602",
         "-3.730535907714505",
         "-38.645301147210496",
         "caucaia",
         "CE"
        ],
        [
         "744946",
         "61602",
         "-3.7290017553728023",
         "-38.65328754875948",
         "caucaia",
         "CE"
        ],
        [
         "744908",
         "61602",
         "-3.730815898693448",
         "-38.64540540958552",
         "caucaia",
         "CE"
        ],
        [
         "744971",
         "61603",
         "-3.74685157635548",
         "-38.65510747975257",
         "caucaia",
         "CE"
        ],
        [
         "744872",
         "61603",
         "-3.7414465380510302",
         "-38.653943349403136",
         "caucaia",
         "CE"
        ],
        [
         "745089",
         "61603",
         "-3.738105597205605",
         "-38.65137239461066",
         "caucaia",
         "CE"
        ],
        [
         "744938",
         "61603",
         "-3.7378782014393463",
         "-38.64513014388276",
         "caucaia",
         "CE"
        ],
        [
         "744962",
         "61603",
         "-3.7401151472209384",
         "-38.65154084646507",
         "caucaia",
         "CE"
        ],
        [
         "745013",
         "61604",
         "-3.7574235251046706",
         "-38.65744521135519",
         "caucaia",
         "CE"
        ],
        [
         "744939",
         "61604",
         "-3.75792805165992",
         "-38.65462427622442",
         "caucaia",
         "CE"
        ],
        [
         "745070",
         "61604",
         "-3.757901042947407",
         "-38.65797605688021",
         "caucaia",
         "CE"
        ]
       ],
       "shape": {
        "columns": 5,
        "rows": 252
       }
      },
      "text/html": [
       "<div>\n",
       "<style scoped>\n",
       "    .dataframe tbody tr th:only-of-type {\n",
       "        vertical-align: middle;\n",
       "    }\n",
       "\n",
       "    .dataframe tbody tr th {\n",
       "        vertical-align: top;\n",
       "    }\n",
       "\n",
       "    .dataframe thead th {\n",
       "        text-align: right;\n",
       "    }\n",
       "</style>\n",
       "<table border=\"1\" class=\"dataframe\">\n",
       "  <thead>\n",
       "    <tr style=\"text-align: right;\">\n",
       "      <th></th>\n",
       "      <th>geolocation_zip_code_prefix</th>\n",
       "      <th>geolocation_lat</th>\n",
       "      <th>geolocation_lng</th>\n",
       "      <th>geolocation_city</th>\n",
       "      <th>geolocation_state</th>\n",
       "    </tr>\n",
       "  </thead>\n",
       "  <tbody>\n",
       "    <tr>\n",
       "      <th>745115</th>\n",
       "      <td>61600</td>\n",
       "      <td>-3.729438</td>\n",
       "      <td>-38.664096</td>\n",
       "      <td>caucaia</td>\n",
       "      <td>CE</td>\n",
       "    </tr>\n",
       "    <tr>\n",
       "      <th>745011</th>\n",
       "      <td>61600</td>\n",
       "      <td>-3.721604</td>\n",
       "      <td>-38.662799</td>\n",
       "      <td>caucaia</td>\n",
       "      <td>CE</td>\n",
       "    </tr>\n",
       "    <tr>\n",
       "      <th>744916</th>\n",
       "      <td>61600</td>\n",
       "      <td>-3.727868</td>\n",
       "      <td>-38.665722</td>\n",
       "      <td>caucaia</td>\n",
       "      <td>CE</td>\n",
       "    </tr>\n",
       "    <tr>\n",
       "      <th>744988</th>\n",
       "      <td>61600</td>\n",
       "      <td>-3.728697</td>\n",
       "      <td>-38.663535</td>\n",
       "      <td>caucaia</td>\n",
       "      <td>CE</td>\n",
       "    </tr>\n",
       "    <tr>\n",
       "      <th>744892</th>\n",
       "      <td>61600</td>\n",
       "      <td>-3.732408</td>\n",
       "      <td>-38.663324</td>\n",
       "      <td>caucaia</td>\n",
       "      <td>CE</td>\n",
       "    </tr>\n",
       "    <tr>\n",
       "      <th>...</th>\n",
       "      <td>...</td>\n",
       "      <td>...</td>\n",
       "      <td>...</td>\n",
       "      <td>...</td>\n",
       "      <td>...</td>\n",
       "    </tr>\n",
       "    <tr>\n",
       "      <th>744967</th>\n",
       "      <td>61659</td>\n",
       "      <td>-3.780513</td>\n",
       "      <td>-38.652065</td>\n",
       "      <td>caucaia</td>\n",
       "      <td>CE</td>\n",
       "    </tr>\n",
       "    <tr>\n",
       "      <th>744961</th>\n",
       "      <td>61659</td>\n",
       "      <td>-3.735534</td>\n",
       "      <td>-38.617298</td>\n",
       "      <td>caucaia</td>\n",
       "      <td>CE</td>\n",
       "    </tr>\n",
       "    <tr>\n",
       "      <th>745010</th>\n",
       "      <td>61659</td>\n",
       "      <td>-3.768121</td>\n",
       "      <td>-38.645883</td>\n",
       "      <td>caucaia</td>\n",
       "      <td>CE</td>\n",
       "    </tr>\n",
       "    <tr>\n",
       "      <th>744993</th>\n",
       "      <td>61661</td>\n",
       "      <td>-3.781018</td>\n",
       "      <td>-38.630875</td>\n",
       "      <td>caucaia</td>\n",
       "      <td>CE</td>\n",
       "    </tr>\n",
       "    <tr>\n",
       "      <th>745100</th>\n",
       "      <td>61663</td>\n",
       "      <td>-3.780884</td>\n",
       "      <td>-38.658085</td>\n",
       "      <td>caucaia</td>\n",
       "      <td>CE</td>\n",
       "    </tr>\n",
       "  </tbody>\n",
       "</table>\n",
       "<p>252 rows × 5 columns</p>\n",
       "</div>"
      ],
      "text/plain": [
       "        geolocation_zip_code_prefix  geolocation_lat  geolocation_lng  \\\n",
       "745115                        61600        -3.729438       -38.664096   \n",
       "745011                        61600        -3.721604       -38.662799   \n",
       "744916                        61600        -3.727868       -38.665722   \n",
       "744988                        61600        -3.728697       -38.663535   \n",
       "744892                        61600        -3.732408       -38.663324   \n",
       "...                             ...              ...              ...   \n",
       "744967                        61659        -3.780513       -38.652065   \n",
       "744961                        61659        -3.735534       -38.617298   \n",
       "745010                        61659        -3.768121       -38.645883   \n",
       "744993                        61661        -3.781018       -38.630875   \n",
       "745100                        61663        -3.780884       -38.658085   \n",
       "\n",
       "       geolocation_city geolocation_state  \n",
       "745115          caucaia                CE  \n",
       "745011          caucaia                CE  \n",
       "744916          caucaia                CE  \n",
       "744988          caucaia                CE  \n",
       "744892          caucaia                CE  \n",
       "...                 ...               ...  \n",
       "744967          caucaia                CE  \n",
       "744961          caucaia                CE  \n",
       "745010          caucaia                CE  \n",
       "744993          caucaia                CE  \n",
       "745100          caucaia                CE  \n",
       "\n",
       "[252 rows x 5 columns]"
      ]
     },
     "execution_count": 92,
     "metadata": {},
     "output_type": "execute_result"
    }
   ],
   "source": [
    "# Entendendo o código de geolocalização de Caucaia-CE\n",
    "# A coluna \"geolocation_zip_code_prefix\" parece corresponder aos 5 primeiros dígitos do CEP (código postal)\n",
    "geolocation_caucaia = geolocation[geolocation[\"geolocation_city\"].str.lower() == \"caucaia\"]\n",
    "geolocation_caucaia.sort_values(by=\"geolocation_zip_code_prefix\")"
   ]
  },
  {
   "cell_type": "markdown",
   "id": "098a3f3b",
   "metadata": {},
   "source": [
    "## Produtos"
   ]
  },
  {
   "cell_type": "code",
   "execution_count": 34,
   "id": "045693e5",
   "metadata": {},
   "outputs": [
    {
     "data": {
      "application/vnd.microsoft.datawrangler.viewer.v0+json": {
       "columns": [
        {
         "name": "index",
         "rawType": "int64",
         "type": "integer"
        },
        {
         "name": "product_id",
         "rawType": "object",
         "type": "string"
        },
        {
         "name": "product_category_name",
         "rawType": "object",
         "type": "string"
        },
        {
         "name": "product_name_lenght",
         "rawType": "float64",
         "type": "float"
        },
        {
         "name": "product_description_lenght",
         "rawType": "float64",
         "type": "float"
        },
        {
         "name": "product_photos_qty",
         "rawType": "float64",
         "type": "float"
        },
        {
         "name": "product_weight_g",
         "rawType": "float64",
         "type": "float"
        },
        {
         "name": "product_length_cm",
         "rawType": "float64",
         "type": "float"
        },
        {
         "name": "product_height_cm",
         "rawType": "float64",
         "type": "float"
        },
        {
         "name": "product_width_cm",
         "rawType": "float64",
         "type": "float"
        }
       ],
       "ref": "7aaf4e13-f646-41ee-8fa9-8d640e9ab0da",
       "rows": [
        [
         "0",
         "1e9e8ef04dbcff4541ed26657ea517e5",
         "perfumaria",
         "40.0",
         "287.0",
         "1.0",
         "225.0",
         "16.0",
         "10.0",
         "14.0"
        ],
        [
         "1",
         "3aa071139cb16b67ca9e5dea641aaa2f",
         "artes",
         "44.0",
         "276.0",
         "1.0",
         "1000.0",
         "30.0",
         "18.0",
         "20.0"
        ],
        [
         "2",
         "96bd76ec8810374ed1b65e291975717f",
         "esporte_lazer",
         "46.0",
         "250.0",
         "1.0",
         "154.0",
         "18.0",
         "9.0",
         "15.0"
        ],
        [
         "3",
         "cef67bcfe19066a932b7673e239eb23d",
         "bebes",
         "27.0",
         "261.0",
         "1.0",
         "371.0",
         "26.0",
         "4.0",
         "26.0"
        ],
        [
         "4",
         "9dc1a7de274444849c219cff195d0b71",
         "utilidades_domesticas",
         "37.0",
         "402.0",
         "4.0",
         "625.0",
         "20.0",
         "17.0",
         "13.0"
        ]
       ],
       "shape": {
        "columns": 9,
        "rows": 5
       }
      },
      "text/html": [
       "<div>\n",
       "<style scoped>\n",
       "    .dataframe tbody tr th:only-of-type {\n",
       "        vertical-align: middle;\n",
       "    }\n",
       "\n",
       "    .dataframe tbody tr th {\n",
       "        vertical-align: top;\n",
       "    }\n",
       "\n",
       "    .dataframe thead th {\n",
       "        text-align: right;\n",
       "    }\n",
       "</style>\n",
       "<table border=\"1\" class=\"dataframe\">\n",
       "  <thead>\n",
       "    <tr style=\"text-align: right;\">\n",
       "      <th></th>\n",
       "      <th>product_id</th>\n",
       "      <th>product_category_name</th>\n",
       "      <th>product_name_lenght</th>\n",
       "      <th>product_description_lenght</th>\n",
       "      <th>product_photos_qty</th>\n",
       "      <th>product_weight_g</th>\n",
       "      <th>product_length_cm</th>\n",
       "      <th>product_height_cm</th>\n",
       "      <th>product_width_cm</th>\n",
       "    </tr>\n",
       "  </thead>\n",
       "  <tbody>\n",
       "    <tr>\n",
       "      <th>0</th>\n",
       "      <td>1e9e8ef04dbcff4541ed26657ea517e5</td>\n",
       "      <td>perfumaria</td>\n",
       "      <td>40.0</td>\n",
       "      <td>287.0</td>\n",
       "      <td>1.0</td>\n",
       "      <td>225.0</td>\n",
       "      <td>16.0</td>\n",
       "      <td>10.0</td>\n",
       "      <td>14.0</td>\n",
       "    </tr>\n",
       "    <tr>\n",
       "      <th>1</th>\n",
       "      <td>3aa071139cb16b67ca9e5dea641aaa2f</td>\n",
       "      <td>artes</td>\n",
       "      <td>44.0</td>\n",
       "      <td>276.0</td>\n",
       "      <td>1.0</td>\n",
       "      <td>1000.0</td>\n",
       "      <td>30.0</td>\n",
       "      <td>18.0</td>\n",
       "      <td>20.0</td>\n",
       "    </tr>\n",
       "    <tr>\n",
       "      <th>2</th>\n",
       "      <td>96bd76ec8810374ed1b65e291975717f</td>\n",
       "      <td>esporte_lazer</td>\n",
       "      <td>46.0</td>\n",
       "      <td>250.0</td>\n",
       "      <td>1.0</td>\n",
       "      <td>154.0</td>\n",
       "      <td>18.0</td>\n",
       "      <td>9.0</td>\n",
       "      <td>15.0</td>\n",
       "    </tr>\n",
       "    <tr>\n",
       "      <th>3</th>\n",
       "      <td>cef67bcfe19066a932b7673e239eb23d</td>\n",
       "      <td>bebes</td>\n",
       "      <td>27.0</td>\n",
       "      <td>261.0</td>\n",
       "      <td>1.0</td>\n",
       "      <td>371.0</td>\n",
       "      <td>26.0</td>\n",
       "      <td>4.0</td>\n",
       "      <td>26.0</td>\n",
       "    </tr>\n",
       "    <tr>\n",
       "      <th>4</th>\n",
       "      <td>9dc1a7de274444849c219cff195d0b71</td>\n",
       "      <td>utilidades_domesticas</td>\n",
       "      <td>37.0</td>\n",
       "      <td>402.0</td>\n",
       "      <td>4.0</td>\n",
       "      <td>625.0</td>\n",
       "      <td>20.0</td>\n",
       "      <td>17.0</td>\n",
       "      <td>13.0</td>\n",
       "    </tr>\n",
       "  </tbody>\n",
       "</table>\n",
       "</div>"
      ],
      "text/plain": [
       "                         product_id  product_category_name  \\\n",
       "0  1e9e8ef04dbcff4541ed26657ea517e5             perfumaria   \n",
       "1  3aa071139cb16b67ca9e5dea641aaa2f                  artes   \n",
       "2  96bd76ec8810374ed1b65e291975717f          esporte_lazer   \n",
       "3  cef67bcfe19066a932b7673e239eb23d                  bebes   \n",
       "4  9dc1a7de274444849c219cff195d0b71  utilidades_domesticas   \n",
       "\n",
       "   product_name_lenght  product_description_lenght  product_photos_qty  \\\n",
       "0                 40.0                       287.0                 1.0   \n",
       "1                 44.0                       276.0                 1.0   \n",
       "2                 46.0                       250.0                 1.0   \n",
       "3                 27.0                       261.0                 1.0   \n",
       "4                 37.0                       402.0                 4.0   \n",
       "\n",
       "   product_weight_g  product_length_cm  product_height_cm  product_width_cm  \n",
       "0             225.0               16.0               10.0              14.0  \n",
       "1            1000.0               30.0               18.0              20.0  \n",
       "2             154.0               18.0                9.0              15.0  \n",
       "3             371.0               26.0                4.0              26.0  \n",
       "4             625.0               20.0               17.0              13.0  "
      ]
     },
     "execution_count": 34,
     "metadata": {},
     "output_type": "execute_result"
    }
   ],
   "source": [
    "products.head()"
   ]
  },
  {
   "cell_type": "code",
   "execution_count": 35,
   "id": "b928ed8d",
   "metadata": {},
   "outputs": [
    {
     "name": "stdout",
     "output_type": "stream",
     "text": [
      "<class 'pandas.core.frame.DataFrame'>\n",
      "RangeIndex: 32951 entries, 0 to 32950\n",
      "Data columns (total 9 columns):\n",
      " #   Column                      Non-Null Count  Dtype  \n",
      "---  ------                      --------------  -----  \n",
      " 0   product_id                  32951 non-null  object \n",
      " 1   product_category_name       32341 non-null  object \n",
      " 2   product_name_lenght         32341 non-null  float64\n",
      " 3   product_description_lenght  32341 non-null  float64\n",
      " 4   product_photos_qty          32341 non-null  float64\n",
      " 5   product_weight_g            32949 non-null  float64\n",
      " 6   product_length_cm           32949 non-null  float64\n",
      " 7   product_height_cm           32949 non-null  float64\n",
      " 8   product_width_cm            32949 non-null  float64\n",
      "dtypes: float64(7), object(2)\n",
      "memory usage: 2.3+ MB\n",
      "(32951, 9)\n"
     ]
    }
   ],
   "source": [
    "products.info()\n",
    "print(products.shape)"
   ]
  },
  {
   "cell_type": "code",
   "execution_count": 97,
   "id": "42834e14",
   "metadata": {},
   "outputs": [
    {
     "name": "stdout",
     "output_type": "stream",
     "text": [
      "# chave primária: 32951\n",
      "# categorias: 73\n"
     ]
    }
   ],
   "source": [
    "# As chaves primárias dos produtos parecem ser construídas a partir de um agrupamento das demais características do produto\n",
    "print(f\"# chave primária: {products['product_id'].nunique()}\")\n",
    "print(f\"# categorias: {products['product_category_name'].nunique()}\")"
   ]
  },
  {
   "cell_type": "code",
   "execution_count": 147,
   "id": "f709130c",
   "metadata": {},
   "outputs": [
    {
     "data": {
      "application/vnd.microsoft.datawrangler.viewer.v0+json": {
       "columns": [
        {
         "name": "index",
         "rawType": "int64",
         "type": "integer"
        },
        {
         "name": "product_category_name",
         "rawType": "object",
         "type": "string"
        },
        {
         "name": "count",
         "rawType": "int64",
         "type": "integer"
        },
        {
         "name": "proportion",
         "rawType": "float64",
         "type": "float"
        }
       ],
       "ref": "ba07e148-4645-4e21-9911-82467f8f5f22",
       "rows": [
        [
         "13",
         "cama_mesa_banho",
         "3029",
         "9.4"
        ],
        [
         "32",
         "esporte_lazer",
         "2867",
         "8.9"
        ],
        [
         "54",
         "moveis_decoracao",
         "2657",
         "8.2"
        ],
        [
         "11",
         "beleza_saude",
         "2444",
         "7.6"
        ],
        [
         "72",
         "utilidades_domesticas",
         "2335",
         "7.2"
        ],
        [
         "8",
         "automotivo",
         "1900",
         "5.9"
        ],
        [
         "44",
         "informatica_acessorios",
         "1639",
         "5.1"
        ],
        [
         "12",
         "brinquedos",
         "1411",
         "4.4"
        ],
        [
         "66",
         "relogios_presentes",
         "1329",
         "4.1"
        ],
        [
         "70",
         "telefonia",
         "1134",
         "3.5"
        ],
        [
         "9",
         "bebes",
         "919",
         "2.8"
        ],
        [
         "62",
         "perfumaria",
         "868",
         "2.7"
        ],
        [
         "33",
         "fashion_bolsas_e_acessorios",
         "849",
         "2.6"
        ],
        [
         "59",
         "papelaria",
         "849",
         "2.6"
        ],
        [
         "26",
         "cool_stuff",
         "789",
         "2.4"
        ],
        [
         "40",
         "ferramentas_jardim",
         "753",
         "2.3"
        ],
        [
         "63",
         "pet_shop",
         "719",
         "2.2"
        ],
        [
         "30",
         "eletronicos",
         "517",
         "1.6"
        ],
        [
         "21",
         "construcao_ferramentas_construcao",
         "400",
         "1.2"
        ],
        [
         "28",
         "eletrodomesticos",
         "370",
         "1.1"
        ],
        [
         "50",
         "malas_acessorios",
         "349",
         "1.1"
        ],
        [
         "20",
         "consoles_games",
         "317",
         "1.0"
        ],
        [
         "55",
         "moveis_escritorio",
         "309",
         "1.0"
        ],
        [
         "45",
         "instrumentos_musicais",
         "289",
         "0.9"
        ],
        [
         "31",
         "eletroportateis",
         "231",
         "0.7"
        ],
        [
         "16",
         "casa_construcao",
         "225",
         "0.7"
        ],
        [
         "48",
         "livros_interesse_geral",
         "216",
         "0.7"
        ],
        [
         "34",
         "fashion_calcados",
         "173",
         "0.5"
        ],
        [
         "57",
         "moveis_sala",
         "156",
         "0.5"
        ],
        [
         "19",
         "climatizacao",
         "124",
         "0.4"
        ],
        [
         "49",
         "livros_tecnicos",
         "123",
         "0.4"
        ],
        [
         "71",
         "telefonia_fixa",
         "116",
         "0.4"
        ],
        [
         "14",
         "casa_conforto",
         "111",
         "0.3"
        ],
        [
         "51",
         "market_place",
         "104",
         "0.3"
        ],
        [
         "2",
         "alimentos_bebidas",
         "104",
         "0.3"
        ],
        [
         "38",
         "fashion_roupa_masculina",
         "95",
         "0.3"
        ],
        [
         "53",
         "moveis_cozinha_area_de_servico_jantar_e_jardim",
         "94",
         "0.3"
        ],
        [
         "68",
         "sinalizacao_e_seguranca",
         "93",
         "0.3"
        ],
        [
         "25",
         "construcao_ferramentas_seguranca",
         "91",
         "0.3"
        ],
        [
         "29",
         "eletrodomesticos_2",
         "90",
         "0.3"
        ],
        [
         "24",
         "construcao_ferramentas_jardim",
         "88",
         "0.3"
        ],
        [
         "1",
         "alimentos",
         "82",
         "0.3"
        ],
        [
         "10",
         "bebidas",
         "81",
         "0.3"
        ],
        [
         "23",
         "construcao_ferramentas_iluminacao",
         "78",
         "0.2"
        ],
        [
         "0",
         "agro_industria_e_comercio",
         "74",
         "0.2"
        ],
        [
         "43",
         "industria_comercio_e_negocios",
         "68",
         "0.2"
        ],
        [
         "6",
         "artigos_de_natal",
         "65",
         "0.2"
        ],
        [
         "7",
         "audio",
         "58",
         "0.2"
        ],
        [
         "3",
         "artes",
         "55",
         "0.2"
        ],
        [
         "39",
         "fashion_underwear_e_moda_praia",
         "53",
         "0.2"
        ]
       ],
       "shape": {
        "columns": 3,
        "rows": 73
       }
      },
      "text/html": [
       "<div>\n",
       "<style scoped>\n",
       "    .dataframe tbody tr th:only-of-type {\n",
       "        vertical-align: middle;\n",
       "    }\n",
       "\n",
       "    .dataframe tbody tr th {\n",
       "        vertical-align: top;\n",
       "    }\n",
       "\n",
       "    .dataframe thead th {\n",
       "        text-align: right;\n",
       "    }\n",
       "</style>\n",
       "<table border=\"1\" class=\"dataframe\">\n",
       "  <thead>\n",
       "    <tr style=\"text-align: right;\">\n",
       "      <th></th>\n",
       "      <th>product_category_name</th>\n",
       "      <th>count</th>\n",
       "      <th>proportion</th>\n",
       "    </tr>\n",
       "  </thead>\n",
       "  <tbody>\n",
       "    <tr>\n",
       "      <th>13</th>\n",
       "      <td>cama_mesa_banho</td>\n",
       "      <td>3029</td>\n",
       "      <td>9.4</td>\n",
       "    </tr>\n",
       "    <tr>\n",
       "      <th>32</th>\n",
       "      <td>esporte_lazer</td>\n",
       "      <td>2867</td>\n",
       "      <td>8.9</td>\n",
       "    </tr>\n",
       "    <tr>\n",
       "      <th>54</th>\n",
       "      <td>moveis_decoracao</td>\n",
       "      <td>2657</td>\n",
       "      <td>8.2</td>\n",
       "    </tr>\n",
       "    <tr>\n",
       "      <th>11</th>\n",
       "      <td>beleza_saude</td>\n",
       "      <td>2444</td>\n",
       "      <td>7.6</td>\n",
       "    </tr>\n",
       "    <tr>\n",
       "      <th>72</th>\n",
       "      <td>utilidades_domesticas</td>\n",
       "      <td>2335</td>\n",
       "      <td>7.2</td>\n",
       "    </tr>\n",
       "    <tr>\n",
       "      <th>...</th>\n",
       "      <td>...</td>\n",
       "      <td>...</td>\n",
       "      <td>...</td>\n",
       "    </tr>\n",
       "    <tr>\n",
       "      <th>15</th>\n",
       "      <td>casa_conforto_2</td>\n",
       "      <td>5</td>\n",
       "      <td>0.0</td>\n",
       "    </tr>\n",
       "    <tr>\n",
       "      <th>37</th>\n",
       "      <td>fashion_roupa_infanto_juvenil</td>\n",
       "      <td>5</td>\n",
       "      <td>0.0</td>\n",
       "    </tr>\n",
       "    <tr>\n",
       "      <th>60</th>\n",
       "      <td>pc_gamer</td>\n",
       "      <td>3</td>\n",
       "      <td>0.0</td>\n",
       "    </tr>\n",
       "    <tr>\n",
       "      <th>67</th>\n",
       "      <td>seguros_e_servicos</td>\n",
       "      <td>2</td>\n",
       "      <td>0.0</td>\n",
       "    </tr>\n",
       "    <tr>\n",
       "      <th>17</th>\n",
       "      <td>cds_dvds_musicais</td>\n",
       "      <td>1</td>\n",
       "      <td>0.0</td>\n",
       "    </tr>\n",
       "  </tbody>\n",
       "</table>\n",
       "<p>73 rows × 3 columns</p>\n",
       "</div>"
      ],
      "text/plain": [
       "            product_category_name  count  proportion\n",
       "13                cama_mesa_banho   3029         9.4\n",
       "32                  esporte_lazer   2867         8.9\n",
       "54               moveis_decoracao   2657         8.2\n",
       "11                   beleza_saude   2444         7.6\n",
       "72          utilidades_domesticas   2335         7.2\n",
       "..                            ...    ...         ...\n",
       "15                casa_conforto_2      5         0.0\n",
       "37  fashion_roupa_infanto_juvenil      5         0.0\n",
       "60                       pc_gamer      3         0.0\n",
       "67             seguros_e_servicos      2         0.0\n",
       "17              cds_dvds_musicais      1         0.0\n",
       "\n",
       "[73 rows x 3 columns]"
      ]
     },
     "execution_count": 147,
     "metadata": {},
     "output_type": "execute_result"
    }
   ],
   "source": [
    "# Percentual de produtos por categoria\n",
    "product_category = (\n",
    "    products\n",
    "    .groupby([\"product_category_name\"])\n",
    "    .agg(\n",
    "        count = (\"product_id\", \"nunique\")\n",
    "    )\n",
    "    .reset_index()\n",
    ")\n",
    "product_category[\"proportion\"] = round(product_category[\"count\"] / product_category[\"count\"].sum() * 100, 1)\n",
    "product_category = product_category.sort_values(by=\"count\", ascending=False)\n",
    "product_category"
   ]
  },
  {
   "cell_type": "code",
   "execution_count": 151,
   "id": "373ef7cc",
   "metadata": {},
   "outputs": [
    {
     "data": {
      "text/plain": [
       "<Axes: title={'center': 'Distribuição de produtos por categoria (top 10)'}, ylabel='% de produtos'>"
      ]
     },
     "execution_count": 151,
     "metadata": {},
     "output_type": "execute_result"
    },
    {
     "data": {
      "image/png": "[encoded data removed]",
      "text/plain": [
       "<Figure size 1000x600 with 1 Axes>"
      ]
     },
     "metadata": {},
     "output_type": "display_data"
    }
   ],
   "source": [
    "# Gráfico de barras dos produt por estado\n",
    "product_category_top10 = product_category.head(10)\n",
    "\n",
    "product_category_top10.plot(\n",
    "    x='product_category_name',\n",
    "    y='proportion',\n",
    "    kind='bar',\n",
    "    figsize=(10,6),\n",
    "    xlabel='',\n",
    "    ylabel='% de produtos',\n",
    "    title='Distribuição de produtos por categoria (top 10)',\n",
    "    legend=False\n",
    ")"
   ]
  },
  {
   "cell_type": "markdown",
   "id": "c41ba730",
   "metadata": {},
   "source": [
    "## Categorias dos produtos (de-para PT-EN)"
   ]
  },
  {
   "cell_type": "code",
   "execution_count": 36,
   "id": "667601f7",
   "metadata": {},
   "outputs": [
    {
     "data": {
      "application/vnd.microsoft.datawrangler.viewer.v0+json": {
       "columns": [
        {
         "name": "index",
         "rawType": "int64",
         "type": "integer"
        },
        {
         "name": "product_category_name",
         "rawType": "object",
         "type": "string"
        },
        {
         "name": "product_category_name_english",
         "rawType": "object",
         "type": "string"
        }
       ],
       "ref": "d8b952c3-8bd4-4e4f-9138-96517e18a6c7",
       "rows": [
        [
         "0",
         "beleza_saude",
         "health_beauty"
        ],
        [
         "1",
         "informatica_acessorios",
         "computers_accessories"
        ],
        [
         "2",
         "automotivo",
         "auto"
        ],
        [
         "3",
         "cama_mesa_banho",
         "bed_bath_table"
        ],
        [
         "4",
         "moveis_decoracao",
         "furniture_decor"
        ]
       ],
       "shape": {
        "columns": 2,
        "rows": 5
       }
      },
      "text/html": [
       "<div>\n",
       "<style scoped>\n",
       "    .dataframe tbody tr th:only-of-type {\n",
       "        vertical-align: middle;\n",
       "    }\n",
       "\n",
       "    .dataframe tbody tr th {\n",
       "        vertical-align: top;\n",
       "    }\n",
       "\n",
       "    .dataframe thead th {\n",
       "        text-align: right;\n",
       "    }\n",
       "</style>\n",
       "<table border=\"1\" class=\"dataframe\">\n",
       "  <thead>\n",
       "    <tr style=\"text-align: right;\">\n",
       "      <th></th>\n",
       "      <th>product_category_name</th>\n",
       "      <th>product_category_name_english</th>\n",
       "    </tr>\n",
       "  </thead>\n",
       "  <tbody>\n",
       "    <tr>\n",
       "      <th>0</th>\n",
       "      <td>beleza_saude</td>\n",
       "      <td>health_beauty</td>\n",
       "    </tr>\n",
       "    <tr>\n",
       "      <th>1</th>\n",
       "      <td>informatica_acessorios</td>\n",
       "      <td>computers_accessories</td>\n",
       "    </tr>\n",
       "    <tr>\n",
       "      <th>2</th>\n",
       "      <td>automotivo</td>\n",
       "      <td>auto</td>\n",
       "    </tr>\n",
       "    <tr>\n",
       "      <th>3</th>\n",
       "      <td>cama_mesa_banho</td>\n",
       "      <td>bed_bath_table</td>\n",
       "    </tr>\n",
       "    <tr>\n",
       "      <th>4</th>\n",
       "      <td>moveis_decoracao</td>\n",
       "      <td>furniture_decor</td>\n",
       "    </tr>\n",
       "  </tbody>\n",
       "</table>\n",
       "</div>"
      ],
      "text/plain": [
       "    product_category_name product_category_name_english\n",
       "0            beleza_saude                 health_beauty\n",
       "1  informatica_acessorios         computers_accessories\n",
       "2              automotivo                          auto\n",
       "3         cama_mesa_banho                bed_bath_table\n",
       "4        moveis_decoracao               furniture_decor"
      ]
     },
     "execution_count": 36,
     "metadata": {},
     "output_type": "execute_result"
    }
   ],
   "source": [
    "product_category_name_translation.head()"
   ]
  },
  {
   "cell_type": "code",
   "execution_count": 37,
   "id": "40a14517",
   "metadata": {},
   "outputs": [
    {
     "name": "stdout",
     "output_type": "stream",
     "text": [
      "<class 'pandas.core.frame.DataFrame'>\n",
      "RangeIndex: 71 entries, 0 to 70\n",
      "Data columns (total 2 columns):\n",
      " #   Column                         Non-Null Count  Dtype \n",
      "---  ------                         --------------  ----- \n",
      " 0   product_category_name          71 non-null     object\n",
      " 1   product_category_name_english  71 non-null     object\n",
      "dtypes: object(2)\n",
      "memory usage: 1.2+ KB\n",
      "(71, 2)\n"
     ]
    }
   ],
   "source": [
    "product_category_name_translation.info()\n",
    "print(product_category_name_translation.shape)"
   ]
  },
  {
   "cell_type": "code",
   "execution_count": 94,
   "id": "8ec81c0b",
   "metadata": {},
   "outputs": [
    {
     "name": "stdout",
     "output_type": "stream",
     "text": [
      "# categorias em português: 71\n",
      "# categorias em inglês: 71\n"
     ]
    }
   ],
   "source": [
    "# Tradução das categorias dos produtos é de 1:1, porém vimos que na tabela de características dos produtos há 73 categorias\n",
    "print(f\"# categorias em português: {product_category_name_translation['product_category_name'].nunique()}\")\n",
    "print(f\"# categorias em inglês: {product_category_name_translation['product_category_name_english'].nunique()}\")"
   ]
  },
  {
   "cell_type": "code",
   "execution_count": 126,
   "id": "5969bc90",
   "metadata": {},
   "outputs": [
    {
     "data": {
      "text/plain": [
       "{nan, 'pc_gamer', 'portateis_cozinha_e_preparadores_de_alimentos'}"
      ]
     },
     "execution_count": 126,
     "metadata": {},
     "output_type": "execute_result"
    }
   ],
   "source": [
    "# Quais categorias estão presentes na tabela de produtos mas não estão na de tradução?\n",
    "set(products[\"product_category_name\"]) - set(product_category_name_translation[\"product_category_name\"])"
   ]
  },
  {
   "cell_type": "code",
   "execution_count": 127,
   "id": "4cb05e3f",
   "metadata": {},
   "outputs": [
    {
     "data": {
      "application/vnd.microsoft.datawrangler.viewer.v0+json": {
       "columns": [
        {
         "name": "index",
         "rawType": "int64",
         "type": "integer"
        },
        {
         "name": "product_id",
         "rawType": "object",
         "type": "string"
        },
        {
         "name": "product_category_name",
         "rawType": "object",
         "type": "unknown"
        },
        {
         "name": "product_name_lenght",
         "rawType": "float64",
         "type": "float"
        },
        {
         "name": "product_description_lenght",
         "rawType": "float64",
         "type": "float"
        },
        {
         "name": "product_photos_qty",
         "rawType": "float64",
         "type": "float"
        },
        {
         "name": "product_weight_g",
         "rawType": "float64",
         "type": "float"
        },
        {
         "name": "product_length_cm",
         "rawType": "float64",
         "type": "float"
        },
        {
         "name": "product_height_cm",
         "rawType": "float64",
         "type": "float"
        },
        {
         "name": "product_width_cm",
         "rawType": "float64",
         "type": "float"
        }
       ],
       "ref": "922652c6-f9eb-46d3-88bf-c37e2a66526d",
       "rows": [
        [
         "105",
         "a41e356c76fab66334f36de622ecbd3a",
         null,
         null,
         null,
         null,
         "650.0",
         "17.0",
         "14.0",
         "12.0"
        ],
        [
         "128",
         "d8dee61c2034d6d075997acef1870e9b",
         null,
         null,
         null,
         null,
         "300.0",
         "16.0",
         "7.0",
         "20.0"
        ],
        [
         "145",
         "56139431d72cd51f19eb9f7dae4d1617",
         null,
         null,
         null,
         null,
         "200.0",
         "20.0",
         "20.0",
         "20.0"
        ],
        [
         "154",
         "46b48281eb6d663ced748f324108c733",
         null,
         null,
         null,
         null,
         "18500.0",
         "41.0",
         "30.0",
         "41.0"
        ],
        [
         "197",
         "5fb61f482620cb672f5e586bb132eae9",
         null,
         null,
         null,
         null,
         "300.0",
         "35.0",
         "7.0",
         "12.0"
        ],
        [
         "244",
         "e10758160da97891c2fdcbc35f0f031d",
         null,
         null,
         null,
         null,
         "2200.0",
         "16.0",
         "2.0",
         "11.0"
        ],
        [
         "294",
         "39e3b9b12cd0bf8ee681bbc1c130feb5",
         null,
         null,
         null,
         null,
         "300.0",
         "16.0",
         "7.0",
         "11.0"
        ],
        [
         "299",
         "794de06c32a626a5692ff50e4985d36f",
         null,
         null,
         null,
         null,
         "300.0",
         "18.0",
         "8.0",
         "14.0"
        ],
        [
         "347",
         "7af3e2da474486a3519b0cba9dea8ad9",
         null,
         null,
         null,
         null,
         "200.0",
         "22.0",
         "14.0",
         "14.0"
        ],
        [
         "428",
         "629beb8e7317703dcc5f35b5463fd20e",
         null,
         null,
         null,
         null,
         "1400.0",
         "25.0",
         "25.0",
         "25.0"
        ],
        [
         "436",
         "3a78f64aac654298e4b9aff32fc21818",
         null,
         null,
         null,
         null,
         "4300.0",
         "30.0",
         "10.0",
         "48.0"
        ],
        [
         "459",
         "bcb815bba008d89458e428078c0b9211",
         null,
         null,
         null,
         null,
         "150.0",
         "16.0",
         "2.0",
         "11.0"
        ],
        [
         "504",
         "6b82874c6b51b92913dcdb364eaaae0f",
         null,
         null,
         null,
         null,
         "21450.0",
         "70.0",
         "34.0",
         "50.0"
        ],
        [
         "514",
         "c68b419d9c6038271b85bac98adb0fc9",
         null,
         null,
         null,
         null,
         "1000.0",
         "16.0",
         "14.0",
         "30.0"
        ],
        [
         "552",
         "1dcd65bb5dd967d7b4c6b0223cefb838",
         null,
         null,
         null,
         null,
         "9150.0",
         "33.0",
         "30.0",
         "44.0"
        ],
        [
         "616",
         "671446e8e3aa3df1eca47b6c354a2921",
         null,
         null,
         null,
         null,
         "5500.0",
         "33.0",
         "22.0",
         "33.0"
        ],
        [
         "627",
         "f0ea71b6e2ab4cb3bd8f5ba522a25a56",
         null,
         null,
         null,
         null,
         "1300.0",
         "30.0",
         "20.0",
         "30.0"
        ],
        [
         "628",
         "fedccbd5e370e8ddb7aae6fb4cb70347",
         null,
         null,
         null,
         null,
         "1200.0",
         "20.0",
         "20.0",
         "20.0"
        ],
        [
         "696",
         "212cc0fa7359ab242a697a03a574f719",
         null,
         null,
         null,
         null,
         "200.0",
         "16.0",
         "2.0",
         "11.0"
        ],
        [
         "700",
         "6b7879a37ac2dbe5289a16706e859870",
         null,
         null,
         null,
         null,
         "950.0",
         "45.0",
         "12.0",
         "30.0"
        ],
        [
         "721",
         "44e8945e17aef03daaecbc4bbab7f730",
         null,
         null,
         null,
         null,
         "200.0",
         "16.0",
         "2.0",
         "11.0"
        ],
        [
         "736",
         "3abf2d4698bf245577543ea01d9c7f16",
         null,
         null,
         null,
         null,
         "200.0",
         "22.0",
         "14.0",
         "14.0"
        ],
        [
         "748",
         "ca26080d8f0fa848c329fe732f5e34e8",
         null,
         null,
         null,
         null,
         "1800.0",
         "25.0",
         "25.0",
         "25.0"
        ],
        [
         "751",
         "1a2ece70966710dec441aa587993b5b4",
         null,
         null,
         null,
         null,
         "300.0",
         "27.0",
         "5.0",
         "18.0"
        ],
        [
         "761",
         "5f4bceafafc1903556735cb7f2842e78",
         null,
         null,
         null,
         null,
         "200.0",
         "16.0",
         "2.0",
         "11.0"
        ],
        [
         "893",
         "b61d1388a17e3f547d2bc218df02335b",
         null,
         null,
         null,
         null,
         "350.0",
         "16.0",
         "6.0",
         "11.0"
        ],
        [
         "910",
         "b9adb2d8377c195da59e75743dbb7133",
         null,
         null,
         null,
         null,
         "200.0",
         "16.0",
         "2.0",
         "11.0"
        ],
        [
         "955",
         "ceeba7d5636e59173cc5f484e913db3d",
         null,
         null,
         null,
         null,
         "30000.0",
         "65.0",
         "65.0",
         "65.0"
        ],
        [
         "992",
         "7ce49c8945602088c4c4ca3e0ceb8244",
         null,
         null,
         null,
         null,
         "1400.0",
         "35.0",
         "3.0",
         "35.0"
        ],
        [
         "1059",
         "0533c5ec3a042521493cfb6e12d6befd",
         null,
         null,
         null,
         null,
         "1550.0",
         "38.0",
         "4.0",
         "23.0"
        ],
        [
         "1066",
         "9f69acd4da62618a3f6365b732d00ccd",
         null,
         null,
         null,
         null,
         "850.0",
         "27.0",
         "13.0",
         "21.0"
        ],
        [
         "1112",
         "19f3b74026e6ec6c83fc25e21baf454e",
         null,
         null,
         null,
         null,
         "1300.0",
         "52.0",
         "10.0",
         "38.0"
        ],
        [
         "1192",
         "0fa699aaa0a38aa5d1de8e7fe04d2204",
         null,
         null,
         null,
         null,
         "17900.0",
         "48.0",
         "32.0",
         "28.0"
        ],
        [
         "1227",
         "94c07760f470ab9997f27d0129682eb3",
         null,
         null,
         null,
         null,
         "450.0",
         "16.0",
         "20.0",
         "11.0"
        ],
        [
         "1257",
         "3f6f946481fd39f4eda986012f6e0447",
         null,
         null,
         null,
         null,
         "1600.0",
         "38.0",
         "28.0",
         "40.0"
        ],
        [
         "1285",
         "a9d8f831888820cd641dcd5ca9fea4e8",
         null,
         null,
         null,
         null,
         "50.0",
         "16.0",
         "2.0",
         "11.0"
        ],
        [
         "1286",
         "48270bcc7097939dcf14a537d7128054",
         null,
         null,
         null,
         null,
         "1000.0",
         "30.0",
         "30.0",
         "30.0"
        ],
        [
         "1289",
         "b5778c55de68777a0a3565e03b2e2817",
         null,
         null,
         null,
         null,
         "2500.0",
         "26.0",
         "25.0",
         "47.0"
        ],
        [
         "1358",
         "51fe26bc4bb0f89f07096d8c96b35476",
         null,
         null,
         null,
         null,
         "200.0",
         "16.0",
         "2.0",
         "11.0"
        ],
        [
         "1384",
         "9ce62e73b4ea1a6c74b68ba57aa1333b",
         null,
         null,
         null,
         null,
         "1000.0",
         "31.0",
         "21.0",
         "24.0"
        ],
        [
         "1405",
         "fbd2a9aa1f115244e2ce115ad8eacfca",
         null,
         null,
         null,
         null,
         "1200.0",
         "33.0",
         "2.0",
         "27.0"
        ],
        [
         "1453",
         "ab1741a86f20ab3aca7dd2c347d5a9e3",
         null,
         null,
         null,
         null,
         "3600.0",
         "39.0",
         "10.0",
         "35.0"
        ],
        [
         "1480",
         "fa7fc74ae3858461908b3503b355fd5e",
         null,
         null,
         null,
         null,
         "17100.0",
         "42.0",
         "80.0",
         "30.0"
        ],
        [
         "1531",
         "014fcf6bd5cd4c7ee29fb3bb618c445e",
         null,
         null,
         null,
         null,
         "7000.0",
         "55.0",
         "30.0",
         "45.0"
        ],
        [
         "1535",
         "be59f0b9bd1d08d096188f98168fc987",
         null,
         null,
         null,
         null,
         "3550.0",
         "40.0",
         "10.0",
         "40.0"
        ],
        [
         "1557",
         "9f6e8441548dd40516cdb98f1b29c3d5",
         null,
         null,
         null,
         null,
         "2700.0",
         "44.0",
         "13.0",
         "44.0"
        ],
        [
         "1595",
         "d73f1e4ad0322d8442fc9591505381aa",
         null,
         null,
         null,
         null,
         "500.0",
         "35.0",
         "25.0",
         "35.0"
        ],
        [
         "1675",
         "b17a4e7b997ea645dd323bb1bed802ac",
         null,
         null,
         null,
         null,
         "600.0",
         "24.0",
         "4.0",
         "15.0"
        ],
        [
         "1816",
         "8d39a63db6a98e40571f486e0c711cf7",
         null,
         null,
         null,
         null,
         "450.0",
         "16.0",
         "7.0",
         "11.0"
        ],
        [
         "1981",
         "1a1dba78177cbabf00a2e1eab46e62b6",
         null,
         null,
         null,
         null,
         "700.0",
         "35.0",
         "35.0",
         "15.0"
        ]
       ],
       "shape": {
        "columns": 9,
        "rows": 610
       }
      },
      "text/html": [
       "<div>\n",
       "<style scoped>\n",
       "    .dataframe tbody tr th:only-of-type {\n",
       "        vertical-align: middle;\n",
       "    }\n",
       "\n",
       "    .dataframe tbody tr th {\n",
       "        vertical-align: top;\n",
       "    }\n",
       "\n",
       "    .dataframe thead th {\n",
       "        text-align: right;\n",
       "    }\n",
       "</style>\n",
       "<table border=\"1\" class=\"dataframe\">\n",
       "  <thead>\n",
       "    <tr style=\"text-align: right;\">\n",
       "      <th></th>\n",
       "      <th>product_id</th>\n",
       "      <th>product_category_name</th>\n",
       "      <th>product_name_lenght</th>\n",
       "      <th>product_description_lenght</th>\n",
       "      <th>product_photos_qty</th>\n",
       "      <th>product_weight_g</th>\n",
       "      <th>product_length_cm</th>\n",
       "      <th>product_height_cm</th>\n",
       "      <th>product_width_cm</th>\n",
       "    </tr>\n",
       "  </thead>\n",
       "  <tbody>\n",
       "    <tr>\n",
       "      <th>105</th>\n",
       "      <td>a41e356c76fab66334f36de622ecbd3a</td>\n",
       "      <td>NaN</td>\n",
       "      <td>NaN</td>\n",
       "      <td>NaN</td>\n",
       "      <td>NaN</td>\n",
       "      <td>650.0</td>\n",
       "      <td>17.0</td>\n",
       "      <td>14.0</td>\n",
       "      <td>12.0</td>\n",
       "    </tr>\n",
       "    <tr>\n",
       "      <th>128</th>\n",
       "      <td>d8dee61c2034d6d075997acef1870e9b</td>\n",
       "      <td>NaN</td>\n",
       "      <td>NaN</td>\n",
       "      <td>NaN</td>\n",
       "      <td>NaN</td>\n",
       "      <td>300.0</td>\n",
       "      <td>16.0</td>\n",
       "      <td>7.0</td>\n",
       "      <td>20.0</td>\n",
       "    </tr>\n",
       "    <tr>\n",
       "      <th>145</th>\n",
       "      <td>56139431d72cd51f19eb9f7dae4d1617</td>\n",
       "      <td>NaN</td>\n",
       "      <td>NaN</td>\n",
       "      <td>NaN</td>\n",
       "      <td>NaN</td>\n",
       "      <td>200.0</td>\n",
       "      <td>20.0</td>\n",
       "      <td>20.0</td>\n",
       "      <td>20.0</td>\n",
       "    </tr>\n",
       "    <tr>\n",
       "      <th>154</th>\n",
       "      <td>46b48281eb6d663ced748f324108c733</td>\n",
       "      <td>NaN</td>\n",
       "      <td>NaN</td>\n",
       "      <td>NaN</td>\n",
       "      <td>NaN</td>\n",
       "      <td>18500.0</td>\n",
       "      <td>41.0</td>\n",
       "      <td>30.0</td>\n",
       "      <td>41.0</td>\n",
       "    </tr>\n",
       "    <tr>\n",
       "      <th>197</th>\n",
       "      <td>5fb61f482620cb672f5e586bb132eae9</td>\n",
       "      <td>NaN</td>\n",
       "      <td>NaN</td>\n",
       "      <td>NaN</td>\n",
       "      <td>NaN</td>\n",
       "      <td>300.0</td>\n",
       "      <td>35.0</td>\n",
       "      <td>7.0</td>\n",
       "      <td>12.0</td>\n",
       "    </tr>\n",
       "    <tr>\n",
       "      <th>...</th>\n",
       "      <td>...</td>\n",
       "      <td>...</td>\n",
       "      <td>...</td>\n",
       "      <td>...</td>\n",
       "      <td>...</td>\n",
       "      <td>...</td>\n",
       "      <td>...</td>\n",
       "      <td>...</td>\n",
       "      <td>...</td>\n",
       "    </tr>\n",
       "    <tr>\n",
       "      <th>32515</th>\n",
       "      <td>b0a0c5dd78e644373b199380612c350a</td>\n",
       "      <td>NaN</td>\n",
       "      <td>NaN</td>\n",
       "      <td>NaN</td>\n",
       "      <td>NaN</td>\n",
       "      <td>1800.0</td>\n",
       "      <td>30.0</td>\n",
       "      <td>20.0</td>\n",
       "      <td>70.0</td>\n",
       "    </tr>\n",
       "    <tr>\n",
       "      <th>32589</th>\n",
       "      <td>10dbe0fbaa2c505123c17fdc34a63c56</td>\n",
       "      <td>NaN</td>\n",
       "      <td>NaN</td>\n",
       "      <td>NaN</td>\n",
       "      <td>NaN</td>\n",
       "      <td>800.0</td>\n",
       "      <td>30.0</td>\n",
       "      <td>10.0</td>\n",
       "      <td>23.0</td>\n",
       "    </tr>\n",
       "    <tr>\n",
       "      <th>32616</th>\n",
       "      <td>bd2ada37b58ae94cc838b9c0569fecd8</td>\n",
       "      <td>NaN</td>\n",
       "      <td>NaN</td>\n",
       "      <td>NaN</td>\n",
       "      <td>NaN</td>\n",
       "      <td>200.0</td>\n",
       "      <td>21.0</td>\n",
       "      <td>8.0</td>\n",
       "      <td>16.0</td>\n",
       "    </tr>\n",
       "    <tr>\n",
       "      <th>32772</th>\n",
       "      <td>fa51e914046aab32764c41356b9d4ea4</td>\n",
       "      <td>NaN</td>\n",
       "      <td>NaN</td>\n",
       "      <td>NaN</td>\n",
       "      <td>NaN</td>\n",
       "      <td>1300.0</td>\n",
       "      <td>45.0</td>\n",
       "      <td>16.0</td>\n",
       "      <td>45.0</td>\n",
       "    </tr>\n",
       "    <tr>\n",
       "      <th>32852</th>\n",
       "      <td>c4ceee876c82b8328e9c293fa0e1989b</td>\n",
       "      <td>NaN</td>\n",
       "      <td>NaN</td>\n",
       "      <td>NaN</td>\n",
       "      <td>NaN</td>\n",
       "      <td>700.0</td>\n",
       "      <td>28.0</td>\n",
       "      <td>3.0</td>\n",
       "      <td>43.0</td>\n",
       "    </tr>\n",
       "  </tbody>\n",
       "</table>\n",
       "<p>610 rows × 9 columns</p>\n",
       "</div>"
      ],
      "text/plain": [
       "                             product_id product_category_name  \\\n",
       "105    a41e356c76fab66334f36de622ecbd3a                   NaN   \n",
       "128    d8dee61c2034d6d075997acef1870e9b                   NaN   \n",
       "145    56139431d72cd51f19eb9f7dae4d1617                   NaN   \n",
       "154    46b48281eb6d663ced748f324108c733                   NaN   \n",
       "197    5fb61f482620cb672f5e586bb132eae9                   NaN   \n",
       "...                                 ...                   ...   \n",
       "32515  b0a0c5dd78e644373b199380612c350a                   NaN   \n",
       "32589  10dbe0fbaa2c505123c17fdc34a63c56                   NaN   \n",
       "32616  bd2ada37b58ae94cc838b9c0569fecd8                   NaN   \n",
       "32772  fa51e914046aab32764c41356b9d4ea4                   NaN   \n",
       "32852  c4ceee876c82b8328e9c293fa0e1989b                   NaN   \n",
       "\n",
       "       product_name_lenght  product_description_lenght  product_photos_qty  \\\n",
       "105                    NaN                         NaN                 NaN   \n",
       "128                    NaN                         NaN                 NaN   \n",
       "145                    NaN                         NaN                 NaN   \n",
       "154                    NaN                         NaN                 NaN   \n",
       "197                    NaN                         NaN                 NaN   \n",
       "...                    ...                         ...                 ...   \n",
       "32515                  NaN                         NaN                 NaN   \n",
       "32589                  NaN                         NaN                 NaN   \n",
       "32616                  NaN                         NaN                 NaN   \n",
       "32772                  NaN                         NaN                 NaN   \n",
       "32852                  NaN                         NaN                 NaN   \n",
       "\n",
       "       product_weight_g  product_length_cm  product_height_cm  \\\n",
       "105               650.0               17.0               14.0   \n",
       "128               300.0               16.0                7.0   \n",
       "145               200.0               20.0               20.0   \n",
       "154             18500.0               41.0               30.0   \n",
       "197               300.0               35.0                7.0   \n",
       "...                 ...                ...                ...   \n",
       "32515            1800.0               30.0               20.0   \n",
       "32589             800.0               30.0               10.0   \n",
       "32616             200.0               21.0                8.0   \n",
       "32772            1300.0               45.0               16.0   \n",
       "32852             700.0               28.0                3.0   \n",
       "\n",
       "       product_width_cm  \n",
       "105                12.0  \n",
       "128                20.0  \n",
       "145                20.0  \n",
       "154                41.0  \n",
       "197                12.0  \n",
       "...                 ...  \n",
       "32515              70.0  \n",
       "32589              23.0  \n",
       "32616              16.0  \n",
       "32772              45.0  \n",
       "32852              43.0  \n",
       "\n",
       "[610 rows x 9 columns]"
      ]
     },
     "execution_count": 127,
     "metadata": {},
     "output_type": "execute_result"
    }
   ],
   "source": [
    "# Linhas com NaN na coluna 'product_category_name'\n",
    "products[products['product_category_name'].isna()]"
   ]
  },
  {
   "cell_type": "markdown",
   "id": "2272e04d",
   "metadata": {},
   "source": [
    "## Pedidos por produto"
   ]
  },
  {
   "cell_type": "code",
   "execution_count": 17,
   "id": "6f0a019f",
   "metadata": {},
   "outputs": [
    {
     "data": {
      "application/vnd.microsoft.datawrangler.viewer.v0+json": {
       "columns": [
        {
         "name": "index",
         "rawType": "int64",
         "type": "integer"
        },
        {
         "name": "order_id",
         "rawType": "object",
         "type": "string"
        },
        {
         "name": "order_item_id",
         "rawType": "int64",
         "type": "integer"
        },
        {
         "name": "product_id",
         "rawType": "object",
         "type": "string"
        },
        {
         "name": "seller_id",
         "rawType": "object",
         "type": "string"
        },
        {
         "name": "shipping_limit_date",
         "rawType": "object",
         "type": "string"
        },
        {
         "name": "price",
         "rawType": "float64",
         "type": "float"
        },
        {
         "name": "freight_value",
         "rawType": "float64",
         "type": "float"
        }
       ],
       "ref": "77a7820c-e725-489d-bd7e-0df834546017",
       "rows": [
        [
         "0",
         "00010242fe8c5a6d1ba2dd792cb16214",
         "1",
         "4244733e06e7ecb4970a6e2683c13e61",
         "48436dade18ac8b2bce089ec2a041202",
         "2017-09-19 09:45:35",
         "58.9",
         "13.29"
        ],
        [
         "1",
         "00018f77f2f0320c557190d7a144bdd3",
         "1",
         "e5f2d52b802189ee658865ca93d83a8f",
         "dd7ddc04e1b6c2c614352b383efe2d36",
         "2017-05-03 11:05:13",
         "239.9",
         "19.93"
        ],
        [
         "2",
         "000229ec398224ef6ca0657da4fc703e",
         "1",
         "c777355d18b72b67abbeef9df44fd0fd",
         "5b51032eddd242adc84c38acab88f23d",
         "2018-01-18 14:48:30",
         "199.0",
         "17.87"
        ],
        [
         "3",
         "00024acbcdf0a6daa1e931b038114c75",
         "1",
         "7634da152a4610f1595efa32f14722fc",
         "9d7a1d34a5052409006425275ba1c2b4",
         "2018-08-15 10:10:18",
         "12.99",
         "12.79"
        ],
        [
         "4",
         "00042b26cf59d7ce69dfabb4e55b4fd9",
         "1",
         "ac6c3623068f30de03045865e4e10089",
         "df560393f3a51e74553ab94004ba5c87",
         "2017-02-13 13:57:51",
         "199.9",
         "18.14"
        ]
       ],
       "shape": {
        "columns": 7,
        "rows": 5
       }
      },
      "text/html": [
       "<div>\n",
       "<style scoped>\n",
       "    .dataframe tbody tr th:only-of-type {\n",
       "        vertical-align: middle;\n",
       "    }\n",
       "\n",
       "    .dataframe tbody tr th {\n",
       "        vertical-align: top;\n",
       "    }\n",
       "\n",
       "    .dataframe thead th {\n",
       "        text-align: right;\n",
       "    }\n",
       "</style>\n",
       "<table border=\"1\" class=\"dataframe\">\n",
       "  <thead>\n",
       "    <tr style=\"text-align: right;\">\n",
       "      <th></th>\n",
       "      <th>order_id</th>\n",
       "      <th>order_item_id</th>\n",
       "      <th>product_id</th>\n",
       "      <th>seller_id</th>\n",
       "      <th>shipping_limit_date</th>\n",
       "      <th>price</th>\n",
       "      <th>freight_value</th>\n",
       "    </tr>\n",
       "  </thead>\n",
       "  <tbody>\n",
       "    <tr>\n",
       "      <th>0</th>\n",
       "      <td>00010242fe8c5a6d1ba2dd792cb16214</td>\n",
       "      <td>1</td>\n",
       "      <td>4244733e06e7ecb4970a6e2683c13e61</td>\n",
       "      <td>48436dade18ac8b2bce089ec2a041202</td>\n",
       "      <td>2017-09-19 09:45:35</td>\n",
       "      <td>58.90</td>\n",
       "      <td>13.29</td>\n",
       "    </tr>\n",
       "    <tr>\n",
       "      <th>1</th>\n",
       "      <td>00018f77f2f0320c557190d7a144bdd3</td>\n",
       "      <td>1</td>\n",
       "      <td>e5f2d52b802189ee658865ca93d83a8f</td>\n",
       "      <td>dd7ddc04e1b6c2c614352b383efe2d36</td>\n",
       "      <td>2017-05-03 11:05:13</td>\n",
       "      <td>239.90</td>\n",
       "      <td>19.93</td>\n",
       "    </tr>\n",
       "    <tr>\n",
       "      <th>2</th>\n",
       "      <td>000229ec398224ef6ca0657da4fc703e</td>\n",
       "      <td>1</td>\n",
       "      <td>c777355d18b72b67abbeef9df44fd0fd</td>\n",
       "      <td>5b51032eddd242adc84c38acab88f23d</td>\n",
       "      <td>2018-01-18 14:48:30</td>\n",
       "      <td>199.00</td>\n",
       "      <td>17.87</td>\n",
       "    </tr>\n",
       "    <tr>\n",
       "      <th>3</th>\n",
       "      <td>00024acbcdf0a6daa1e931b038114c75</td>\n",
       "      <td>1</td>\n",
       "      <td>7634da152a4610f1595efa32f14722fc</td>\n",
       "      <td>9d7a1d34a5052409006425275ba1c2b4</td>\n",
       "      <td>2018-08-15 10:10:18</td>\n",
       "      <td>12.99</td>\n",
       "      <td>12.79</td>\n",
       "    </tr>\n",
       "    <tr>\n",
       "      <th>4</th>\n",
       "      <td>00042b26cf59d7ce69dfabb4e55b4fd9</td>\n",
       "      <td>1</td>\n",
       "      <td>ac6c3623068f30de03045865e4e10089</td>\n",
       "      <td>df560393f3a51e74553ab94004ba5c87</td>\n",
       "      <td>2017-02-13 13:57:51</td>\n",
       "      <td>199.90</td>\n",
       "      <td>18.14</td>\n",
       "    </tr>\n",
       "  </tbody>\n",
       "</table>\n",
       "</div>"
      ],
      "text/plain": [
       "                           order_id  order_item_id  \\\n",
       "0  00010242fe8c5a6d1ba2dd792cb16214              1   \n",
       "1  00018f77f2f0320c557190d7a144bdd3              1   \n",
       "2  000229ec398224ef6ca0657da4fc703e              1   \n",
       "3  00024acbcdf0a6daa1e931b038114c75              1   \n",
       "4  00042b26cf59d7ce69dfabb4e55b4fd9              1   \n",
       "\n",
       "                         product_id                         seller_id  \\\n",
       "0  4244733e06e7ecb4970a6e2683c13e61  48436dade18ac8b2bce089ec2a041202   \n",
       "1  e5f2d52b802189ee658865ca93d83a8f  dd7ddc04e1b6c2c614352b383efe2d36   \n",
       "2  c777355d18b72b67abbeef9df44fd0fd  5b51032eddd242adc84c38acab88f23d   \n",
       "3  7634da152a4610f1595efa32f14722fc  9d7a1d34a5052409006425275ba1c2b4   \n",
       "4  ac6c3623068f30de03045865e4e10089  df560393f3a51e74553ab94004ba5c87   \n",
       "\n",
       "   shipping_limit_date   price  freight_value  \n",
       "0  2017-09-19 09:45:35   58.90          13.29  \n",
       "1  2017-05-03 11:05:13  239.90          19.93  \n",
       "2  2018-01-18 14:48:30  199.00          17.87  \n",
       "3  2018-08-15 10:10:18   12.99          12.79  \n",
       "4  2017-02-13 13:57:51  199.90          18.14  "
      ]
     },
     "execution_count": 17,
     "metadata": {},
     "output_type": "execute_result"
    }
   ],
   "source": [
    "order_items.head()"
   ]
  },
  {
   "cell_type": "code",
   "execution_count": 134,
   "id": "2dc46a22",
   "metadata": {},
   "outputs": [
    {
     "name": "stdout",
     "output_type": "stream",
     "text": [
      "<class 'pandas.core.frame.DataFrame'>\n",
      "RangeIndex: 112650 entries, 0 to 112649\n",
      "Data columns (total 7 columns):\n",
      " #   Column               Non-Null Count   Dtype  \n",
      "---  ------               --------------   -----  \n",
      " 0   order_id             112650 non-null  object \n",
      " 1   order_item_id        112650 non-null  int64  \n",
      " 2   product_id           112650 non-null  object \n",
      " 3   seller_id            112650 non-null  object \n",
      " 4   shipping_limit_date  112650 non-null  object \n",
      " 5   price                112650 non-null  float64\n",
      " 6   freight_value        112650 non-null  float64\n",
      "dtypes: float64(2), int64(1), object(4)\n",
      "memory usage: 6.0+ MB\n",
      "(112650, 7)\n"
     ]
    }
   ],
   "source": [
    "order_items.info()\n",
    "print(order_items.shape)"
   ]
  },
  {
   "cell_type": "code",
   "execution_count": 137,
   "id": "36e68985",
   "metadata": {},
   "outputs": [
    {
     "name": "stdout",
     "output_type": "stream",
     "text": [
      "Data mínima: 2016-09-19 00:15:34\n",
      "Data máxima: 2020-04-09 22:35:08\n"
     ]
    }
   ],
   "source": [
    "print(\"Data mínima:\", order_items[\"shipping_limit_date\"].min())\n",
    "print(\"Data máxima:\", order_items[\"shipping_limit_date\"].max())"
   ]
  },
  {
   "cell_type": "code",
   "execution_count": null,
   "id": "45497010",
   "metadata": {},
   "outputs": [
    {
     "data": {
      "text/plain": [
       "98666"
      ]
     },
     "execution_count": 190,
     "metadata": {},
     "output_type": "execute_result"
    }
   ],
   "source": [
    "# Possui linhas duplicadas pois a quantidade de order_id é menor que o número de linhas da tabela\n",
    "# Porém, sabe-se que um oder_id pode aparecer mais de uma vez, pois um pedido pode ter mais de um item\n",
    "order_items['order_id'].nunique()"
   ]
  },
  {
   "cell_type": "code",
   "execution_count": 189,
   "id": "64dea404",
   "metadata": {},
   "outputs": [
    {
     "data": {
      "application/vnd.microsoft.datawrangler.viewer.v0+json": {
       "columns": [
        {
         "name": "index",
         "rawType": "object",
         "type": "string"
        },
        {
         "name": "price",
         "rawType": "float64",
         "type": "float"
        },
        {
         "name": "freight_value",
         "rawType": "float64",
         "type": "float"
        }
       ],
       "ref": "96ec7196-a522-4dfc-9bc4-7f54e60d8a8c",
       "rows": [
        [
         "count",
         "112650.0",
         "112650.0"
        ],
        [
         "mean",
         "120.65373901464713",
         "19.990319928983578"
        ],
        [
         "std",
         "183.6339280502594",
         "15.806405412297082"
        ],
        [
         "min",
         "0.85",
         "0.0"
        ],
        [
         "25%",
         "39.9",
         "13.08"
        ],
        [
         "50%",
         "74.99",
         "16.26"
        ],
        [
         "75%",
         "134.9",
         "21.15"
        ],
        [
         "max",
         "6735.0",
         "409.68"
        ]
       ],
       "shape": {
        "columns": 2,
        "rows": 8
       }
      },
      "text/html": [
       "<div>\n",
       "<style scoped>\n",
       "    .dataframe tbody tr th:only-of-type {\n",
       "        vertical-align: middle;\n",
       "    }\n",
       "\n",
       "    .dataframe tbody tr th {\n",
       "        vertical-align: top;\n",
       "    }\n",
       "\n",
       "    .dataframe thead th {\n",
       "        text-align: right;\n",
       "    }\n",
       "</style>\n",
       "<table border=\"1\" class=\"dataframe\">\n",
       "  <thead>\n",
       "    <tr style=\"text-align: right;\">\n",
       "      <th></th>\n",
       "      <th>price</th>\n",
       "      <th>freight_value</th>\n",
       "    </tr>\n",
       "  </thead>\n",
       "  <tbody>\n",
       "    <tr>\n",
       "      <th>count</th>\n",
       "      <td>112650.000000</td>\n",
       "      <td>112650.000000</td>\n",
       "    </tr>\n",
       "    <tr>\n",
       "      <th>mean</th>\n",
       "      <td>120.653739</td>\n",
       "      <td>19.990320</td>\n",
       "    </tr>\n",
       "    <tr>\n",
       "      <th>std</th>\n",
       "      <td>183.633928</td>\n",
       "      <td>15.806405</td>\n",
       "    </tr>\n",
       "    <tr>\n",
       "      <th>min</th>\n",
       "      <td>0.850000</td>\n",
       "      <td>0.000000</td>\n",
       "    </tr>\n",
       "    <tr>\n",
       "      <th>25%</th>\n",
       "      <td>39.900000</td>\n",
       "      <td>13.080000</td>\n",
       "    </tr>\n",
       "    <tr>\n",
       "      <th>50%</th>\n",
       "      <td>74.990000</td>\n",
       "      <td>16.260000</td>\n",
       "    </tr>\n",
       "    <tr>\n",
       "      <th>75%</th>\n",
       "      <td>134.900000</td>\n",
       "      <td>21.150000</td>\n",
       "    </tr>\n",
       "    <tr>\n",
       "      <th>max</th>\n",
       "      <td>6735.000000</td>\n",
       "      <td>409.680000</td>\n",
       "    </tr>\n",
       "  </tbody>\n",
       "</table>\n",
       "</div>"
      ],
      "text/plain": [
       "               price  freight_value\n",
       "count  112650.000000  112650.000000\n",
       "mean      120.653739      19.990320\n",
       "std       183.633928      15.806405\n",
       "min         0.850000       0.000000\n",
       "25%        39.900000      13.080000\n",
       "50%        74.990000      16.260000\n",
       "75%       134.900000      21.150000\n",
       "max      6735.000000     409.680000"
      ]
     },
     "execution_count": 189,
     "metadata": {},
     "output_type": "execute_result"
    }
   ],
   "source": [
    "order_items[['price', 'freight_value']].describe()"
   ]
  },
  {
   "cell_type": "code",
   "execution_count": 152,
   "id": "abc9a3ba",
   "metadata": {},
   "outputs": [
    {
     "data": {
      "application/vnd.microsoft.datawrangler.viewer.v0+json": {
       "columns": [
        {
         "name": "index",
         "rawType": "int64",
         "type": "integer"
        },
        {
         "name": "year_month",
         "rawType": "period[M]",
         "type": "unknown"
        },
        {
         "name": "count_seller",
         "rawType": "int64",
         "type": "integer"
        },
        {
         "name": "count_unique_order",
         "rawType": "int64",
         "type": "integer"
        },
        {
         "name": "count_unique_product",
         "rawType": "int64",
         "type": "integer"
        },
        {
         "name": "gross_revenue",
         "rawType": "float64",
         "type": "float"
        }
       ],
       "ref": "9299e3c8-04af-4cf0-81d3-92c978eb0737",
       "rows": [
        [
         "0",
         "2016-09",
         "2",
         "2",
         "2",
         "194.47"
        ],
        [
         "1",
         "2016-10",
         "143",
         "309",
         "275",
         "49580.55"
        ],
        [
         "2",
         "2016-12",
         "1",
         "1",
         "1",
         "10.9"
        ],
        [
         "3",
         "2017-01",
         "178",
         "573",
         "454",
         "80124.74"
        ],
        [
         "4",
         "2017-02",
         "412",
         "1650",
         "1196",
         "245982.01"
        ],
        [
         "5",
         "2017-03",
         "474",
         "2401",
         "1641",
         "343242.6"
        ],
        [
         "6",
         "2017-04",
         "479",
         "2111",
         "1491",
         "308148.32"
        ],
        [
         "7",
         "2017-05",
         "589",
         "3674",
         "2362",
         "505655.46"
        ],
        [
         "8",
         "2017-06",
         "551",
         "3385",
         "2189",
         "469001.05"
        ],
        [
         "9",
         "2017-07",
         "595",
         "3643",
         "2319",
         "465282.1"
        ],
        [
         "10",
         "2017-08",
         "692",
         "4403",
         "2896",
         "560093.34"
        ],
        [
         "11",
         "2017-09",
         "727",
         "4165",
         "2771",
         "617046.12"
        ],
        [
         "12",
         "2017-10",
         "776",
         "4490",
         "2943",
         "658020.23"
        ],
        [
         "13",
         "2017-11",
         "921",
         "6314",
         "3992",
         "883351.63"
        ],
        [
         "14",
         "2017-12",
         "931",
         "6772",
         "3996",
         "898920.98"
        ],
        [
         "15",
         "2018-01",
         "940",
         "6656",
         "3805",
         "845279.18"
        ],
        [
         "16",
         "2018-02",
         "940",
         "6450",
         "3768",
         "819228.85"
        ],
        [
         "17",
         "2018-03",
         "1006",
         "7636",
         "4338",
         "1030527.84"
        ],
        [
         "18",
         "2018-04",
         "1102",
         "6656",
         "4151",
         "958729.7"
        ],
        [
         "19",
         "2018-05",
         "1160",
         "7572",
         "4349",
         "1084358.55"
        ],
        [
         "20",
         "2018-06",
         "1128",
         "6019",
         "3921",
         "870736.84"
        ],
        [
         "21",
         "2018-07",
         "1199",
         "5922",
         "3935",
         "811132.08"
        ],
        [
         "22",
         "2018-08",
         "1401",
         "7823",
         "5095",
         "1072147.7"
        ],
        [
         "23",
         "2018-09",
         "60",
         "82",
         "82",
         "14502.5"
        ],
        [
         "24",
         "2020-02",
         "1",
         "2",
         "2",
         "145.98"
        ],
        [
         "25",
         "2020-04",
         "1",
         "1",
         "1",
         "199.98"
        ]
       ],
       "shape": {
        "columns": 5,
        "rows": 26
       }
      },
      "text/html": [
       "<div>\n",
       "<style scoped>\n",
       "    .dataframe tbody tr th:only-of-type {\n",
       "        vertical-align: middle;\n",
       "    }\n",
       "\n",
       "    .dataframe tbody tr th {\n",
       "        vertical-align: top;\n",
       "    }\n",
       "\n",
       "    .dataframe thead th {\n",
       "        text-align: right;\n",
       "    }\n",
       "</style>\n",
       "<table border=\"1\" class=\"dataframe\">\n",
       "  <thead>\n",
       "    <tr style=\"text-align: right;\">\n",
       "      <th></th>\n",
       "      <th>year_month</th>\n",
       "      <th>count_seller</th>\n",
       "      <th>count_unique_order</th>\n",
       "      <th>count_unique_product</th>\n",
       "      <th>gross_revenue</th>\n",
       "    </tr>\n",
       "  </thead>\n",
       "  <tbody>\n",
       "    <tr>\n",
       "      <th>0</th>\n",
       "      <td>2016-09</td>\n",
       "      <td>2</td>\n",
       "      <td>2</td>\n",
       "      <td>2</td>\n",
       "      <td>194.47</td>\n",
       "    </tr>\n",
       "    <tr>\n",
       "      <th>1</th>\n",
       "      <td>2016-10</td>\n",
       "      <td>143</td>\n",
       "      <td>309</td>\n",
       "      <td>275</td>\n",
       "      <td>49580.55</td>\n",
       "    </tr>\n",
       "    <tr>\n",
       "      <th>2</th>\n",
       "      <td>2016-12</td>\n",
       "      <td>1</td>\n",
       "      <td>1</td>\n",
       "      <td>1</td>\n",
       "      <td>10.90</td>\n",
       "    </tr>\n",
       "    <tr>\n",
       "      <th>3</th>\n",
       "      <td>2017-01</td>\n",
       "      <td>178</td>\n",
       "      <td>573</td>\n",
       "      <td>454</td>\n",
       "      <td>80124.74</td>\n",
       "    </tr>\n",
       "    <tr>\n",
       "      <th>4</th>\n",
       "      <td>2017-02</td>\n",
       "      <td>412</td>\n",
       "      <td>1650</td>\n",
       "      <td>1196</td>\n",
       "      <td>245982.01</td>\n",
       "    </tr>\n",
       "    <tr>\n",
       "      <th>5</th>\n",
       "      <td>2017-03</td>\n",
       "      <td>474</td>\n",
       "      <td>2401</td>\n",
       "      <td>1641</td>\n",
       "      <td>343242.60</td>\n",
       "    </tr>\n",
       "    <tr>\n",
       "      <th>6</th>\n",
       "      <td>2017-04</td>\n",
       "      <td>479</td>\n",
       "      <td>2111</td>\n",
       "      <td>1491</td>\n",
       "      <td>308148.32</td>\n",
       "    </tr>\n",
       "    <tr>\n",
       "      <th>7</th>\n",
       "      <td>2017-05</td>\n",
       "      <td>589</td>\n",
       "      <td>3674</td>\n",
       "      <td>2362</td>\n",
       "      <td>505655.46</td>\n",
       "    </tr>\n",
       "    <tr>\n",
       "      <th>8</th>\n",
       "      <td>2017-06</td>\n",
       "      <td>551</td>\n",
       "      <td>3385</td>\n",
       "      <td>2189</td>\n",
       "      <td>469001.05</td>\n",
       "    </tr>\n",
       "    <tr>\n",
       "      <th>9</th>\n",
       "      <td>2017-07</td>\n",
       "      <td>595</td>\n",
       "      <td>3643</td>\n",
       "      <td>2319</td>\n",
       "      <td>465282.10</td>\n",
       "    </tr>\n",
       "    <tr>\n",
       "      <th>10</th>\n",
       "      <td>2017-08</td>\n",
       "      <td>692</td>\n",
       "      <td>4403</td>\n",
       "      <td>2896</td>\n",
       "      <td>560093.34</td>\n",
       "    </tr>\n",
       "    <tr>\n",
       "      <th>11</th>\n",
       "      <td>2017-09</td>\n",
       "      <td>727</td>\n",
       "      <td>4165</td>\n",
       "      <td>2771</td>\n",
       "      <td>617046.12</td>\n",
       "    </tr>\n",
       "    <tr>\n",
       "      <th>12</th>\n",
       "      <td>2017-10</td>\n",
       "      <td>776</td>\n",
       "      <td>4490</td>\n",
       "      <td>2943</td>\n",
       "      <td>658020.23</td>\n",
       "    </tr>\n",
       "    <tr>\n",
       "      <th>13</th>\n",
       "      <td>2017-11</td>\n",
       "      <td>921</td>\n",
       "      <td>6314</td>\n",
       "      <td>3992</td>\n",
       "      <td>883351.63</td>\n",
       "    </tr>\n",
       "    <tr>\n",
       "      <th>14</th>\n",
       "      <td>2017-12</td>\n",
       "      <td>931</td>\n",
       "      <td>6772</td>\n",
       "      <td>3996</td>\n",
       "      <td>898920.98</td>\n",
       "    </tr>\n",
       "    <tr>\n",
       "      <th>15</th>\n",
       "      <td>2018-01</td>\n",
       "      <td>940</td>\n",
       "      <td>6656</td>\n",
       "      <td>3805</td>\n",
       "      <td>845279.18</td>\n",
       "    </tr>\n",
       "    <tr>\n",
       "      <th>16</th>\n",
       "      <td>2018-02</td>\n",
       "      <td>940</td>\n",
       "      <td>6450</td>\n",
       "      <td>3768</td>\n",
       "      <td>819228.85</td>\n",
       "    </tr>\n",
       "    <tr>\n",
       "      <th>17</th>\n",
       "      <td>2018-03</td>\n",
       "      <td>1006</td>\n",
       "      <td>7636</td>\n",
       "      <td>4338</td>\n",
       "      <td>1030527.84</td>\n",
       "    </tr>\n",
       "    <tr>\n",
       "      <th>18</th>\n",
       "      <td>2018-04</td>\n",
       "      <td>1102</td>\n",
       "      <td>6656</td>\n",
       "      <td>4151</td>\n",
       "      <td>958729.70</td>\n",
       "    </tr>\n",
       "    <tr>\n",
       "      <th>19</th>\n",
       "      <td>2018-05</td>\n",
       "      <td>1160</td>\n",
       "      <td>7572</td>\n",
       "      <td>4349</td>\n",
       "      <td>1084358.55</td>\n",
       "    </tr>\n",
       "    <tr>\n",
       "      <th>20</th>\n",
       "      <td>2018-06</td>\n",
       "      <td>1128</td>\n",
       "      <td>6019</td>\n",
       "      <td>3921</td>\n",
       "      <td>870736.84</td>\n",
       "    </tr>\n",
       "    <tr>\n",
       "      <th>21</th>\n",
       "      <td>2018-07</td>\n",
       "      <td>1199</td>\n",
       "      <td>5922</td>\n",
       "      <td>3935</td>\n",
       "      <td>811132.08</td>\n",
       "    </tr>\n",
       "    <tr>\n",
       "      <th>22</th>\n",
       "      <td>2018-08</td>\n",
       "      <td>1401</td>\n",
       "      <td>7823</td>\n",
       "      <td>5095</td>\n",
       "      <td>1072147.70</td>\n",
       "    </tr>\n",
       "    <tr>\n",
       "      <th>23</th>\n",
       "      <td>2018-09</td>\n",
       "      <td>60</td>\n",
       "      <td>82</td>\n",
       "      <td>82</td>\n",
       "      <td>14502.50</td>\n",
       "    </tr>\n",
       "    <tr>\n",
       "      <th>24</th>\n",
       "      <td>2020-02</td>\n",
       "      <td>1</td>\n",
       "      <td>2</td>\n",
       "      <td>2</td>\n",
       "      <td>145.98</td>\n",
       "    </tr>\n",
       "    <tr>\n",
       "      <th>25</th>\n",
       "      <td>2020-04</td>\n",
       "      <td>1</td>\n",
       "      <td>1</td>\n",
       "      <td>1</td>\n",
       "      <td>199.98</td>\n",
       "    </tr>\n",
       "  </tbody>\n",
       "</table>\n",
       "</div>"
      ],
      "text/plain": [
       "   year_month  count_seller  count_unique_order  count_unique_product  \\\n",
       "0     2016-09             2                   2                     2   \n",
       "1     2016-10           143                 309                   275   \n",
       "2     2016-12             1                   1                     1   \n",
       "3     2017-01           178                 573                   454   \n",
       "4     2017-02           412                1650                  1196   \n",
       "5     2017-03           474                2401                  1641   \n",
       "6     2017-04           479                2111                  1491   \n",
       "7     2017-05           589                3674                  2362   \n",
       "8     2017-06           551                3385                  2189   \n",
       "9     2017-07           595                3643                  2319   \n",
       "10    2017-08           692                4403                  2896   \n",
       "11    2017-09           727                4165                  2771   \n",
       "12    2017-10           776                4490                  2943   \n",
       "13    2017-11           921                6314                  3992   \n",
       "14    2017-12           931                6772                  3996   \n",
       "15    2018-01           940                6656                  3805   \n",
       "16    2018-02           940                6450                  3768   \n",
       "17    2018-03          1006                7636                  4338   \n",
       "18    2018-04          1102                6656                  4151   \n",
       "19    2018-05          1160                7572                  4349   \n",
       "20    2018-06          1128                6019                  3921   \n",
       "21    2018-07          1199                5922                  3935   \n",
       "22    2018-08          1401                7823                  5095   \n",
       "23    2018-09            60                  82                    82   \n",
       "24    2020-02             1                   2                     2   \n",
       "25    2020-04             1                   1                     1   \n",
       "\n",
       "    gross_revenue  \n",
       "0          194.47  \n",
       "1        49580.55  \n",
       "2           10.90  \n",
       "3        80124.74  \n",
       "4       245982.01  \n",
       "5       343242.60  \n",
       "6       308148.32  \n",
       "7       505655.46  \n",
       "8       469001.05  \n",
       "9       465282.10  \n",
       "10      560093.34  \n",
       "11      617046.12  \n",
       "12      658020.23  \n",
       "13      883351.63  \n",
       "14      898920.98  \n",
       "15      845279.18  \n",
       "16      819228.85  \n",
       "17     1030527.84  \n",
       "18      958729.70  \n",
       "19     1084358.55  \n",
       "20      870736.84  \n",
       "21      811132.08  \n",
       "22     1072147.70  \n",
       "23       14502.50  \n",
       "24         145.98  \n",
       "25         199.98  "
      ]
     },
     "execution_count": 152,
     "metadata": {},
     "output_type": "execute_result"
    }
   ],
   "source": [
    "# Quantos produtos são vendidos por mês e qual a receita bruta?\n",
    "order_items['shipping_limit_date'] = pd.to_datetime(order_items['shipping_limit_date'])\n",
    "order_items['year_month'] = order_items['shipping_limit_date'].dt.to_period('M')\n",
    "\n",
    "produtos_vendidos_por_mes = (\n",
    "    order_items\n",
    "    .groupby('year_month')\n",
    "    .agg(\n",
    "        count_seller = ('seller_id', 'nunique'),\n",
    "        count_unique_order = ('order_id', 'nunique'),\n",
    "        count_unique_product = ('product_id', 'nunique'),\n",
    "        gross_revenue = ('price', 'sum')\n",
    "    )\n",
    "    .reset_index()\n",
    "    .sort_values(by='year_month')\n",
    ")\n",
    "\n",
    "produtos_vendidos_por_mes"
   ]
  },
  {
   "cell_type": "code",
   "execution_count": 160,
   "id": "e6b0c91b",
   "metadata": {},
   "outputs": [
    {
     "data": {
      "image/png": "[encoded data removed]",
      "text/plain": [
       "<Figure size 1500x600 with 1 Axes>"
      ]
     },
     "metadata": {},
     "output_type": "display_data"
    }
   ],
   "source": [
    "# Gráfico da receita bruta ao longo dos meses\n",
    "y = produtos_vendidos_por_mes['gross_revenue'].values\n",
    "x = produtos_vendidos_por_mes['year_month'].astype(str).values\n",
    "\n",
    "plt.figure(figsize=(15,6))\n",
    "plt.plot(x, y)\n",
    "plt.scatter(x, y, s=50)\n",
    "plt.xlabel('')\n",
    "plt.ylabel('Receita Bruta')\n",
    "plt.title('Receita Bruta por mês')\n",
    "plt.xticks(rotation=45)\n",
    "plt.tight_layout()\n",
    "plt.show()"
   ]
  },
  {
   "cell_type": "code",
   "execution_count": 161,
   "id": "5c3cec88",
   "metadata": {},
   "outputs": [
    {
     "data": {
      "image/png": "[encoded data removed]",
      "text/plain": [
       "<Figure size 1500x600 with 1 Axes>"
      ]
     },
     "metadata": {},
     "output_type": "display_data"
    }
   ],
   "source": [
    "# Gráfico do número de vendedores ao longo dos meses\n",
    "y = produtos_vendidos_por_mes['count_seller'].values\n",
    "x = produtos_vendidos_por_mes['year_month'].astype(str).values\n",
    "\n",
    "plt.figure(figsize=(15,6))\n",
    "plt.plot(x, y)\n",
    "plt.scatter(x, y, s=50)\n",
    "plt.xlabel('')\n",
    "plt.ylabel('# Vendedores')\n",
    "plt.title('# Vendedores por mês')\n",
    "plt.xticks(rotation=45)\n",
    "plt.tight_layout()\n",
    "plt.show()"
   ]
  },
  {
   "cell_type": "code",
   "execution_count": 162,
   "id": "2cf27a2c",
   "metadata": {},
   "outputs": [
    {
     "data": {
      "image/png": "[encoded data removed]",
      "text/plain": [
       "<Figure size 1500x600 with 1 Axes>"
      ]
     },
     "metadata": {},
     "output_type": "display_data"
    }
   ],
   "source": [
    "# Gráfico do número de pedidos ao longo dos meses\n",
    "y = produtos_vendidos_por_mes['count_unique_order'].values\n",
    "x = produtos_vendidos_por_mes['year_month'].astype(str).values\n",
    "\n",
    "plt.figure(figsize=(15,6))\n",
    "plt.plot(x, y)\n",
    "plt.scatter(x, y, s=50)\n",
    "plt.xlabel('')\n",
    "plt.ylabel('# Pedidos')\n",
    "plt.title('# Pedidos por mês')\n",
    "plt.xticks(rotation=45)\n",
    "plt.tight_layout()\n",
    "plt.show()"
   ]
  },
  {
   "cell_type": "markdown",
   "id": "e159fd79",
   "metadata": {},
   "source": [
    "## Pagamentos dos pedidos"
   ]
  },
  {
   "cell_type": "code",
   "execution_count": 19,
   "id": "31e57b1b",
   "metadata": {},
   "outputs": [
    {
     "data": {
      "application/vnd.microsoft.datawrangler.viewer.v0+json": {
       "columns": [
        {
         "name": "index",
         "rawType": "int64",
         "type": "integer"
        },
        {
         "name": "order_id",
         "rawType": "object",
         "type": "string"
        },
        {
         "name": "payment_sequential",
         "rawType": "int64",
         "type": "integer"
        },
        {
         "name": "payment_type",
         "rawType": "object",
         "type": "string"
        },
        {
         "name": "payment_installments",
         "rawType": "int64",
         "type": "integer"
        },
        {
         "name": "payment_value",
         "rawType": "float64",
         "type": "float"
        }
       ],
       "ref": "6d5f0267-511c-4088-98f2-1183d715ba9c",
       "rows": [
        [
         "0",
         "b81ef226f3fe1789b1e8b2acac839d17",
         "1",
         "credit_card",
         "8",
         "99.33"
        ],
        [
         "1",
         "a9810da82917af2d9aefd1278f1dcfa0",
         "1",
         "credit_card",
         "1",
         "24.39"
        ],
        [
         "2",
         "25e8ea4e93396b6fa0d3dd708e76c1bd",
         "1",
         "credit_card",
         "1",
         "65.71"
        ],
        [
         "3",
         "ba78997921bbcdc1373bb41e913ab953",
         "1",
         "credit_card",
         "8",
         "107.78"
        ],
        [
         "4",
         "42fdf880ba16b47b59251dd489d4441a",
         "1",
         "credit_card",
         "2",
         "128.45"
        ]
       ],
       "shape": {
        "columns": 5,
        "rows": 5
       }
      },
      "text/html": [
       "<div>\n",
       "<style scoped>\n",
       "    .dataframe tbody tr th:only-of-type {\n",
       "        vertical-align: middle;\n",
       "    }\n",
       "\n",
       "    .dataframe tbody tr th {\n",
       "        vertical-align: top;\n",
       "    }\n",
       "\n",
       "    .dataframe thead th {\n",
       "        text-align: right;\n",
       "    }\n",
       "</style>\n",
       "<table border=\"1\" class=\"dataframe\">\n",
       "  <thead>\n",
       "    <tr style=\"text-align: right;\">\n",
       "      <th></th>\n",
       "      <th>order_id</th>\n",
       "      <th>payment_sequential</th>\n",
       "      <th>payment_type</th>\n",
       "      <th>payment_installments</th>\n",
       "      <th>payment_value</th>\n",
       "    </tr>\n",
       "  </thead>\n",
       "  <tbody>\n",
       "    <tr>\n",
       "      <th>0</th>\n",
       "      <td>b81ef226f3fe1789b1e8b2acac839d17</td>\n",
       "      <td>1</td>\n",
       "      <td>credit_card</td>\n",
       "      <td>8</td>\n",
       "      <td>99.33</td>\n",
       "    </tr>\n",
       "    <tr>\n",
       "      <th>1</th>\n",
       "      <td>a9810da82917af2d9aefd1278f1dcfa0</td>\n",
       "      <td>1</td>\n",
       "      <td>credit_card</td>\n",
       "      <td>1</td>\n",
       "      <td>24.39</td>\n",
       "    </tr>\n",
       "    <tr>\n",
       "      <th>2</th>\n",
       "      <td>25e8ea4e93396b6fa0d3dd708e76c1bd</td>\n",
       "      <td>1</td>\n",
       "      <td>credit_card</td>\n",
       "      <td>1</td>\n",
       "      <td>65.71</td>\n",
       "    </tr>\n",
       "    <tr>\n",
       "      <th>3</th>\n",
       "      <td>ba78997921bbcdc1373bb41e913ab953</td>\n",
       "      <td>1</td>\n",
       "      <td>credit_card</td>\n",
       "      <td>8</td>\n",
       "      <td>107.78</td>\n",
       "    </tr>\n",
       "    <tr>\n",
       "      <th>4</th>\n",
       "      <td>42fdf880ba16b47b59251dd489d4441a</td>\n",
       "      <td>1</td>\n",
       "      <td>credit_card</td>\n",
       "      <td>2</td>\n",
       "      <td>128.45</td>\n",
       "    </tr>\n",
       "  </tbody>\n",
       "</table>\n",
       "</div>"
      ],
      "text/plain": [
       "                           order_id  payment_sequential payment_type  \\\n",
       "0  b81ef226f3fe1789b1e8b2acac839d17                   1  credit_card   \n",
       "1  a9810da82917af2d9aefd1278f1dcfa0                   1  credit_card   \n",
       "2  25e8ea4e93396b6fa0d3dd708e76c1bd                   1  credit_card   \n",
       "3  ba78997921bbcdc1373bb41e913ab953                   1  credit_card   \n",
       "4  42fdf880ba16b47b59251dd489d4441a                   1  credit_card   \n",
       "\n",
       "   payment_installments  payment_value  \n",
       "0                     8          99.33  \n",
       "1                     1          24.39  \n",
       "2                     1          65.71  \n",
       "3                     8         107.78  \n",
       "4                     2         128.45  "
      ]
     },
     "execution_count": 19,
     "metadata": {},
     "output_type": "execute_result"
    }
   ],
   "source": [
    "order_payments.head()"
   ]
  },
  {
   "cell_type": "code",
   "execution_count": 21,
   "id": "706c76ea",
   "metadata": {},
   "outputs": [
    {
     "name": "stdout",
     "output_type": "stream",
     "text": [
      "<class 'pandas.core.frame.DataFrame'>\n",
      "RangeIndex: 103886 entries, 0 to 103885\n",
      "Data columns (total 5 columns):\n",
      " #   Column                Non-Null Count   Dtype  \n",
      "---  ------                --------------   -----  \n",
      " 0   order_id              103886 non-null  object \n",
      " 1   payment_sequential    103886 non-null  int64  \n",
      " 2   payment_type          103886 non-null  object \n",
      " 3   payment_installments  103886 non-null  int64  \n",
      " 4   payment_value         103886 non-null  float64\n",
      "dtypes: float64(1), int64(2), object(2)\n",
      "memory usage: 4.0+ MB\n",
      "(103886, 5)\n"
     ]
    }
   ],
   "source": [
    "order_payments.info()\n",
    "print(order_payments.shape)"
   ]
  },
  {
   "cell_type": "code",
   "execution_count": 163,
   "id": "4c60739f",
   "metadata": {},
   "outputs": [
    {
     "data": {
      "application/vnd.microsoft.datawrangler.viewer.v0+json": {
       "columns": [
        {
         "name": "index",
         "rawType": "int64",
         "type": "integer"
        },
        {
         "name": "payment_type",
         "rawType": "object",
         "type": "string"
        },
        {
         "name": "total",
         "rawType": "float64",
         "type": "float"
        },
        {
         "name": "proportion",
         "rawType": "float64",
         "type": "float"
        }
       ],
       "ref": "88a7c1b5-43fb-4740-8e5a-30707ff33491",
       "rows": [
        [
         "1",
         "credit_card",
         "12542084.19",
         "78.3"
        ],
        [
         "0",
         "boleto",
         "2869361.27",
         "17.9"
        ],
        [
         "4",
         "voucher",
         "379436.87",
         "2.4"
        ],
        [
         "2",
         "debit_card",
         "217989.79",
         "1.4"
        ],
        [
         "3",
         "not_defined",
         "0.0",
         "0.0"
        ]
       ],
       "shape": {
        "columns": 3,
        "rows": 5
       }
      },
      "text/html": [
       "<div>\n",
       "<style scoped>\n",
       "    .dataframe tbody tr th:only-of-type {\n",
       "        vertical-align: middle;\n",
       "    }\n",
       "\n",
       "    .dataframe tbody tr th {\n",
       "        vertical-align: top;\n",
       "    }\n",
       "\n",
       "    .dataframe thead th {\n",
       "        text-align: right;\n",
       "    }\n",
       "</style>\n",
       "<table border=\"1\" class=\"dataframe\">\n",
       "  <thead>\n",
       "    <tr style=\"text-align: right;\">\n",
       "      <th></th>\n",
       "      <th>payment_type</th>\n",
       "      <th>total</th>\n",
       "      <th>proportion</th>\n",
       "    </tr>\n",
       "  </thead>\n",
       "  <tbody>\n",
       "    <tr>\n",
       "      <th>1</th>\n",
       "      <td>credit_card</td>\n",
       "      <td>12542084.19</td>\n",
       "      <td>78.3</td>\n",
       "    </tr>\n",
       "    <tr>\n",
       "      <th>0</th>\n",
       "      <td>boleto</td>\n",
       "      <td>2869361.27</td>\n",
       "      <td>17.9</td>\n",
       "    </tr>\n",
       "    <tr>\n",
       "      <th>4</th>\n",
       "      <td>voucher</td>\n",
       "      <td>379436.87</td>\n",
       "      <td>2.4</td>\n",
       "    </tr>\n",
       "    <tr>\n",
       "      <th>2</th>\n",
       "      <td>debit_card</td>\n",
       "      <td>217989.79</td>\n",
       "      <td>1.4</td>\n",
       "    </tr>\n",
       "    <tr>\n",
       "      <th>3</th>\n",
       "      <td>not_defined</td>\n",
       "      <td>0.00</td>\n",
       "      <td>0.0</td>\n",
       "    </tr>\n",
       "  </tbody>\n",
       "</table>\n",
       "</div>"
      ],
      "text/plain": [
       "  payment_type        total  proportion\n",
       "1  credit_card  12542084.19        78.3\n",
       "0       boleto   2869361.27        17.9\n",
       "4      voucher    379436.87         2.4\n",
       "2   debit_card    217989.79         1.4\n",
       "3  not_defined         0.00         0.0"
      ]
     },
     "execution_count": 163,
     "metadata": {},
     "output_type": "execute_result"
    }
   ],
   "source": [
    "# Percentual de produtos por categoria\n",
    "order_payments_category = (\n",
    "    order_payments\n",
    "    .groupby([\"payment_type\"])\n",
    "    .agg(total = (\"payment_value\", \"sum\"))\n",
    "    .reset_index()\n",
    ")\n",
    "order_payments_category[\"proportion\"] = round(order_payments_category[\"total\"] / order_payments_category[\"total\"].sum() * 100, 1)\n",
    "order_payments_category = order_payments_category.sort_values(by=\"total\", ascending=False)\n",
    "order_payments_category"
   ]
  },
  {
   "cell_type": "code",
   "execution_count": 167,
   "id": "99fb064a",
   "metadata": {},
   "outputs": [
    {
     "data": {
      "text/plain": [
       "<Axes: title={'center': 'Distribuição de pagamentos por categoria'}, ylabel='% pagamento'>"
      ]
     },
     "execution_count": 167,
     "metadata": {},
     "output_type": "execute_result"
    },
    {
     "data": {
      "image/png": "[encoded data removed]",
      "text/plain": [
       "<Figure size 1000x600 with 1 Axes>"
      ]
     },
     "metadata": {},
     "output_type": "display_data"
    }
   ],
   "source": [
    "# Gráfico de barras do valor dos pagamentos por categoria\n",
    "order_payments_category.plot(\n",
    "    x='payment_type',\n",
    "    y='proportion',\n",
    "    kind='bar',\n",
    "    figsize=(10,6),\n",
    "    xlabel='',\n",
    "    ylabel='% pagamento',\n",
    "    title='Distribuição de pagamentos por categoria',\n",
    "    legend=False\n",
    ")"
   ]
  },
  {
   "cell_type": "markdown",
   "id": "07844347",
   "metadata": {},
   "source": [
    "## Pedidos por status"
   ]
  },
  {
   "cell_type": "code",
   "execution_count": 38,
   "id": "5efd9d30",
   "metadata": {},
   "outputs": [
    {
     "data": {
      "application/vnd.microsoft.datawrangler.viewer.v0+json": {
       "columns": [
        {
         "name": "index",
         "rawType": "int64",
         "type": "integer"
        },
        {
         "name": "order_id",
         "rawType": "object",
         "type": "string"
        },
        {
         "name": "customer_id",
         "rawType": "object",
         "type": "string"
        },
        {
         "name": "order_status",
         "rawType": "object",
         "type": "string"
        },
        {
         "name": "order_purchase_timestamp",
         "rawType": "object",
         "type": "string"
        },
        {
         "name": "order_approved_at",
         "rawType": "object",
         "type": "string"
        },
        {
         "name": "order_delivered_carrier_date",
         "rawType": "object",
         "type": "string"
        },
        {
         "name": "order_delivered_customer_date",
         "rawType": "object",
         "type": "string"
        },
        {
         "name": "order_estimated_delivery_date",
         "rawType": "object",
         "type": "string"
        }
       ],
       "ref": "03b399ef-48ec-45da-9009-dbfa69ff45be",
       "rows": [
        [
         "0",
         "e481f51cbdc54678b7cc49136f2d6af7",
         "9ef432eb6251297304e76186b10a928d",
         "delivered",
         "2017-10-02 10:56:33",
         "2017-10-02 11:07:15",
         "2017-10-04 19:55:00",
         "2017-10-10 21:25:13",
         "2017-10-18 00:00:00"
        ],
        [
         "1",
         "53cdb2fc8bc7dce0b6741e2150273451",
         "b0830fb4747a6c6d20dea0b8c802d7ef",
         "delivered",
         "2018-07-24 20:41:37",
         "2018-07-26 03:24:27",
         "2018-07-26 14:31:00",
         "2018-08-07 15:27:45",
         "2018-08-13 00:00:00"
        ],
        [
         "2",
         "47770eb9100c2d0c44946d9cf07ec65d",
         "41ce2a54c0b03bf3443c3d931a367089",
         "delivered",
         "2018-08-08 08:38:49",
         "2018-08-08 08:55:23",
         "2018-08-08 13:50:00",
         "2018-08-17 18:06:29",
         "2018-09-04 00:00:00"
        ],
        [
         "3",
         "949d5b44dbf5de918fe9c16f97b45f8a",
         "f88197465ea7920adcdbec7375364d82",
         "delivered",
         "2017-11-18 19:28:06",
         "2017-11-18 19:45:59",
         "2017-11-22 13:39:59",
         "2017-12-02 00:28:42",
         "2017-12-15 00:00:00"
        ],
        [
         "4",
         "ad21c59c0840e6cb83a9ceb5573f8159",
         "8ab97904e6daea8866dbdbc4fb7aad2c",
         "delivered",
         "2018-02-13 21:18:39",
         "2018-02-13 22:20:29",
         "2018-02-14 19:46:34",
         "2018-02-16 18:17:02",
         "2018-02-26 00:00:00"
        ]
       ],
       "shape": {
        "columns": 8,
        "rows": 5
       }
      },
      "text/html": [
       "<div>\n",
       "<style scoped>\n",
       "    .dataframe tbody tr th:only-of-type {\n",
       "        vertical-align: middle;\n",
       "    }\n",
       "\n",
       "    .dataframe tbody tr th {\n",
       "        vertical-align: top;\n",
       "    }\n",
       "\n",
       "    .dataframe thead th {\n",
       "        text-align: right;\n",
       "    }\n",
       "</style>\n",
       "<table border=\"1\" class=\"dataframe\">\n",
       "  <thead>\n",
       "    <tr style=\"text-align: right;\">\n",
       "      <th></th>\n",
       "      <th>order_id</th>\n",
       "      <th>customer_id</th>\n",
       "      <th>order_status</th>\n",
       "      <th>order_purchase_timestamp</th>\n",
       "      <th>order_approved_at</th>\n",
       "      <th>order_delivered_carrier_date</th>\n",
       "      <th>order_delivered_customer_date</th>\n",
       "      <th>order_estimated_delivery_date</th>\n",
       "    </tr>\n",
       "  </thead>\n",
       "  <tbody>\n",
       "    <tr>\n",
       "      <th>0</th>\n",
       "      <td>e481f51cbdc54678b7cc49136f2d6af7</td>\n",
       "      <td>9ef432eb6251297304e76186b10a928d</td>\n",
       "      <td>delivered</td>\n",
       "      <td>2017-10-02 10:56:33</td>\n",
       "      <td>2017-10-02 11:07:15</td>\n",
       "      <td>2017-10-04 19:55:00</td>\n",
       "      <td>2017-10-10 21:25:13</td>\n",
       "      <td>2017-10-18 00:00:00</td>\n",
       "    </tr>\n",
       "    <tr>\n",
       "      <th>1</th>\n",
       "      <td>53cdb2fc8bc7dce0b6741e2150273451</td>\n",
       "      <td>b0830fb4747a6c6d20dea0b8c802d7ef</td>\n",
       "      <td>delivered</td>\n",
       "      <td>2018-07-24 20:41:37</td>\n",
       "      <td>2018-07-26 03:24:27</td>\n",
       "      <td>2018-07-26 14:31:00</td>\n",
       "      <td>2018-08-07 15:27:45</td>\n",
       "      <td>2018-08-13 00:00:00</td>\n",
       "    </tr>\n",
       "    <tr>\n",
       "      <th>2</th>\n",
       "      <td>47770eb9100c2d0c44946d9cf07ec65d</td>\n",
       "      <td>41ce2a54c0b03bf3443c3d931a367089</td>\n",
       "      <td>delivered</td>\n",
       "      <td>2018-08-08 08:38:49</td>\n",
       "      <td>2018-08-08 08:55:23</td>\n",
       "      <td>2018-08-08 13:50:00</td>\n",
       "      <td>2018-08-17 18:06:29</td>\n",
       "      <td>2018-09-04 00:00:00</td>\n",
       "    </tr>\n",
       "    <tr>\n",
       "      <th>3</th>\n",
       "      <td>949d5b44dbf5de918fe9c16f97b45f8a</td>\n",
       "      <td>f88197465ea7920adcdbec7375364d82</td>\n",
       "      <td>delivered</td>\n",
       "      <td>2017-11-18 19:28:06</td>\n",
       "      <td>2017-11-18 19:45:59</td>\n",
       "      <td>2017-11-22 13:39:59</td>\n",
       "      <td>2017-12-02 00:28:42</td>\n",
       "      <td>2017-12-15 00:00:00</td>\n",
       "    </tr>\n",
       "    <tr>\n",
       "      <th>4</th>\n",
       "      <td>ad21c59c0840e6cb83a9ceb5573f8159</td>\n",
       "      <td>8ab97904e6daea8866dbdbc4fb7aad2c</td>\n",
       "      <td>delivered</td>\n",
       "      <td>2018-02-13 21:18:39</td>\n",
       "      <td>2018-02-13 22:20:29</td>\n",
       "      <td>2018-02-14 19:46:34</td>\n",
       "      <td>2018-02-16 18:17:02</td>\n",
       "      <td>2018-02-26 00:00:00</td>\n",
       "    </tr>\n",
       "  </tbody>\n",
       "</table>\n",
       "</div>"
      ],
      "text/plain": [
       "                           order_id                       customer_id  \\\n",
       "0  e481f51cbdc54678b7cc49136f2d6af7  9ef432eb6251297304e76186b10a928d   \n",
       "1  53cdb2fc8bc7dce0b6741e2150273451  b0830fb4747a6c6d20dea0b8c802d7ef   \n",
       "2  47770eb9100c2d0c44946d9cf07ec65d  41ce2a54c0b03bf3443c3d931a367089   \n",
       "3  949d5b44dbf5de918fe9c16f97b45f8a  f88197465ea7920adcdbec7375364d82   \n",
       "4  ad21c59c0840e6cb83a9ceb5573f8159  8ab97904e6daea8866dbdbc4fb7aad2c   \n",
       "\n",
       "  order_status order_purchase_timestamp    order_approved_at  \\\n",
       "0    delivered      2017-10-02 10:56:33  2017-10-02 11:07:15   \n",
       "1    delivered      2018-07-24 20:41:37  2018-07-26 03:24:27   \n",
       "2    delivered      2018-08-08 08:38:49  2018-08-08 08:55:23   \n",
       "3    delivered      2017-11-18 19:28:06  2017-11-18 19:45:59   \n",
       "4    delivered      2018-02-13 21:18:39  2018-02-13 22:20:29   \n",
       "\n",
       "  order_delivered_carrier_date order_delivered_customer_date  \\\n",
       "0          2017-10-04 19:55:00           2017-10-10 21:25:13   \n",
       "1          2018-07-26 14:31:00           2018-08-07 15:27:45   \n",
       "2          2018-08-08 13:50:00           2018-08-17 18:06:29   \n",
       "3          2017-11-22 13:39:59           2017-12-02 00:28:42   \n",
       "4          2018-02-14 19:46:34           2018-02-16 18:17:02   \n",
       "\n",
       "  order_estimated_delivery_date  \n",
       "0           2017-10-18 00:00:00  \n",
       "1           2018-08-13 00:00:00  \n",
       "2           2018-09-04 00:00:00  \n",
       "3           2017-12-15 00:00:00  \n",
       "4           2018-02-26 00:00:00  "
      ]
     },
     "execution_count": 38,
     "metadata": {},
     "output_type": "execute_result"
    }
   ],
   "source": [
    "orders.head()"
   ]
  },
  {
   "cell_type": "code",
   "execution_count": 39,
   "id": "ab1372d5",
   "metadata": {},
   "outputs": [
    {
     "name": "stdout",
     "output_type": "stream",
     "text": [
      "<class 'pandas.core.frame.DataFrame'>\n",
      "RangeIndex: 99441 entries, 0 to 99440\n",
      "Data columns (total 8 columns):\n",
      " #   Column                         Non-Null Count  Dtype \n",
      "---  ------                         --------------  ----- \n",
      " 0   order_id                       99441 non-null  object\n",
      " 1   customer_id                    99441 non-null  object\n",
      " 2   order_status                   99441 non-null  object\n",
      " 3   order_purchase_timestamp       99441 non-null  object\n",
      " 4   order_approved_at              99281 non-null  object\n",
      " 5   order_delivered_carrier_date   97658 non-null  object\n",
      " 6   order_delivered_customer_date  96476 non-null  object\n",
      " 7   order_estimated_delivery_date  99441 non-null  object\n",
      "dtypes: object(8)\n",
      "memory usage: 6.1+ MB\n",
      "(99441, 8)\n"
     ]
    }
   ],
   "source": [
    "orders.info()\n",
    "print(orders.shape)"
   ]
  },
  {
   "cell_type": "code",
   "execution_count": 186,
   "id": "44b9bfe0",
   "metadata": {},
   "outputs": [
    {
     "data": {
      "text/plain": [
       "99441"
      ]
     },
     "execution_count": 186,
     "metadata": {},
     "output_type": "execute_result"
    }
   ],
   "source": [
    "orders['order_id'].nunique()"
   ]
  },
  {
   "cell_type": "code",
   "execution_count": 170,
   "id": "a032bd90",
   "metadata": {},
   "outputs": [
    {
     "data": {
      "application/vnd.microsoft.datawrangler.viewer.v0+json": {
       "columns": [
        {
         "name": "index",
         "rawType": "int64",
         "type": "integer"
        },
        {
         "name": "order_status",
         "rawType": "object",
         "type": "string"
        },
        {
         "name": "count",
         "rawType": "int64",
         "type": "integer"
        },
        {
         "name": "proportion",
         "rawType": "float64",
         "type": "float"
        }
       ],
       "ref": "440398aa-57e0-4c51-a965-10cc559f3446",
       "rows": [
        [
         "3",
         "delivered",
         "96478",
         "97.0"
        ],
        [
         "6",
         "shipped",
         "1107",
         "1.1"
        ],
        [
         "1",
         "canceled",
         "625",
         "0.6"
        ],
        [
         "7",
         "unavailable",
         "609",
         "0.6"
        ],
        [
         "4",
         "invoiced",
         "314",
         "0.3"
        ],
        [
         "5",
         "processing",
         "301",
         "0.3"
        ],
        [
         "2",
         "created",
         "5",
         "0.0"
        ],
        [
         "0",
         "approved",
         "2",
         "0.0"
        ]
       ],
       "shape": {
        "columns": 3,
        "rows": 8
       }
      },
      "text/html": [
       "<div>\n",
       "<style scoped>\n",
       "    .dataframe tbody tr th:only-of-type {\n",
       "        vertical-align: middle;\n",
       "    }\n",
       "\n",
       "    .dataframe tbody tr th {\n",
       "        vertical-align: top;\n",
       "    }\n",
       "\n",
       "    .dataframe thead th {\n",
       "        text-align: right;\n",
       "    }\n",
       "</style>\n",
       "<table border=\"1\" class=\"dataframe\">\n",
       "  <thead>\n",
       "    <tr style=\"text-align: right;\">\n",
       "      <th></th>\n",
       "      <th>order_status</th>\n",
       "      <th>count</th>\n",
       "      <th>proportion</th>\n",
       "    </tr>\n",
       "  </thead>\n",
       "  <tbody>\n",
       "    <tr>\n",
       "      <th>3</th>\n",
       "      <td>delivered</td>\n",
       "      <td>96478</td>\n",
       "      <td>97.0</td>\n",
       "    </tr>\n",
       "    <tr>\n",
       "      <th>6</th>\n",
       "      <td>shipped</td>\n",
       "      <td>1107</td>\n",
       "      <td>1.1</td>\n",
       "    </tr>\n",
       "    <tr>\n",
       "      <th>1</th>\n",
       "      <td>canceled</td>\n",
       "      <td>625</td>\n",
       "      <td>0.6</td>\n",
       "    </tr>\n",
       "    <tr>\n",
       "      <th>7</th>\n",
       "      <td>unavailable</td>\n",
       "      <td>609</td>\n",
       "      <td>0.6</td>\n",
       "    </tr>\n",
       "    <tr>\n",
       "      <th>4</th>\n",
       "      <td>invoiced</td>\n",
       "      <td>314</td>\n",
       "      <td>0.3</td>\n",
       "    </tr>\n",
       "    <tr>\n",
       "      <th>5</th>\n",
       "      <td>processing</td>\n",
       "      <td>301</td>\n",
       "      <td>0.3</td>\n",
       "    </tr>\n",
       "    <tr>\n",
       "      <th>2</th>\n",
       "      <td>created</td>\n",
       "      <td>5</td>\n",
       "      <td>0.0</td>\n",
       "    </tr>\n",
       "    <tr>\n",
       "      <th>0</th>\n",
       "      <td>approved</td>\n",
       "      <td>2</td>\n",
       "      <td>0.0</td>\n",
       "    </tr>\n",
       "  </tbody>\n",
       "</table>\n",
       "</div>"
      ],
      "text/plain": [
       "  order_status  count  proportion\n",
       "3    delivered  96478        97.0\n",
       "6      shipped   1107         1.1\n",
       "1     canceled    625         0.6\n",
       "7  unavailable    609         0.6\n",
       "4     invoiced    314         0.3\n",
       "5   processing    301         0.3\n",
       "2      created      5         0.0\n",
       "0     approved      2         0.0"
      ]
     },
     "execution_count": 170,
     "metadata": {},
     "output_type": "execute_result"
    }
   ],
   "source": [
    "# Percentual de pedidos por status\n",
    "orders['order_purchase_timestamp'] = pd.to_datetime(orders['order_purchase_timestamp'])\n",
    "orders['year_month'] = orders['order_purchase_timestamp'].dt.to_period('M')\n",
    "\n",
    "order_status = (\n",
    "    orders\n",
    "    .groupby([\"order_status\"])\n",
    "    .agg(count = (\"order_id\", \"nunique\"))\n",
    "    .reset_index()\n",
    ")\n",
    "order_status[\"proportion\"] = round(order_status[\"count\"] / order_status[\"count\"].sum() * 100, 1)\n",
    "order_status = order_status.sort_values(by=\"count\", ascending=False)\n",
    "order_status"
   ]
  },
  {
   "cell_type": "code",
   "execution_count": 172,
   "id": "71138c5b",
   "metadata": {},
   "outputs": [
    {
     "data": {
      "text/plain": [
       "<Axes: title={'center': 'Distribuição de pedidos por status'}, ylabel='% pedidos'>"
      ]
     },
     "execution_count": 172,
     "metadata": {},
     "output_type": "execute_result"
    },
    {
     "data": {
      "image/png": "[encoded data removed]",
      "text/plain": [
       "<Figure size 1000x600 with 1 Axes>"
      ]
     },
     "metadata": {},
     "output_type": "display_data"
    }
   ],
   "source": [
    "# Gráfico de barras do valor dos pagamentos por categoria\n",
    "order_status.plot(\n",
    "    x='order_status',\n",
    "    y='proportion',\n",
    "    kind='bar',\n",
    "    figsize=(10,6),\n",
    "    xlabel='',\n",
    "    ylabel='% pedidos',\n",
    "    title='Distribuição de pedidos por status',\n",
    "    legend=False\n",
    ")"
   ]
  },
  {
   "cell_type": "markdown",
   "id": "cadbae4d",
   "metadata": {},
   "source": [
    "## Reviews dos pedidos"
   ]
  },
  {
   "cell_type": "code",
   "execution_count": 22,
   "id": "851d2f91",
   "metadata": {},
   "outputs": [
    {
     "data": {
      "application/vnd.microsoft.datawrangler.viewer.v0+json": {
       "columns": [
        {
         "name": "index",
         "rawType": "int64",
         "type": "integer"
        },
        {
         "name": "review_id",
         "rawType": "object",
         "type": "string"
        },
        {
         "name": "order_id",
         "rawType": "object",
         "type": "string"
        },
        {
         "name": "review_score",
         "rawType": "int64",
         "type": "integer"
        },
        {
         "name": "review_comment_title",
         "rawType": "object",
         "type": "unknown"
        },
        {
         "name": "review_comment_message",
         "rawType": "object",
         "type": "unknown"
        },
        {
         "name": "review_creation_date",
         "rawType": "object",
         "type": "string"
        },
        {
         "name": "review_answer_timestamp",
         "rawType": "object",
         "type": "string"
        }
       ],
       "ref": "cfc28d89-25b4-45ce-95d4-6b0f5c507f03",
       "rows": [
        [
         "0",
         "7bc2406110b926393aa56f80a40eba40",
         "73fc7af87114b39712e6da79b0a377eb",
         "4",
         null,
         null,
         "2018-01-18 00:00:00",
         "2018-01-18 21:46:59"
        ],
        [
         "1",
         "80e641a11e56f04c1ad469d5645fdfde",
         "a548910a1c6147796b98fdf73dbeba33",
         "5",
         null,
         null,
         "2018-03-10 00:00:00",
         "2018-03-11 03:05:13"
        ],
        [
         "2",
         "228ce5500dc1d8e020d8d1322874b6f0",
         "f9e4b658b201a9f2ecdecbb34bed034b",
         "5",
         null,
         null,
         "2018-02-17 00:00:00",
         "2018-02-18 14:36:24"
        ],
        [
         "3",
         "e64fb393e7b32834bb789ff8bb30750e",
         "658677c97b385a9be170737859d3511b",
         "5",
         null,
         "Recebi bem antes do prazo estipulado.",
         "2017-04-21 00:00:00",
         "2017-04-21 22:02:06"
        ],
        [
         "4",
         "f7c4243c7fe1938f181bec41a392bdeb",
         "8e6bfb81e283fa7e4f11123a3fb894f1",
         "5",
         null,
         "Parabéns lojas lannister adorei comprar pela Internet seguro e prático Parabéns a todos feliz Páscoa",
         "2018-03-01 00:00:00",
         "2018-03-02 10:26:53"
        ]
       ],
       "shape": {
        "columns": 7,
        "rows": 5
       }
      },
      "text/html": [
       "<div>\n",
       "<style scoped>\n",
       "    .dataframe tbody tr th:only-of-type {\n",
       "        vertical-align: middle;\n",
       "    }\n",
       "\n",
       "    .dataframe tbody tr th {\n",
       "        vertical-align: top;\n",
       "    }\n",
       "\n",
       "    .dataframe thead th {\n",
       "        text-align: right;\n",
       "    }\n",
       "</style>\n",
       "<table border=\"1\" class=\"dataframe\">\n",
       "  <thead>\n",
       "    <tr style=\"text-align: right;\">\n",
       "      <th></th>\n",
       "      <th>review_id</th>\n",
       "      <th>order_id</th>\n",
       "      <th>review_score</th>\n",
       "      <th>review_comment_title</th>\n",
       "      <th>review_comment_message</th>\n",
       "      <th>review_creation_date</th>\n",
       "      <th>review_answer_timestamp</th>\n",
       "    </tr>\n",
       "  </thead>\n",
       "  <tbody>\n",
       "    <tr>\n",
       "      <th>0</th>\n",
       "      <td>7bc2406110b926393aa56f80a40eba40</td>\n",
       "      <td>73fc7af87114b39712e6da79b0a377eb</td>\n",
       "      <td>4</td>\n",
       "      <td>NaN</td>\n",
       "      <td>NaN</td>\n",
       "      <td>2018-01-18 00:00:00</td>\n",
       "      <td>2018-01-18 21:46:59</td>\n",
       "    </tr>\n",
       "    <tr>\n",
       "      <th>1</th>\n",
       "      <td>80e641a11e56f04c1ad469d5645fdfde</td>\n",
       "      <td>a548910a1c6147796b98fdf73dbeba33</td>\n",
       "      <td>5</td>\n",
       "      <td>NaN</td>\n",
       "      <td>NaN</td>\n",
       "      <td>2018-03-10 00:00:00</td>\n",
       "      <td>2018-03-11 03:05:13</td>\n",
       "    </tr>\n",
       "    <tr>\n",
       "      <th>2</th>\n",
       "      <td>228ce5500dc1d8e020d8d1322874b6f0</td>\n",
       "      <td>f9e4b658b201a9f2ecdecbb34bed034b</td>\n",
       "      <td>5</td>\n",
       "      <td>NaN</td>\n",
       "      <td>NaN</td>\n",
       "      <td>2018-02-17 00:00:00</td>\n",
       "      <td>2018-02-18 14:36:24</td>\n",
       "    </tr>\n",
       "    <tr>\n",
       "      <th>3</th>\n",
       "      <td>e64fb393e7b32834bb789ff8bb30750e</td>\n",
       "      <td>658677c97b385a9be170737859d3511b</td>\n",
       "      <td>5</td>\n",
       "      <td>NaN</td>\n",
       "      <td>Recebi bem antes do prazo estipulado.</td>\n",
       "      <td>2017-04-21 00:00:00</td>\n",
       "      <td>2017-04-21 22:02:06</td>\n",
       "    </tr>\n",
       "    <tr>\n",
       "      <th>4</th>\n",
       "      <td>f7c4243c7fe1938f181bec41a392bdeb</td>\n",
       "      <td>8e6bfb81e283fa7e4f11123a3fb894f1</td>\n",
       "      <td>5</td>\n",
       "      <td>NaN</td>\n",
       "      <td>Parabéns lojas lannister adorei comprar pela I...</td>\n",
       "      <td>2018-03-01 00:00:00</td>\n",
       "      <td>2018-03-02 10:26:53</td>\n",
       "    </tr>\n",
       "  </tbody>\n",
       "</table>\n",
       "</div>"
      ],
      "text/plain": [
       "                          review_id                          order_id  \\\n",
       "0  7bc2406110b926393aa56f80a40eba40  73fc7af87114b39712e6da79b0a377eb   \n",
       "1  80e641a11e56f04c1ad469d5645fdfde  a548910a1c6147796b98fdf73dbeba33   \n",
       "2  228ce5500dc1d8e020d8d1322874b6f0  f9e4b658b201a9f2ecdecbb34bed034b   \n",
       "3  e64fb393e7b32834bb789ff8bb30750e  658677c97b385a9be170737859d3511b   \n",
       "4  f7c4243c7fe1938f181bec41a392bdeb  8e6bfb81e283fa7e4f11123a3fb894f1   \n",
       "\n",
       "   review_score review_comment_title  \\\n",
       "0             4                  NaN   \n",
       "1             5                  NaN   \n",
       "2             5                  NaN   \n",
       "3             5                  NaN   \n",
       "4             5                  NaN   \n",
       "\n",
       "                              review_comment_message review_creation_date  \\\n",
       "0                                                NaN  2018-01-18 00:00:00   \n",
       "1                                                NaN  2018-03-10 00:00:00   \n",
       "2                                                NaN  2018-02-17 00:00:00   \n",
       "3              Recebi bem antes do prazo estipulado.  2017-04-21 00:00:00   \n",
       "4  Parabéns lojas lannister adorei comprar pela I...  2018-03-01 00:00:00   \n",
       "\n",
       "  review_answer_timestamp  \n",
       "0     2018-01-18 21:46:59  \n",
       "1     2018-03-11 03:05:13  \n",
       "2     2018-02-18 14:36:24  \n",
       "3     2017-04-21 22:02:06  \n",
       "4     2018-03-02 10:26:53  "
      ]
     },
     "execution_count": 22,
     "metadata": {},
     "output_type": "execute_result"
    }
   ],
   "source": [
    "order_reviews.head()"
   ]
  },
  {
   "cell_type": "code",
   "execution_count": 23,
   "id": "52b86247",
   "metadata": {},
   "outputs": [
    {
     "name": "stdout",
     "output_type": "stream",
     "text": [
      "<class 'pandas.core.frame.DataFrame'>\n",
      "RangeIndex: 99224 entries, 0 to 99223\n",
      "Data columns (total 7 columns):\n",
      " #   Column                   Non-Null Count  Dtype \n",
      "---  ------                   --------------  ----- \n",
      " 0   review_id                99224 non-null  object\n",
      " 1   order_id                 99224 non-null  object\n",
      " 2   review_score             99224 non-null  int64 \n",
      " 3   review_comment_title     11568 non-null  object\n",
      " 4   review_comment_message   40977 non-null  object\n",
      " 5   review_creation_date     99224 non-null  object\n",
      " 6   review_answer_timestamp  99224 non-null  object\n",
      "dtypes: int64(1), object(6)\n",
      "memory usage: 5.3+ MB\n",
      "(99224, 7)\n"
     ]
    }
   ],
   "source": [
    "order_reviews.info()\n",
    "print(order_reviews.shape)"
   ]
  },
  {
   "cell_type": "code",
   "execution_count": 178,
   "id": "de225d56",
   "metadata": {},
   "outputs": [
    {
     "data": {
      "application/vnd.microsoft.datawrangler.viewer.v0+json": {
       "columns": [
        {
         "name": "index",
         "rawType": "int64",
         "type": "integer"
        },
        {
         "name": "order_id",
         "rawType": "object",
         "type": "string"
        },
        {
         "name": "count",
         "rawType": "int64",
         "type": "integer"
        },
        {
         "name": "mean",
         "rawType": "float64",
         "type": "float"
        },
        {
         "name": "median",
         "rawType": "float64",
         "type": "float"
        },
        {
         "name": "std",
         "rawType": "float64",
         "type": "float"
        },
        {
         "name": "proportion",
         "rawType": "float64",
         "type": "float"
        }
       ],
       "ref": "6a2fda43-5e09-456d-bacd-632c9f967eee",
       "rows": [
        [
         "54489",
         "8e17072ec97ce29f0e1f111e598b0c85",
         "3",
         "1.0",
         "1.0",
         "0.0",
         "0.0"
        ],
        [
         "77319",
         "c88b1d1b157a9999ce368f218a407141",
         "3",
         "4.3",
         "5.0",
         "1.2",
         "0.0"
        ],
        [
         "1455",
         "03c939fd7fd3b38f8485a0f95798f1f6",
         "3",
         "3.3",
         "3.0",
         "0.6",
         "0.0"
        ],
        [
         "86232",
         "df56136b8031ecd28e200bb18e6ddb2e",
         "3",
         "5.0",
         "5.0",
         "0.0",
         "0.0"
        ],
        [
         "15722",
         "29062384ce4975f78aeba6a496510386",
         "2",
         "3.0",
         "3.0",
         "2.8",
         "0.0"
        ],
        [
         "97779",
         "fd95ae805c63c534f1a64589e102225e",
         "2",
         "5.0",
         "5.0",
         "0.0",
         "0.0"
        ],
        [
         "53479",
         "8b3c2785144e72ccba9b0213f0f1cd1e",
         "2",
         "5.0",
         "5.0",
         "0.0",
         "0.0"
        ],
        [
         "50375",
         "82fd1196a459f594fb1d66e667fc74c4",
         "2",
         "2.5",
         "2.5",
         "2.1",
         "0.0"
        ],
        [
         "77903",
         "ca263afd88a8a1200605adbd4b63cd7d",
         "2",
         "2.5",
         "2.5",
         "2.1",
         "0.0"
        ],
        [
         "27388",
         "4703440eb9289d3769819920e98ec061",
         "2",
         "5.0",
         "5.0",
         "0.0",
         "0.0"
        ],
        [
         "59427",
         "9b24c8496d87684865617cdb3eff7065",
         "2",
         "4.5",
         "4.5",
         "0.7",
         "0.0"
        ],
        [
         "53485",
         "8b426ff8aa1c03dc173f1270133b408e",
         "2",
         "1.5",
         "1.5",
         "0.7",
         "0.0"
        ],
        [
         "19417",
         "329aacec1c0231ed21bb1e2f8f4dc1e0",
         "2",
         "5.0",
         "5.0",
         "0.0",
         "0.0"
        ],
        [
         "10121",
         "1a3ccc1695931b2cb7a95065e0c81e4b",
         "2",
         "2.5",
         "2.5",
         "2.1",
         "0.0"
        ],
        [
         "33269",
         "5642f00882c2ab59e001778dc483135f",
         "2",
         "2.5",
         "2.5",
         "2.1",
         "0.0"
        ],
        [
         "19395",
         "328d856c33d24e8aac1b90367ae7cd3a",
         "2",
         "5.0",
         "5.0",
         "0.0",
         "0.0"
        ],
        [
         "54964",
         "8f5fac100b291e3c7c7c34ca50001b5a",
         "2",
         "4.5",
         "4.5",
         "0.7",
         "0.0"
        ],
        [
         "8673",
         "169d7e0fd71d624d306f132acd791cbe",
         "2",
         "5.0",
         "5.0",
         "0.0",
         "0.0"
        ],
        [
         "8670",
         "169ab175fb915582d84c0c5c95bb0fe3",
         "2",
         "5.0",
         "5.0",
         "0.0",
         "0.0"
        ],
        [
         "73043",
         "bd859dd7a6a1b8c1df9fcb75c3604eaf",
         "2",
         "2.5",
         "2.5",
         "0.7",
         "0.0"
        ],
        [
         "13480",
         "230429e6f253f9cd6561aad72ce7ee2f",
         "2",
         "5.0",
         "5.0",
         "0.0",
         "0.0"
        ],
        [
         "71506",
         "b9a528ec4ad891d009b3dc50588218f1",
         "2",
         "4.0",
         "4.0",
         "0.0",
         "0.0"
        ],
        [
         "91441",
         "ed273ac994e955e0c775eccb0a6512c0",
         "2",
         "5.0",
         "5.0",
         "0.0",
         "0.0"
        ],
        [
         "37947",
         "6297b306b33b7a9028dfaa203b9742a3",
         "2",
         "5.0",
         "5.0",
         "0.0",
         "0.0"
        ],
        [
         "37951",
         "629a311d2d78caf11bd453dd536c6da2",
         "2",
         "5.0",
         "5.0",
         "0.0",
         "0.0"
        ],
        [
         "16425",
         "2af768daf2646f316e9457e1f10b2428",
         "2",
         "3.0",
         "3.0",
         "1.4",
         "0.0"
        ],
        [
         "76410",
         "c63031aab37b1beb849bb4856afd4f13",
         "2",
         "5.0",
         "5.0",
         "0.0",
         "0.0"
        ],
        [
         "17819",
         "2e84df8fa5a2f0d5eab815d6c157b1f3",
         "2",
         "3.0",
         "3.0",
         "2.8",
         "0.0"
        ],
        [
         "33303",
         "565b0bdb5bfef65df5a23890967586f6",
         "2",
         "3.0",
         "3.0",
         "2.8",
         "0.0"
        ],
        [
         "79413",
         "ce0102221c8d12a97979c74d09cca282",
         "2",
         "2.5",
         "2.5",
         "0.7",
         "0.0"
        ],
        [
         "65648",
         "aae84f9096ee934bec7b48604a47e6e1",
         "2",
         "5.0",
         "5.0",
         "0.0",
         "0.0"
        ],
        [
         "10020",
         "19fe6cd13dca5943f17abd2c37c46abd",
         "2",
         "5.0",
         "5.0",
         "0.0",
         "0.0"
        ],
        [
         "59335",
         "9aef5cb54685c53c5dd0b28727ff1203",
         "2",
         "5.0",
         "5.0",
         "0.0",
         "0.0"
        ],
        [
         "24108",
         "3ea8ef64da06a959e384edb7cb824c02",
         "2",
         "4.0",
         "4.0",
         "0.0",
         "0.0"
        ],
        [
         "91578",
         "ed81dbeb0cedad4d3d1f1551b06d6ca3",
         "2",
         "1.5",
         "1.5",
         "0.7",
         "0.0"
        ],
        [
         "48683",
         "7e7aa7dd23657ca98b6b94fa4ad4c576",
         "2",
         "4.0",
         "4.0",
         "1.4",
         "0.0"
        ],
        [
         "79477",
         "ce338e075a36068051ecff6802ab64ef",
         "2",
         "5.0",
         "5.0",
         "0.0",
         "0.0"
        ],
        [
         "15071",
         "275322de6426ec5071b219b77fba6a65",
         "2",
         "3.0",
         "3.0",
         "0.0",
         "0.0"
        ],
        [
         "96040",
         "f93a732712407c02dce5dd5088d0f47b",
         "2",
         "2.5",
         "2.5",
         "2.1",
         "0.0"
        ],
        [
         "835",
         "02355020fd0a40a0d56df9f6ff060413",
         "2",
         "2.0",
         "2.0",
         "1.4",
         "0.0"
        ],
        [
         "46868",
         "79ce3a0a9eba49ff442b392ab05349a4",
         "2",
         "5.0",
         "5.0",
         "0.0",
         "0.0"
        ],
        [
         "24070",
         "3e93213bb8fdda91186b4018b2fe0030",
         "2",
         "5.0",
         "5.0",
         "0.0",
         "0.0"
        ],
        [
         "33334",
         "566f53fc7d36fa366f7e221468121877",
         "2",
         "5.0",
         "5.0",
         "0.0",
         "0.0"
        ],
        [
         "20954",
         "36783db8698edf3ba7585d93b5a1c4bf",
         "2",
         "4.5",
         "4.5",
         "0.7",
         "0.0"
        ],
        [
         "79440",
         "ce1813098fb283f84f0b5a7aa63e5fcc",
         "2",
         "3.0",
         "3.0",
         "0.0",
         "0.0"
        ],
        [
         "91527",
         "ed63d1955429b2d9b6172c755b4fa1b2",
         "2",
         "4.0",
         "4.0",
         "1.4",
         "0.0"
        ],
        [
         "15035",
         "2739713764165279791b394484947e2d",
         "2",
         "4.0",
         "4.0",
         "1.4",
         "0.0"
        ],
        [
         "36228",
         "5e4c365dd3cf7769a88981f408d069d3",
         "2",
         "1.0",
         "1.0",
         "0.0",
         "0.0"
        ],
        [
         "15025",
         "273177c9b2d2eb2a68a77ee39e726b52",
         "2",
         "5.0",
         "5.0",
         "0.0",
         "0.0"
        ],
        [
         "2615",
         "06b2c7035561ef12b16045ef4bf459e2",
         "2",
         "5.0",
         "5.0",
         "0.0",
         "0.0"
        ]
       ],
       "shape": {
        "columns": 6,
        "rows": 98673
       }
      },
      "text/html": [
       "<div>\n",
       "<style scoped>\n",
       "    .dataframe tbody tr th:only-of-type {\n",
       "        vertical-align: middle;\n",
       "    }\n",
       "\n",
       "    .dataframe tbody tr th {\n",
       "        vertical-align: top;\n",
       "    }\n",
       "\n",
       "    .dataframe thead th {\n",
       "        text-align: right;\n",
       "    }\n",
       "</style>\n",
       "<table border=\"1\" class=\"dataframe\">\n",
       "  <thead>\n",
       "    <tr style=\"text-align: right;\">\n",
       "      <th></th>\n",
       "      <th>order_id</th>\n",
       "      <th>count</th>\n",
       "      <th>mean</th>\n",
       "      <th>median</th>\n",
       "      <th>std</th>\n",
       "      <th>proportion</th>\n",
       "    </tr>\n",
       "  </thead>\n",
       "  <tbody>\n",
       "    <tr>\n",
       "      <th>54489</th>\n",
       "      <td>8e17072ec97ce29f0e1f111e598b0c85</td>\n",
       "      <td>3</td>\n",
       "      <td>1.0</td>\n",
       "      <td>1.0</td>\n",
       "      <td>0.0</td>\n",
       "      <td>0.0</td>\n",
       "    </tr>\n",
       "    <tr>\n",
       "      <th>77319</th>\n",
       "      <td>c88b1d1b157a9999ce368f218a407141</td>\n",
       "      <td>3</td>\n",
       "      <td>4.3</td>\n",
       "      <td>5.0</td>\n",
       "      <td>1.2</td>\n",
       "      <td>0.0</td>\n",
       "    </tr>\n",
       "    <tr>\n",
       "      <th>1455</th>\n",
       "      <td>03c939fd7fd3b38f8485a0f95798f1f6</td>\n",
       "      <td>3</td>\n",
       "      <td>3.3</td>\n",
       "      <td>3.0</td>\n",
       "      <td>0.6</td>\n",
       "      <td>0.0</td>\n",
       "    </tr>\n",
       "    <tr>\n",
       "      <th>86232</th>\n",
       "      <td>df56136b8031ecd28e200bb18e6ddb2e</td>\n",
       "      <td>3</td>\n",
       "      <td>5.0</td>\n",
       "      <td>5.0</td>\n",
       "      <td>0.0</td>\n",
       "      <td>0.0</td>\n",
       "    </tr>\n",
       "    <tr>\n",
       "      <th>15722</th>\n",
       "      <td>29062384ce4975f78aeba6a496510386</td>\n",
       "      <td>2</td>\n",
       "      <td>3.0</td>\n",
       "      <td>3.0</td>\n",
       "      <td>2.8</td>\n",
       "      <td>0.0</td>\n",
       "    </tr>\n",
       "    <tr>\n",
       "      <th>...</th>\n",
       "      <td>...</td>\n",
       "      <td>...</td>\n",
       "      <td>...</td>\n",
       "      <td>...</td>\n",
       "      <td>...</td>\n",
       "      <td>...</td>\n",
       "    </tr>\n",
       "    <tr>\n",
       "      <th>32987</th>\n",
       "      <td>559609410c90dc1792181a5f260a6600</td>\n",
       "      <td>1</td>\n",
       "      <td>4.0</td>\n",
       "      <td>4.0</td>\n",
       "      <td>NaN</td>\n",
       "      <td>0.0</td>\n",
       "    </tr>\n",
       "    <tr>\n",
       "      <th>32986</th>\n",
       "      <td>5595480d373b37e5738fc085dd9bcb8e</td>\n",
       "      <td>1</td>\n",
       "      <td>4.0</td>\n",
       "      <td>4.0</td>\n",
       "      <td>NaN</td>\n",
       "      <td>0.0</td>\n",
       "    </tr>\n",
       "    <tr>\n",
       "      <th>32985</th>\n",
       "      <td>559115c14f48d999adcc027b4a702c8b</td>\n",
       "      <td>1</td>\n",
       "      <td>5.0</td>\n",
       "      <td>5.0</td>\n",
       "      <td>NaN</td>\n",
       "      <td>0.0</td>\n",
       "    </tr>\n",
       "    <tr>\n",
       "      <th>32984</th>\n",
       "      <td>5590b14b260d2f61b2db5efb8d4a4601</td>\n",
       "      <td>1</td>\n",
       "      <td>5.0</td>\n",
       "      <td>5.0</td>\n",
       "      <td>NaN</td>\n",
       "      <td>0.0</td>\n",
       "    </tr>\n",
       "    <tr>\n",
       "      <th>98672</th>\n",
       "      <td>fffe41c64501cc87c801fd61db3f6244</td>\n",
       "      <td>1</td>\n",
       "      <td>5.0</td>\n",
       "      <td>5.0</td>\n",
       "      <td>NaN</td>\n",
       "      <td>0.0</td>\n",
       "    </tr>\n",
       "  </tbody>\n",
       "</table>\n",
       "<p>98673 rows × 6 columns</p>\n",
       "</div>"
      ],
      "text/plain": [
       "                               order_id  count  mean  median  std  proportion\n",
       "54489  8e17072ec97ce29f0e1f111e598b0c85      3   1.0     1.0  0.0         0.0\n",
       "77319  c88b1d1b157a9999ce368f218a407141      3   4.3     5.0  1.2         0.0\n",
       "1455   03c939fd7fd3b38f8485a0f95798f1f6      3   3.3     3.0  0.6         0.0\n",
       "86232  df56136b8031ecd28e200bb18e6ddb2e      3   5.0     5.0  0.0         0.0\n",
       "15722  29062384ce4975f78aeba6a496510386      2   3.0     3.0  2.8         0.0\n",
       "...                                 ...    ...   ...     ...  ...         ...\n",
       "32987  559609410c90dc1792181a5f260a6600      1   4.0     4.0  NaN         0.0\n",
       "32986  5595480d373b37e5738fc085dd9bcb8e      1   4.0     4.0  NaN         0.0\n",
       "32985  559115c14f48d999adcc027b4a702c8b      1   5.0     5.0  NaN         0.0\n",
       "32984  5590b14b260d2f61b2db5efb8d4a4601      1   5.0     5.0  NaN         0.0\n",
       "98672  fffe41c64501cc87c801fd61db3f6244      1   5.0     5.0  NaN         0.0\n",
       "\n",
       "[98673 rows x 6 columns]"
      ]
     },
     "execution_count": 178,
     "metadata": {},
     "output_type": "execute_result"
    }
   ],
   "source": [
    "# Top produtos com maior score médio\n",
    "review = (\n",
    "    order_reviews\n",
    "    .groupby([\"order_id\"])\n",
    "    .agg(\n",
    "        count = (\"review_score\", \"count\"),\n",
    "        mean = (\"review_score\", \"mean\"),\n",
    "        median = (\"review_score\", \"median\"),\n",
    "        std = (\"review_score\", \"std\"),\n",
    "    )\n",
    "    .reset_index()\n",
    ")\n",
    "review[\"proportion\"] = round(review[\"count\"] / review[\"count\"].sum() * 100, 1)\n",
    "review[\"mean\"] = round(review[\"mean\"], 1)\n",
    "review[\"std\"] = round(review[\"std\"], 1)\n",
    "review = review.sort_values(by=\"count\", ascending=False)\n",
    "review"
   ]
  },
  {
   "cell_type": "code",
   "execution_count": 181,
   "id": "b83257cc",
   "metadata": {},
   "outputs": [],
   "source": [
    "# Quais as categorias com score mais alto?\n",
    "df = (\n",
    "    order_items\n",
    "    .merge(products, on=\"product_id\", how=\"left\")\n",
    "    .merge(order_reviews, on=\"order_id\", how=\"left\")\n",
    ")\n",
    "\n",
    "# Top categorias com maior score médio\n",
    "review = (\n",
    "    df\n",
    "    .groupby([\"product_category_name\"])\n",
    "    .agg(\n",
    "        count = (\"order_id\", \"nunique\"),\n",
    "        mean = (\"review_score\", \"mean\"),\n",
    "        median = (\"review_score\", \"median\"),\n",
    "        std = (\"review_score\", \"std\"),\n",
    "    )\n",
    "    .reset_index()\n",
    ")\n",
    "review[\"proportion\"] = round(review[\"count\"] / review[\"count\"].sum() * 100, 1)\n",
    "review[\"mean\"] = round(review[\"mean\"], 1)\n",
    "review[\"std\"] = round(review[\"std\"], 1)"
   ]
  },
  {
   "cell_type": "code",
   "execution_count": 182,
   "id": "9e170d7f",
   "metadata": {},
   "outputs": [
    {
     "data": {
      "application/vnd.microsoft.datawrangler.viewer.v0+json": {
       "columns": [
        {
         "name": "index",
         "rawType": "int64",
         "type": "integer"
        },
        {
         "name": "product_category_name",
         "rawType": "object",
         "type": "string"
        },
        {
         "name": "count",
         "rawType": "int64",
         "type": "integer"
        },
        {
         "name": "mean",
         "rawType": "float64",
         "type": "float"
        },
        {
         "name": "median",
         "rawType": "float64",
         "type": "float"
        },
        {
         "name": "std",
         "rawType": "float64",
         "type": "float"
        },
        {
         "name": "proportion",
         "rawType": "float64",
         "type": "float"
        }
       ],
       "ref": "db5d4b44-7f3c-4b43-a598-535754c47344",
       "rows": [
        [
         "13",
         "cama_mesa_banho",
         "9417",
         "3.9",
         "5.0",
         "1.4",
         "9.6"
        ],
        [
         "11",
         "beleza_saude",
         "8836",
         "4.1",
         "5.0",
         "1.3",
         "9.0"
        ],
        [
         "32",
         "esporte_lazer",
         "7720",
         "4.1",
         "5.0",
         "1.4",
         "7.9"
        ],
        [
         "44",
         "informatica_acessorios",
         "6689",
         "3.9",
         "5.0",
         "1.5",
         "6.8"
        ],
        [
         "54",
         "moveis_decoracao",
         "6449",
         "3.9",
         "5.0",
         "1.5",
         "6.6"
        ],
        [
         "72",
         "utilidades_domesticas",
         "5884",
         "4.1",
         "5.0",
         "1.4",
         "6.0"
        ],
        [
         "66",
         "relogios_presentes",
         "5624",
         "4.0",
         "5.0",
         "1.4",
         "5.7"
        ],
        [
         "70",
         "telefonia",
         "4199",
         "3.9",
         "5.0",
         "1.4",
         "4.3"
        ],
        [
         "8",
         "automotivo",
         "3897",
         "4.1",
         "5.0",
         "1.4",
         "4.0"
        ],
        [
         "12",
         "brinquedos",
         "3886",
         "4.2",
         "5.0",
         "1.3",
         "4.0"
        ],
        [
         "26",
         "cool_stuff",
         "3632",
         "4.1",
         "5.0",
         "1.3",
         "3.7"
        ],
        [
         "40",
         "ferramentas_jardim",
         "3518",
         "4.0",
         "5.0",
         "1.4",
         "3.6"
        ],
        [
         "62",
         "perfumaria",
         "3162",
         "4.2",
         "5.0",
         "1.4",
         "3.2"
        ],
        [
         "9",
         "bebes",
         "2885",
         "4.0",
         "5.0",
         "1.4",
         "2.9"
        ],
        [
         "30",
         "eletronicos",
         "2550",
         "4.0",
         "5.0",
         "1.4",
         "2.6"
        ],
        [
         "59",
         "papelaria",
         "2311",
         "4.2",
         "5.0",
         "1.3",
         "2.4"
        ],
        [
         "33",
         "fashion_bolsas_e_acessorios",
         "1864",
         "4.1",
         "5.0",
         "1.3",
         "1.9"
        ],
        [
         "63",
         "pet_shop",
         "1710",
         "4.2",
         "5.0",
         "1.3",
         "1.7"
        ],
        [
         "55",
         "moveis_escritorio",
         "1273",
         "3.5",
         "4.0",
         "1.5",
         "1.3"
        ],
        [
         "20",
         "consoles_games",
         "1062",
         "4.0",
         "5.0",
         "1.4",
         "1.1"
        ],
        [
         "50",
         "malas_acessorios",
         "1034",
         "4.3",
         "5.0",
         "1.2",
         "1.1"
        ],
        [
         "28",
         "eletrodomesticos",
         "764",
         "4.2",
         "5.0",
         "1.3",
         "0.8"
        ],
        [
         "21",
         "construcao_ferramentas_construcao",
         "748",
         "4.1",
         "5.0",
         "1.4",
         "0.8"
        ],
        [
         "31",
         "eletroportateis",
         "630",
         "4.1",
         "5.0",
         "1.3",
         "0.6"
        ],
        [
         "45",
         "instrumentos_musicais",
         "628",
         "4.2",
         "5.0",
         "1.3",
         "0.6"
        ],
        [
         "48",
         "livros_interesse_geral",
         "512",
         "4.4",
         "5.0",
         "1.1",
         "0.5"
        ],
        [
         "16",
         "casa_construcao",
         "490",
         "3.9",
         "4.0",
         "1.4",
         "0.5"
        ],
        [
         "1",
         "alimentos",
         "450",
         "4.2",
         "5.0",
         "1.3",
         "0.5"
        ],
        [
         "57",
         "moveis_sala",
         "422",
         "3.9",
         "5.0",
         "1.4",
         "0.4"
        ],
        [
         "14",
         "casa_conforto",
         "397",
         "3.8",
         "5.0",
         "1.5",
         "0.4"
        ],
        [
         "7",
         "audio",
         "350",
         "3.8",
         "5.0",
         "1.5",
         "0.4"
        ],
        [
         "10",
         "bebidas",
         "297",
         "4.0",
         "5.0",
         "1.4",
         "0.3"
        ],
        [
         "51",
         "market_place",
         "280",
         "4.0",
         "5.0",
         "1.3",
         "0.3"
        ],
        [
         "49",
         "livros_tecnicos",
         "260",
         "4.4",
         "5.0",
         "1.2",
         "0.3"
        ],
        [
         "19",
         "climatizacao",
         "253",
         "4.0",
         "5.0",
         "1.5",
         "0.3"
        ],
        [
         "53",
         "moveis_cozinha_area_de_servico_jantar_e_jardim",
         "248",
         "4.0",
         "5.0",
         "1.4",
         "0.3"
        ],
        [
         "23",
         "construcao_ferramentas_iluminacao",
         "244",
         "4.1",
         "5.0",
         "1.3",
         "0.2"
        ],
        [
         "34",
         "fashion_calcados",
         "240",
         "4.2",
         "5.0",
         "1.3",
         "0.2"
        ],
        [
         "43",
         "industria_comercio_e_negocios",
         "235",
         "4.1",
         "5.0",
         "1.3",
         "0.2"
        ],
        [
         "29",
         "eletrodomesticos_2",
         "234",
         "4.1",
         "5.0",
         "1.2",
         "0.2"
        ],
        [
         "2",
         "alimentos_bebidas",
         "227",
         "4.3",
         "5.0",
         "1.1",
         "0.2"
        ],
        [
         "71",
         "telefonia_fixa",
         "217",
         "3.7",
         "4.0",
         "1.6",
         "0.2"
        ],
        [
         "3",
         "artes",
         "202",
         "3.9",
         "5.0",
         "1.5",
         "0.2"
        ],
        [
         "24",
         "construcao_ferramentas_jardim",
         "194",
         "4.1",
         "5.0",
         "1.4",
         "0.2"
        ],
        [
         "0",
         "agro_industria_e_comercio",
         "182",
         "4.0",
         "5.0",
         "1.4",
         "0.2"
        ],
        [
         "61",
         "pcs",
         "181",
         "4.2",
         "5.0",
         "1.3",
         "0.2"
        ],
        [
         "25",
         "construcao_ferramentas_seguranca",
         "167",
         "3.8",
         "5.0",
         "1.5",
         "0.2"
        ],
        [
         "68",
         "sinalizacao_e_seguranca",
         "140",
         "4.1",
         "5.0",
         "1.3",
         "0.1"
        ],
        [
         "6",
         "artigos_de_natal",
         "128",
         "4.0",
         "5.0",
         "1.4",
         "0.1"
        ],
        [
         "39",
         "fashion_underwear_e_moda_praia",
         "121",
         "4.0",
         "5.0",
         "1.4",
         "0.1"
        ]
       ],
       "shape": {
        "columns": 6,
        "rows": 73
       }
      },
      "text/html": [
       "<div>\n",
       "<style scoped>\n",
       "    .dataframe tbody tr th:only-of-type {\n",
       "        vertical-align: middle;\n",
       "    }\n",
       "\n",
       "    .dataframe tbody tr th {\n",
       "        vertical-align: top;\n",
       "    }\n",
       "\n",
       "    .dataframe thead th {\n",
       "        text-align: right;\n",
       "    }\n",
       "</style>\n",
       "<table border=\"1\" class=\"dataframe\">\n",
       "  <thead>\n",
       "    <tr style=\"text-align: right;\">\n",
       "      <th></th>\n",
       "      <th>product_category_name</th>\n",
       "      <th>count</th>\n",
       "      <th>mean</th>\n",
       "      <th>median</th>\n",
       "      <th>std</th>\n",
       "      <th>proportion</th>\n",
       "    </tr>\n",
       "  </thead>\n",
       "  <tbody>\n",
       "    <tr>\n",
       "      <th>13</th>\n",
       "      <td>cama_mesa_banho</td>\n",
       "      <td>9417</td>\n",
       "      <td>3.9</td>\n",
       "      <td>5.0</td>\n",
       "      <td>1.4</td>\n",
       "      <td>9.6</td>\n",
       "    </tr>\n",
       "    <tr>\n",
       "      <th>11</th>\n",
       "      <td>beleza_saude</td>\n",
       "      <td>8836</td>\n",
       "      <td>4.1</td>\n",
       "      <td>5.0</td>\n",
       "      <td>1.3</td>\n",
       "      <td>9.0</td>\n",
       "    </tr>\n",
       "    <tr>\n",
       "      <th>32</th>\n",
       "      <td>esporte_lazer</td>\n",
       "      <td>7720</td>\n",
       "      <td>4.1</td>\n",
       "      <td>5.0</td>\n",
       "      <td>1.4</td>\n",
       "      <td>7.9</td>\n",
       "    </tr>\n",
       "    <tr>\n",
       "      <th>44</th>\n",
       "      <td>informatica_acessorios</td>\n",
       "      <td>6689</td>\n",
       "      <td>3.9</td>\n",
       "      <td>5.0</td>\n",
       "      <td>1.5</td>\n",
       "      <td>6.8</td>\n",
       "    </tr>\n",
       "    <tr>\n",
       "      <th>54</th>\n",
       "      <td>moveis_decoracao</td>\n",
       "      <td>6449</td>\n",
       "      <td>3.9</td>\n",
       "      <td>5.0</td>\n",
       "      <td>1.5</td>\n",
       "      <td>6.6</td>\n",
       "    </tr>\n",
       "    <tr>\n",
       "      <th>...</th>\n",
       "      <td>...</td>\n",
       "      <td>...</td>\n",
       "      <td>...</td>\n",
       "      <td>...</td>\n",
       "      <td>...</td>\n",
       "      <td>...</td>\n",
       "    </tr>\n",
       "    <tr>\n",
       "      <th>46</th>\n",
       "      <td>la_cuisine</td>\n",
       "      <td>13</td>\n",
       "      <td>4.0</td>\n",
       "      <td>5.0</td>\n",
       "      <td>1.7</td>\n",
       "      <td>0.0</td>\n",
       "    </tr>\n",
       "    <tr>\n",
       "      <th>17</th>\n",
       "      <td>cds_dvds_musicais</td>\n",
       "      <td>12</td>\n",
       "      <td>4.6</td>\n",
       "      <td>5.0</td>\n",
       "      <td>0.6</td>\n",
       "      <td>0.0</td>\n",
       "    </tr>\n",
       "    <tr>\n",
       "      <th>60</th>\n",
       "      <td>pc_gamer</td>\n",
       "      <td>8</td>\n",
       "      <td>3.3</td>\n",
       "      <td>4.0</td>\n",
       "      <td>1.8</td>\n",
       "      <td>0.0</td>\n",
       "    </tr>\n",
       "    <tr>\n",
       "      <th>37</th>\n",
       "      <td>fashion_roupa_infanto_juvenil</td>\n",
       "      <td>8</td>\n",
       "      <td>4.5</td>\n",
       "      <td>5.0</td>\n",
       "      <td>1.4</td>\n",
       "      <td>0.0</td>\n",
       "    </tr>\n",
       "    <tr>\n",
       "      <th>67</th>\n",
       "      <td>seguros_e_servicos</td>\n",
       "      <td>2</td>\n",
       "      <td>2.5</td>\n",
       "      <td>2.5</td>\n",
       "      <td>2.1</td>\n",
       "      <td>0.0</td>\n",
       "    </tr>\n",
       "  </tbody>\n",
       "</table>\n",
       "<p>73 rows × 6 columns</p>\n",
       "</div>"
      ],
      "text/plain": [
       "            product_category_name  count  mean  median  std  proportion\n",
       "13                cama_mesa_banho   9417   3.9     5.0  1.4         9.6\n",
       "11                   beleza_saude   8836   4.1     5.0  1.3         9.0\n",
       "32                  esporte_lazer   7720   4.1     5.0  1.4         7.9\n",
       "44         informatica_acessorios   6689   3.9     5.0  1.5         6.8\n",
       "54               moveis_decoracao   6449   3.9     5.0  1.5         6.6\n",
       "..                            ...    ...   ...     ...  ...         ...\n",
       "46                     la_cuisine     13   4.0     5.0  1.7         0.0\n",
       "17              cds_dvds_musicais     12   4.6     5.0  0.6         0.0\n",
       "60                       pc_gamer      8   3.3     4.0  1.8         0.0\n",
       "37  fashion_roupa_infanto_juvenil      8   4.5     5.0  1.4         0.0\n",
       "67             seguros_e_servicos      2   2.5     2.5  2.1         0.0\n",
       "\n",
       "[73 rows x 6 columns]"
      ]
     },
     "execution_count": 182,
     "metadata": {},
     "output_type": "execute_result"
    }
   ],
   "source": [
    "review = review.sort_values(by=\"count\", ascending=False)\n",
    "review"
   ]
  },
  {
   "cell_type": "code",
   "execution_count": 183,
   "id": "39dd5d38",
   "metadata": {},
   "outputs": [
    {
     "data": {
      "application/vnd.microsoft.datawrangler.viewer.v0+json": {
       "columns": [
        {
         "name": "index",
         "rawType": "int64",
         "type": "integer"
        },
        {
         "name": "product_category_name",
         "rawType": "object",
         "type": "string"
        },
        {
         "name": "count",
         "rawType": "int64",
         "type": "integer"
        },
        {
         "name": "mean",
         "rawType": "float64",
         "type": "float"
        },
        {
         "name": "median",
         "rawType": "float64",
         "type": "float"
        },
        {
         "name": "std",
         "rawType": "float64",
         "type": "float"
        },
        {
         "name": "proportion",
         "rawType": "float64",
         "type": "float"
        }
       ],
       "ref": "28f53cab-e7bb-493f-8b9d-aaccadba8295",
       "rows": [
        [
         "17",
         "cds_dvds_musicais",
         "12",
         "4.6",
         "5.0",
         "0.6",
         "0.0"
        ],
        [
         "37",
         "fashion_roupa_infanto_juvenil",
         "8",
         "4.5",
         "5.0",
         "1.4",
         "0.0"
        ],
        [
         "22",
         "construcao_ferramentas_ferramentas",
         "97",
         "4.4",
         "5.0",
         "1.1",
         "0.1"
        ],
        [
         "49",
         "livros_tecnicos",
         "260",
         "4.4",
         "5.0",
         "1.2",
         "0.3"
        ],
        [
         "47",
         "livros_importados",
         "53",
         "4.4",
         "5.0",
         "1.3",
         "0.1"
        ],
        [
         "41",
         "flores",
         "29",
         "4.4",
         "5.0",
         "1.1",
         "0.0"
        ],
        [
         "48",
         "livros_interesse_geral",
         "512",
         "4.4",
         "5.0",
         "1.1",
         "0.5"
        ],
        [
         "50",
         "malas_acessorios",
         "1034",
         "4.3",
         "5.0",
         "1.2",
         "1.1"
        ],
        [
         "64",
         "portateis_casa_forno_e_cafe",
         "75",
         "4.3",
         "5.0",
         "1.2",
         "0.1"
        ],
        [
         "2",
         "alimentos_bebidas",
         "227",
         "4.3",
         "5.0",
         "1.1",
         "0.2"
        ],
        [
         "35",
         "fashion_esporte",
         "27",
         "4.3",
         "5.0",
         "1.2",
         "0.0"
        ],
        [
         "58",
         "musica",
         "38",
         "4.2",
         "5.0",
         "1.3",
         "0.0"
        ],
        [
         "62",
         "perfumaria",
         "3162",
         "4.2",
         "5.0",
         "1.4",
         "3.2"
        ],
        [
         "1",
         "alimentos",
         "450",
         "4.2",
         "5.0",
         "1.3",
         "0.5"
        ],
        [
         "59",
         "papelaria",
         "2311",
         "4.2",
         "5.0",
         "1.3",
         "2.4"
        ],
        [
         "18",
         "cine_foto",
         "65",
         "4.2",
         "5.0",
         "1.4",
         "0.1"
        ],
        [
         "63",
         "pet_shop",
         "1710",
         "4.2",
         "5.0",
         "1.3",
         "1.7"
        ],
        [
         "34",
         "fashion_calcados",
         "240",
         "4.2",
         "5.0",
         "1.3",
         "0.2"
        ],
        [
         "12",
         "brinquedos",
         "3886",
         "4.2",
         "5.0",
         "1.3",
         "4.0"
        ],
        [
         "45",
         "instrumentos_musicais",
         "628",
         "4.2",
         "5.0",
         "1.3",
         "0.6"
        ],
        [
         "28",
         "eletrodomesticos",
         "764",
         "4.2",
         "5.0",
         "1.3",
         "0.8"
        ],
        [
         "61",
         "pcs",
         "181",
         "4.2",
         "5.0",
         "1.3",
         "0.2"
        ],
        [
         "32",
         "esporte_lazer",
         "7720",
         "4.1",
         "5.0",
         "1.4",
         "7.9"
        ],
        [
         "23",
         "construcao_ferramentas_iluminacao",
         "244",
         "4.1",
         "5.0",
         "1.3",
         "0.2"
        ],
        [
         "68",
         "sinalizacao_e_seguranca",
         "140",
         "4.1",
         "5.0",
         "1.3",
         "0.1"
        ],
        [
         "11",
         "beleza_saude",
         "8836",
         "4.1",
         "5.0",
         "1.3",
         "9.0"
        ],
        [
         "43",
         "industria_comercio_e_negocios",
         "235",
         "4.1",
         "5.0",
         "1.3",
         "0.2"
        ],
        [
         "29",
         "eletrodomesticos_2",
         "234",
         "4.1",
         "5.0",
         "1.2",
         "0.2"
        ],
        [
         "72",
         "utilidades_domesticas",
         "5884",
         "4.1",
         "5.0",
         "1.4",
         "6.0"
        ],
        [
         "24",
         "construcao_ferramentas_jardim",
         "194",
         "4.1",
         "5.0",
         "1.4",
         "0.2"
        ],
        [
         "56",
         "moveis_quarto",
         "95",
         "4.1",
         "5.0",
         "1.4",
         "0.1"
        ],
        [
         "8",
         "automotivo",
         "3897",
         "4.1",
         "5.0",
         "1.4",
         "4.0"
        ],
        [
         "31",
         "eletroportateis",
         "630",
         "4.1",
         "5.0",
         "1.3",
         "0.6"
        ],
        [
         "21",
         "construcao_ferramentas_construcao",
         "748",
         "4.1",
         "5.0",
         "1.4",
         "0.8"
        ],
        [
         "26",
         "cool_stuff",
         "3632",
         "4.1",
         "5.0",
         "1.3",
         "3.7"
        ],
        [
         "4",
         "artes_e_artesanato",
         "23",
         "4.1",
         "5.0",
         "1.4",
         "0.0"
        ],
        [
         "33",
         "fashion_bolsas_e_acessorios",
         "1864",
         "4.1",
         "5.0",
         "1.3",
         "1.9"
        ],
        [
         "69",
         "tablets_impressao_imagem",
         "79",
         "4.1",
         "5.0",
         "1.2",
         "0.1"
        ],
        [
         "27",
         "dvds_blu_ray",
         "59",
         "4.1",
         "5.0",
         "1.5",
         "0.1"
        ],
        [
         "0",
         "agro_industria_e_comercio",
         "182",
         "4.0",
         "5.0",
         "1.4",
         "0.2"
        ],
        [
         "6",
         "artigos_de_natal",
         "128",
         "4.0",
         "5.0",
         "1.4",
         "0.1"
        ],
        [
         "39",
         "fashion_underwear_e_moda_praia",
         "121",
         "4.0",
         "5.0",
         "1.4",
         "0.1"
        ],
        [
         "40",
         "ferramentas_jardim",
         "3518",
         "4.0",
         "5.0",
         "1.4",
         "3.6"
        ],
        [
         "53",
         "moveis_cozinha_area_de_servico_jantar_e_jardim",
         "248",
         "4.0",
         "5.0",
         "1.4",
         "0.3"
        ],
        [
         "19",
         "climatizacao",
         "253",
         "4.0",
         "5.0",
         "1.5",
         "0.3"
        ],
        [
         "66",
         "relogios_presentes",
         "5624",
         "4.0",
         "5.0",
         "1.4",
         "5.7"
        ],
        [
         "51",
         "market_place",
         "280",
         "4.0",
         "5.0",
         "1.3",
         "0.3"
        ],
        [
         "46",
         "la_cuisine",
         "13",
         "4.0",
         "5.0",
         "1.7",
         "0.0"
        ],
        [
         "20",
         "consoles_games",
         "1062",
         "4.0",
         "5.0",
         "1.4",
         "1.1"
        ],
        [
         "30",
         "eletronicos",
         "2550",
         "4.0",
         "5.0",
         "1.4",
         "2.6"
        ]
       ],
       "shape": {
        "columns": 6,
        "rows": 73
       }
      },
      "text/html": [
       "<div>\n",
       "<style scoped>\n",
       "    .dataframe tbody tr th:only-of-type {\n",
       "        vertical-align: middle;\n",
       "    }\n",
       "\n",
       "    .dataframe tbody tr th {\n",
       "        vertical-align: top;\n",
       "    }\n",
       "\n",
       "    .dataframe thead th {\n",
       "        text-align: right;\n",
       "    }\n",
       "</style>\n",
       "<table border=\"1\" class=\"dataframe\">\n",
       "  <thead>\n",
       "    <tr style=\"text-align: right;\">\n",
       "      <th></th>\n",
       "      <th>product_category_name</th>\n",
       "      <th>count</th>\n",
       "      <th>mean</th>\n",
       "      <th>median</th>\n",
       "      <th>std</th>\n",
       "      <th>proportion</th>\n",
       "    </tr>\n",
       "  </thead>\n",
       "  <tbody>\n",
       "    <tr>\n",
       "      <th>17</th>\n",
       "      <td>cds_dvds_musicais</td>\n",
       "      <td>12</td>\n",
       "      <td>4.6</td>\n",
       "      <td>5.0</td>\n",
       "      <td>0.6</td>\n",
       "      <td>0.0</td>\n",
       "    </tr>\n",
       "    <tr>\n",
       "      <th>37</th>\n",
       "      <td>fashion_roupa_infanto_juvenil</td>\n",
       "      <td>8</td>\n",
       "      <td>4.5</td>\n",
       "      <td>5.0</td>\n",
       "      <td>1.4</td>\n",
       "      <td>0.0</td>\n",
       "    </tr>\n",
       "    <tr>\n",
       "      <th>22</th>\n",
       "      <td>construcao_ferramentas_ferramentas</td>\n",
       "      <td>97</td>\n",
       "      <td>4.4</td>\n",
       "      <td>5.0</td>\n",
       "      <td>1.1</td>\n",
       "      <td>0.1</td>\n",
       "    </tr>\n",
       "    <tr>\n",
       "      <th>49</th>\n",
       "      <td>livros_tecnicos</td>\n",
       "      <td>260</td>\n",
       "      <td>4.4</td>\n",
       "      <td>5.0</td>\n",
       "      <td>1.2</td>\n",
       "      <td>0.3</td>\n",
       "    </tr>\n",
       "    <tr>\n",
       "      <th>47</th>\n",
       "      <td>livros_importados</td>\n",
       "      <td>53</td>\n",
       "      <td>4.4</td>\n",
       "      <td>5.0</td>\n",
       "      <td>1.3</td>\n",
       "      <td>0.1</td>\n",
       "    </tr>\n",
       "    <tr>\n",
       "      <th>...</th>\n",
       "      <td>...</td>\n",
       "      <td>...</td>\n",
       "      <td>...</td>\n",
       "      <td>...</td>\n",
       "      <td>...</td>\n",
       "      <td>...</td>\n",
       "    </tr>\n",
       "    <tr>\n",
       "      <th>55</th>\n",
       "      <td>moveis_escritorio</td>\n",
       "      <td>1273</td>\n",
       "      <td>3.5</td>\n",
       "      <td>4.0</td>\n",
       "      <td>1.5</td>\n",
       "      <td>1.3</td>\n",
       "    </tr>\n",
       "    <tr>\n",
       "      <th>65</th>\n",
       "      <td>portateis_cozinha_e_preparadores_de_alimentos</td>\n",
       "      <td>14</td>\n",
       "      <td>3.3</td>\n",
       "      <td>3.0</td>\n",
       "      <td>1.6</td>\n",
       "      <td>0.0</td>\n",
       "    </tr>\n",
       "    <tr>\n",
       "      <th>60</th>\n",
       "      <td>pc_gamer</td>\n",
       "      <td>8</td>\n",
       "      <td>3.3</td>\n",
       "      <td>4.0</td>\n",
       "      <td>1.8</td>\n",
       "      <td>0.0</td>\n",
       "    </tr>\n",
       "    <tr>\n",
       "      <th>42</th>\n",
       "      <td>fraldas_higiene</td>\n",
       "      <td>27</td>\n",
       "      <td>3.3</td>\n",
       "      <td>3.0</td>\n",
       "      <td>1.6</td>\n",
       "      <td>0.0</td>\n",
       "    </tr>\n",
       "    <tr>\n",
       "      <th>67</th>\n",
       "      <td>seguros_e_servicos</td>\n",
       "      <td>2</td>\n",
       "      <td>2.5</td>\n",
       "      <td>2.5</td>\n",
       "      <td>2.1</td>\n",
       "      <td>0.0</td>\n",
       "    </tr>\n",
       "  </tbody>\n",
       "</table>\n",
       "<p>73 rows × 6 columns</p>\n",
       "</div>"
      ],
      "text/plain": [
       "                            product_category_name  count  mean  median  std  \\\n",
       "17                              cds_dvds_musicais     12   4.6     5.0  0.6   \n",
       "37                  fashion_roupa_infanto_juvenil      8   4.5     5.0  1.4   \n",
       "22             construcao_ferramentas_ferramentas     97   4.4     5.0  1.1   \n",
       "49                                livros_tecnicos    260   4.4     5.0  1.2   \n",
       "47                              livros_importados     53   4.4     5.0  1.3   \n",
       "..                                            ...    ...   ...     ...  ...   \n",
       "55                              moveis_escritorio   1273   3.5     4.0  1.5   \n",
       "65  portateis_cozinha_e_preparadores_de_alimentos     14   3.3     3.0  1.6   \n",
       "60                                       pc_gamer      8   3.3     4.0  1.8   \n",
       "42                                fraldas_higiene     27   3.3     3.0  1.6   \n",
       "67                             seguros_e_servicos      2   2.5     2.5  2.1   \n",
       "\n",
       "    proportion  \n",
       "17         0.0  \n",
       "37         0.0  \n",
       "22         0.1  \n",
       "49         0.3  \n",
       "47         0.1  \n",
       "..         ...  \n",
       "55         1.3  \n",
       "65         0.0  \n",
       "60         0.0  \n",
       "42         0.0  \n",
       "67         0.0  \n",
       "\n",
       "[73 rows x 6 columns]"
      ]
     },
     "execution_count": 183,
     "metadata": {},
     "output_type": "execute_result"
    }
   ],
   "source": [
    "review = review.sort_values(by=\"mean\", ascending=False)\n",
    "review"
   ]
  },
  {
   "cell_type": "code",
   "execution_count": 184,
   "id": "aada9c38",
   "metadata": {},
   "outputs": [
    {
     "name": "stdout",
     "output_type": "stream",
     "text": [
      "Correlação entre count e mean: 0.03301575040501834\n"
     ]
    }
   ],
   "source": [
    "correlation = review[\"count\"].corr(review[\"mean\"])\n",
    "print(\"Correlação entre count e mean:\", correlation)"
   ]
  },
  {
   "cell_type": "code",
   "execution_count": 185,
   "id": "ecfd4068",
   "metadata": {},
   "outputs": [
    {
     "data": {
      "image/png": "[encoded data removed]",
      "text/plain": [
       "<Figure size 1000x600 with 1 Axes>"
      ]
     },
     "metadata": {},
     "output_type": "display_data"
    }
   ],
   "source": [
    "plt.figure(figsize=(10,6))\n",
    "plt.scatter(review[\"mean\"], review[\"count\"])\n",
    "\n",
    "plt.title(\"Relação entre Score Médio e Número de Avaliações por Categoria\")\n",
    "plt.xlabel(\"Score Médio (mean)\")\n",
    "plt.ylabel(\"Número de Avaliações (count)\")\n",
    "plt.grid(True)\n",
    "plt.show()"
   ]
  },
  {
   "cell_type": "markdown",
   "id": "c78aa4fd",
   "metadata": {},
   "source": [
    "# Conclusões\n",
    "\n",
    "* A receita bruta, a quantidade de vendedores e de pedidos aumenta a partir de jan/2017 e diminui drasticamente a partir de set/2018. Portanto, seria seguro usar os dados de jan/2017 até ago/2018.\n",
    "\n",
    "* Tomar cuidado com os valores nulos das categorias dos ids de produtos na tabela `produtcs`.\n",
    "\n",
    "* Todos os pedidos têm data de compra, porém podem estar sem data de aprovação, postagem, entrega ao consumidor ou entrega estimada. Mas todos possuem status do pedido.\n",
    "\n",
    "* Quase 100% dos pedidos possuem nota de review. Porém, nem todos possuem comentário.\n",
    "\n",
    "* Não há correlação forte entre o número de reviews e o score médio das avaliações.\n",
    "\n",
    "* Há oportunidades de serem construídos diversos modelos de machine learning com esses datasets. Identificamos alguns focados em:\n",
    "\n",
    "    - Segmentação de clientes (clustering);\n",
    "    - Churn de clientes (classificação);\n",
    "    - Previsão de preço de produto (regressão);\n",
    "    - Previsão de demanda por vendedor (série temporal);\n",
    "    - Análise de sentimento das avaliações (NLP)"
   ]
  },
  {
   "cell_type": "markdown",
   "id": "05212c2a",
   "metadata": {},
   "source": []
  }
 ],
 "metadata": {
  "kernelspec": {
   "display_name": "tech_challenge_fase_03",
   "language": "python",
   "name": "python3"
  },
  "language_info": {
   "codemirror_mode": {
    "name": "ipython",
    "version": 3
   },
   "file_extension": ".py",
   "mimetype": "text/x-python",
   "name": "python",
   "nbconvert_exporter": "python",
   "pygments_lexer": "ipython3",
   "version": "3.11.13"
  }
 },
 "nbformat": 4,
 "nbformat_minor": 5
}
