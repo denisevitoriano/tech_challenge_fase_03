{
 "cells": [
  {
   "cell_type": "markdown",
   "id": "677de15f",
   "metadata": {},
   "source": [
    "# Objetivo\n",
    "\n",
    "Esta ETL (Extract, Transform and Load) tem o objetivo principal de tratar os dados brutos da Olist com foco em criar tabelas que poderão ser utilizadas nos modelos de machine learning. \n",
    "\n",
    "Para isso, precisamos primeiro extrair, tratar e carregar e salvar as tabelas finais (fato) com as agregações e granularidade que precisamos.\n",
    "\n",
    "Fonte das tabelas usadas neste notebook: https://www.kaggle.com/datasets/olistbr/brazilian-ecommerce."
   ]
  },
  {
   "cell_type": "markdown",
   "id": "3418cd42",
   "metadata": {},
   "source": [
    "# Bibliotecas"
   ]
  },
  {
   "cell_type": "code",
   "execution_count": 1,
   "id": "d3227f68",
   "metadata": {},
   "outputs": [
    {
     "name": "stderr",
     "output_type": "stream",
     "text": [
      "/Users/joaonogueira/Documents/Denise/Fase 3/Projetos/tech_challenge_fase_03/.venv/lib/python3.11/site-packages/tqdm/auto.py:21: TqdmWarning: IProgress not found. Please update jupyter and ipywidgets. See https://ipywidgets.readthedocs.io/en/stable/user_install.html\n",
      "  from .autonotebook import tqdm as notebook_tqdm\n"
     ]
    }
   ],
   "source": [
    "import os\n",
    "import shutil\n",
    "import kagglehub\n",
    "import pandas as pd\n",
    "import matplotlib.pyplot as plt"
   ]
  },
  {
   "cell_type": "markdown",
   "id": "fdf61818",
   "metadata": {},
   "source": [
    "# Carregando as tabelas"
   ]
  },
  {
   "cell_type": "code",
   "execution_count": 2,
   "id": "4daecb60",
   "metadata": {},
   "outputs": [
    {
     "name": "stdout",
     "output_type": "stream",
     "text": [
      "Já existem arquivos em '../data/00_raw/'. Nenhum download necessário.\n"
     ]
    }
   ],
   "source": [
    "new_path = \"../data/00_raw/\"\n",
    "\n",
    "# Se a pasta já existe e tem arquivos, apenas avisa\n",
    "if os.path.exists(new_path) and len(os.listdir(new_path)) == 9:\n",
    "    print(f\"Já existem arquivos em '{new_path}'. Nenhum download necessário.\")\n",
    "else:\n",
    "    # Remove a pasta de destino se já existir e tiver menos de 9 arquivos\n",
    "    shutil.rmtree(new_path)\n",
    "    # Faz o download do dataset\n",
    "    path = kagglehub.dataset_download(\"olistbr/brazilian-ecommerce\")\n",
    "    print(\"Download concluído. Path:\", path)\n",
    "    # Move os arquivos baixados para a pasta de destino\n",
    "    shutil.move(path, new_path)\n",
    "    print(f\"Arquivos movidos para '{new_path}'.\")"
   ]
  },
  {
   "cell_type": "markdown",
   "id": "215dbb11",
   "metadata": {},
   "source": [
    "# Lendo as tabelas"
   ]
  },
  {
   "cell_type": "code",
   "execution_count": 3,
   "id": "f1f80a92",
   "metadata": {},
   "outputs": [],
   "source": [
    "# Vendedores\n",
    "sellers = pd.read_csv(f\"{new_path}olist_sellers_dataset.csv\")\n",
    "\n",
    "# Consumidores\n",
    "customers = pd.read_csv(f\"{new_path}olist_customers_dataset.csv\")\n",
    "\n",
    "# Geolocalização\n",
    "geolocation = pd.read_csv(f\"{new_path}olist_geolocation_dataset.csv\")\n",
    "\n",
    "# Produtos\n",
    "products = pd.read_csv(f\"{new_path}olist_products_dataset.csv\")\n",
    "\n",
    "# Categoria dos produtos\n",
    "product_category_name_translation = pd.read_csv(f\"{new_path}product_category_name_translation.csv\")\n",
    "\n",
    "# Produtos pedidos\n",
    "order_items = pd.read_csv(f\"{new_path}olist_order_items_dataset.csv\")\n",
    "\n",
    "# Pagamentos dos pedidos\n",
    "order_payments = pd.read_csv(f\"{new_path}olist_order_payments_dataset.csv\")\n",
    "\n",
    "# Status dos pedidos\n",
    "orders = pd.read_csv(f\"{new_path}olist_orders_dataset.csv\")\n",
    "\n",
    "# Reviews dos pedidos\n",
    "order_reviews = pd.read_csv(f\"{new_path}olist_order_reviews_dataset.csv\")"
   ]
  },
  {
   "cell_type": "markdown",
   "id": "0dbbfd06",
   "metadata": {},
   "source": [
    "# Tratamento dos dados"
   ]
  },
  {
   "cell_type": "markdown",
   "id": "31856e25",
   "metadata": {},
   "source": [
    "## Pedido"
   ]
  },
  {
   "cell_type": "code",
   "execution_count": 4,
   "id": "638d902b",
   "metadata": {},
   "outputs": [],
   "source": [
    "# Tabela fato de ordem de pedidos\n",
    "valor_ordem_pedido = (\n",
    "    orders\n",
    "    .merge(order_items, on=\"order_id\", how=\"inner\") # deixando apenas pedidos que também estejam presentes na tabela de produtos pedidos\n",
    "    .groupby([\"order_id\"])\n",
    "    .agg(\n",
    "        items_sold = (\"product_id\", \"count\"),\n",
    "        unique_items_sold = (\"product_id\", \"nunique\"),\n",
    "        price = (\"price\", \"sum\"),\n",
    "        freight_value = (\"freight_value\", \"sum\"),\n",
    "    )\n",
    "    .reset_index()\n",
    ")\n",
    "\n",
    "valor_ordem_pedido[\"order_value\"] = round(valor_ordem_pedido[\"price\"] + valor_ordem_pedido[\"freight_value\"],2)\n",
    "\n",
    "# Deixando a tabela apenas com pedidos contidos na tabela de preço dos pedidos\n",
    "df_fct_ordem_pedido = (\n",
    "    orders\n",
    "    .merge(valor_ordem_pedido, on=\"order_id\", how=\"inner\")\n",
    ")"
   ]
  },
  {
   "cell_type": "code",
   "execution_count": 5,
   "id": "888d28d1",
   "metadata": {},
   "outputs": [
    {
     "data": {
      "application/vnd.microsoft.datawrangler.viewer.v0+json": {
       "columns": [
        {
         "name": "index",
         "rawType": "int64",
         "type": "integer"
        },
        {
         "name": "order_id",
         "rawType": "object",
         "type": "string"
        },
        {
         "name": "items_sold",
         "rawType": "int64",
         "type": "integer"
        },
        {
         "name": "unique_items_sold",
         "rawType": "int64",
         "type": "integer"
        },
        {
         "name": "price",
         "rawType": "float64",
         "type": "float"
        },
        {
         "name": "freight_value",
         "rawType": "float64",
         "type": "float"
        },
        {
         "name": "order_value",
         "rawType": "float64",
         "type": "float"
        }
       ],
       "ref": "2fad27ad-08a8-4a7c-ab77-50d643bfb1d0",
       "rows": [
        [
         "0",
         "00010242fe8c5a6d1ba2dd792cb16214",
         "1",
         "1",
         "58.9",
         "13.29",
         "72.19"
        ],
        [
         "1",
         "00018f77f2f0320c557190d7a144bdd3",
         "1",
         "1",
         "239.9",
         "19.93",
         "259.83"
        ],
        [
         "2",
         "000229ec398224ef6ca0657da4fc703e",
         "1",
         "1",
         "199.0",
         "17.87",
         "216.87"
        ],
        [
         "3",
         "00024acbcdf0a6daa1e931b038114c75",
         "1",
         "1",
         "12.99",
         "12.79",
         "25.78"
        ],
        [
         "4",
         "00042b26cf59d7ce69dfabb4e55b4fd9",
         "1",
         "1",
         "199.9",
         "18.14",
         "218.04"
        ]
       ],
       "shape": {
        "columns": 6,
        "rows": 5
       }
      },
      "text/html": [
       "<div>\n",
       "<style scoped>\n",
       "    .dataframe tbody tr th:only-of-type {\n",
       "        vertical-align: middle;\n",
       "    }\n",
       "\n",
       "    .dataframe tbody tr th {\n",
       "        vertical-align: top;\n",
       "    }\n",
       "\n",
       "    .dataframe thead th {\n",
       "        text-align: right;\n",
       "    }\n",
       "</style>\n",
       "<table border=\"1\" class=\"dataframe\">\n",
       "  <thead>\n",
       "    <tr style=\"text-align: right;\">\n",
       "      <th></th>\n",
       "      <th>order_id</th>\n",
       "      <th>items_sold</th>\n",
       "      <th>unique_items_sold</th>\n",
       "      <th>price</th>\n",
       "      <th>freight_value</th>\n",
       "      <th>order_value</th>\n",
       "    </tr>\n",
       "  </thead>\n",
       "  <tbody>\n",
       "    <tr>\n",
       "      <th>0</th>\n",
       "      <td>00010242fe8c5a6d1ba2dd792cb16214</td>\n",
       "      <td>1</td>\n",
       "      <td>1</td>\n",
       "      <td>58.90</td>\n",
       "      <td>13.29</td>\n",
       "      <td>72.19</td>\n",
       "    </tr>\n",
       "    <tr>\n",
       "      <th>1</th>\n",
       "      <td>00018f77f2f0320c557190d7a144bdd3</td>\n",
       "      <td>1</td>\n",
       "      <td>1</td>\n",
       "      <td>239.90</td>\n",
       "      <td>19.93</td>\n",
       "      <td>259.83</td>\n",
       "    </tr>\n",
       "    <tr>\n",
       "      <th>2</th>\n",
       "      <td>000229ec398224ef6ca0657da4fc703e</td>\n",
       "      <td>1</td>\n",
       "      <td>1</td>\n",
       "      <td>199.00</td>\n",
       "      <td>17.87</td>\n",
       "      <td>216.87</td>\n",
       "    </tr>\n",
       "    <tr>\n",
       "      <th>3</th>\n",
       "      <td>00024acbcdf0a6daa1e931b038114c75</td>\n",
       "      <td>1</td>\n",
       "      <td>1</td>\n",
       "      <td>12.99</td>\n",
       "      <td>12.79</td>\n",
       "      <td>25.78</td>\n",
       "    </tr>\n",
       "    <tr>\n",
       "      <th>4</th>\n",
       "      <td>00042b26cf59d7ce69dfabb4e55b4fd9</td>\n",
       "      <td>1</td>\n",
       "      <td>1</td>\n",
       "      <td>199.90</td>\n",
       "      <td>18.14</td>\n",
       "      <td>218.04</td>\n",
       "    </tr>\n",
       "  </tbody>\n",
       "</table>\n",
       "</div>"
      ],
      "text/plain": [
       "                           order_id  items_sold  unique_items_sold   price  \\\n",
       "0  00010242fe8c5a6d1ba2dd792cb16214           1                  1   58.90   \n",
       "1  00018f77f2f0320c557190d7a144bdd3           1                  1  239.90   \n",
       "2  000229ec398224ef6ca0657da4fc703e           1                  1  199.00   \n",
       "3  00024acbcdf0a6daa1e931b038114c75           1                  1   12.99   \n",
       "4  00042b26cf59d7ce69dfabb4e55b4fd9           1                  1  199.90   \n",
       "\n",
       "   freight_value  order_value  \n",
       "0          13.29        72.19  \n",
       "1          19.93       259.83  \n",
       "2          17.87       216.87  \n",
       "3          12.79        25.78  \n",
       "4          18.14       218.04  "
      ]
     },
     "execution_count": 5,
     "metadata": {},
     "output_type": "execute_result"
    }
   ],
   "source": [
    "valor_ordem_pedido.head()"
   ]
  },
  {
   "cell_type": "code",
   "execution_count": 6,
   "id": "ac2ef35d",
   "metadata": {},
   "outputs": [
    {
     "data": {
      "application/vnd.microsoft.datawrangler.viewer.v0+json": {
       "columns": [
        {
         "name": "index",
         "rawType": "int64",
         "type": "integer"
        },
        {
         "name": "order_id",
         "rawType": "object",
         "type": "string"
        },
        {
         "name": "customer_id",
         "rawType": "object",
         "type": "string"
        },
        {
         "name": "order_status",
         "rawType": "object",
         "type": "string"
        },
        {
         "name": "order_purchase_timestamp",
         "rawType": "object",
         "type": "string"
        },
        {
         "name": "order_approved_at",
         "rawType": "object",
         "type": "string"
        },
        {
         "name": "order_delivered_carrier_date",
         "rawType": "object",
         "type": "string"
        },
        {
         "name": "order_delivered_customer_date",
         "rawType": "object",
         "type": "string"
        },
        {
         "name": "order_estimated_delivery_date",
         "rawType": "object",
         "type": "string"
        },
        {
         "name": "items_sold",
         "rawType": "int64",
         "type": "integer"
        },
        {
         "name": "unique_items_sold",
         "rawType": "int64",
         "type": "integer"
        },
        {
         "name": "price",
         "rawType": "float64",
         "type": "float"
        },
        {
         "name": "freight_value",
         "rawType": "float64",
         "type": "float"
        },
        {
         "name": "order_value",
         "rawType": "float64",
         "type": "float"
        }
       ],
       "ref": "f55c28fe-b72f-450d-900c-1d20b4a3a4f8",
       "rows": [
        [
         "0",
         "e481f51cbdc54678b7cc49136f2d6af7",
         "9ef432eb6251297304e76186b10a928d",
         "delivered",
         "2017-10-02 10:56:33",
         "2017-10-02 11:07:15",
         "2017-10-04 19:55:00",
         "2017-10-10 21:25:13",
         "2017-10-18 00:00:00",
         "1",
         "1",
         "29.99",
         "8.72",
         "38.71"
        ],
        [
         "1",
         "53cdb2fc8bc7dce0b6741e2150273451",
         "b0830fb4747a6c6d20dea0b8c802d7ef",
         "delivered",
         "2018-07-24 20:41:37",
         "2018-07-26 03:24:27",
         "2018-07-26 14:31:00",
         "2018-08-07 15:27:45",
         "2018-08-13 00:00:00",
         "1",
         "1",
         "118.7",
         "22.76",
         "141.46"
        ],
        [
         "2",
         "47770eb9100c2d0c44946d9cf07ec65d",
         "41ce2a54c0b03bf3443c3d931a367089",
         "delivered",
         "2018-08-08 08:38:49",
         "2018-08-08 08:55:23",
         "2018-08-08 13:50:00",
         "2018-08-17 18:06:29",
         "2018-09-04 00:00:00",
         "1",
         "1",
         "159.9",
         "19.22",
         "179.12"
        ],
        [
         "3",
         "949d5b44dbf5de918fe9c16f97b45f8a",
         "f88197465ea7920adcdbec7375364d82",
         "delivered",
         "2017-11-18 19:28:06",
         "2017-11-18 19:45:59",
         "2017-11-22 13:39:59",
         "2017-12-02 00:28:42",
         "2017-12-15 00:00:00",
         "1",
         "1",
         "45.0",
         "27.2",
         "72.2"
        ],
        [
         "4",
         "ad21c59c0840e6cb83a9ceb5573f8159",
         "8ab97904e6daea8866dbdbc4fb7aad2c",
         "delivered",
         "2018-02-13 21:18:39",
         "2018-02-13 22:20:29",
         "2018-02-14 19:46:34",
         "2018-02-16 18:17:02",
         "2018-02-26 00:00:00",
         "1",
         "1",
         "19.9",
         "8.72",
         "28.62"
        ]
       ],
       "shape": {
        "columns": 13,
        "rows": 5
       }
      },
      "text/html": [
       "<div>\n",
       "<style scoped>\n",
       "    .dataframe tbody tr th:only-of-type {\n",
       "        vertical-align: middle;\n",
       "    }\n",
       "\n",
       "    .dataframe tbody tr th {\n",
       "        vertical-align: top;\n",
       "    }\n",
       "\n",
       "    .dataframe thead th {\n",
       "        text-align: right;\n",
       "    }\n",
       "</style>\n",
       "<table border=\"1\" class=\"dataframe\">\n",
       "  <thead>\n",
       "    <tr style=\"text-align: right;\">\n",
       "      <th></th>\n",
       "      <th>order_id</th>\n",
       "      <th>customer_id</th>\n",
       "      <th>order_status</th>\n",
       "      <th>order_purchase_timestamp</th>\n",
       "      <th>order_approved_at</th>\n",
       "      <th>order_delivered_carrier_date</th>\n",
       "      <th>order_delivered_customer_date</th>\n",
       "      <th>order_estimated_delivery_date</th>\n",
       "      <th>items_sold</th>\n",
       "      <th>unique_items_sold</th>\n",
       "      <th>price</th>\n",
       "      <th>freight_value</th>\n",
       "      <th>order_value</th>\n",
       "    </tr>\n",
       "  </thead>\n",
       "  <tbody>\n",
       "    <tr>\n",
       "      <th>0</th>\n",
       "      <td>e481f51cbdc54678b7cc49136f2d6af7</td>\n",
       "      <td>9ef432eb6251297304e76186b10a928d</td>\n",
       "      <td>delivered</td>\n",
       "      <td>2017-10-02 10:56:33</td>\n",
       "      <td>2017-10-02 11:07:15</td>\n",
       "      <td>2017-10-04 19:55:00</td>\n",
       "      <td>2017-10-10 21:25:13</td>\n",
       "      <td>2017-10-18 00:00:00</td>\n",
       "      <td>1</td>\n",
       "      <td>1</td>\n",
       "      <td>29.99</td>\n",
       "      <td>8.72</td>\n",
       "      <td>38.71</td>\n",
       "    </tr>\n",
       "    <tr>\n",
       "      <th>1</th>\n",
       "      <td>53cdb2fc8bc7dce0b6741e2150273451</td>\n",
       "      <td>b0830fb4747a6c6d20dea0b8c802d7ef</td>\n",
       "      <td>delivered</td>\n",
       "      <td>2018-07-24 20:41:37</td>\n",
       "      <td>2018-07-26 03:24:27</td>\n",
       "      <td>2018-07-26 14:31:00</td>\n",
       "      <td>2018-08-07 15:27:45</td>\n",
       "      <td>2018-08-13 00:00:00</td>\n",
       "      <td>1</td>\n",
       "      <td>1</td>\n",
       "      <td>118.70</td>\n",
       "      <td>22.76</td>\n",
       "      <td>141.46</td>\n",
       "    </tr>\n",
       "    <tr>\n",
       "      <th>2</th>\n",
       "      <td>47770eb9100c2d0c44946d9cf07ec65d</td>\n",
       "      <td>41ce2a54c0b03bf3443c3d931a367089</td>\n",
       "      <td>delivered</td>\n",
       "      <td>2018-08-08 08:38:49</td>\n",
       "      <td>2018-08-08 08:55:23</td>\n",
       "      <td>2018-08-08 13:50:00</td>\n",
       "      <td>2018-08-17 18:06:29</td>\n",
       "      <td>2018-09-04 00:00:00</td>\n",
       "      <td>1</td>\n",
       "      <td>1</td>\n",
       "      <td>159.90</td>\n",
       "      <td>19.22</td>\n",
       "      <td>179.12</td>\n",
       "    </tr>\n",
       "    <tr>\n",
       "      <th>3</th>\n",
       "      <td>949d5b44dbf5de918fe9c16f97b45f8a</td>\n",
       "      <td>f88197465ea7920adcdbec7375364d82</td>\n",
       "      <td>delivered</td>\n",
       "      <td>2017-11-18 19:28:06</td>\n",
       "      <td>2017-11-18 19:45:59</td>\n",
       "      <td>2017-11-22 13:39:59</td>\n",
       "      <td>2017-12-02 00:28:42</td>\n",
       "      <td>2017-12-15 00:00:00</td>\n",
       "      <td>1</td>\n",
       "      <td>1</td>\n",
       "      <td>45.00</td>\n",
       "      <td>27.20</td>\n",
       "      <td>72.20</td>\n",
       "    </tr>\n",
       "    <tr>\n",
       "      <th>4</th>\n",
       "      <td>ad21c59c0840e6cb83a9ceb5573f8159</td>\n",
       "      <td>8ab97904e6daea8866dbdbc4fb7aad2c</td>\n",
       "      <td>delivered</td>\n",
       "      <td>2018-02-13 21:18:39</td>\n",
       "      <td>2018-02-13 22:20:29</td>\n",
       "      <td>2018-02-14 19:46:34</td>\n",
       "      <td>2018-02-16 18:17:02</td>\n",
       "      <td>2018-02-26 00:00:00</td>\n",
       "      <td>1</td>\n",
       "      <td>1</td>\n",
       "      <td>19.90</td>\n",
       "      <td>8.72</td>\n",
       "      <td>28.62</td>\n",
       "    </tr>\n",
       "  </tbody>\n",
       "</table>\n",
       "</div>"
      ],
      "text/plain": [
       "                           order_id                       customer_id  \\\n",
       "0  e481f51cbdc54678b7cc49136f2d6af7  9ef432eb6251297304e76186b10a928d   \n",
       "1  53cdb2fc8bc7dce0b6741e2150273451  b0830fb4747a6c6d20dea0b8c802d7ef   \n",
       "2  47770eb9100c2d0c44946d9cf07ec65d  41ce2a54c0b03bf3443c3d931a367089   \n",
       "3  949d5b44dbf5de918fe9c16f97b45f8a  f88197465ea7920adcdbec7375364d82   \n",
       "4  ad21c59c0840e6cb83a9ceb5573f8159  8ab97904e6daea8866dbdbc4fb7aad2c   \n",
       "\n",
       "  order_status order_purchase_timestamp    order_approved_at  \\\n",
       "0    delivered      2017-10-02 10:56:33  2017-10-02 11:07:15   \n",
       "1    delivered      2018-07-24 20:41:37  2018-07-26 03:24:27   \n",
       "2    delivered      2018-08-08 08:38:49  2018-08-08 08:55:23   \n",
       "3    delivered      2017-11-18 19:28:06  2017-11-18 19:45:59   \n",
       "4    delivered      2018-02-13 21:18:39  2018-02-13 22:20:29   \n",
       "\n",
       "  order_delivered_carrier_date order_delivered_customer_date  \\\n",
       "0          2017-10-04 19:55:00           2017-10-10 21:25:13   \n",
       "1          2018-07-26 14:31:00           2018-08-07 15:27:45   \n",
       "2          2018-08-08 13:50:00           2018-08-17 18:06:29   \n",
       "3          2017-11-22 13:39:59           2017-12-02 00:28:42   \n",
       "4          2018-02-14 19:46:34           2018-02-16 18:17:02   \n",
       "\n",
       "  order_estimated_delivery_date  items_sold  unique_items_sold   price  \\\n",
       "0           2017-10-18 00:00:00           1                  1   29.99   \n",
       "1           2018-08-13 00:00:00           1                  1  118.70   \n",
       "2           2018-09-04 00:00:00           1                  1  159.90   \n",
       "3           2017-12-15 00:00:00           1                  1   45.00   \n",
       "4           2018-02-26 00:00:00           1                  1   19.90   \n",
       "\n",
       "   freight_value  order_value  \n",
       "0           8.72        38.71  \n",
       "1          22.76       141.46  \n",
       "2          19.22       179.12  \n",
       "3          27.20        72.20  \n",
       "4           8.72        28.62  "
      ]
     },
     "execution_count": 6,
     "metadata": {},
     "output_type": "execute_result"
    }
   ],
   "source": [
    "df_fct_ordem_pedido.head()"
   ]
  },
  {
   "cell_type": "code",
   "execution_count": 7,
   "id": "65d17a4b",
   "metadata": {},
   "outputs": [
    {
     "data": {
      "application/vnd.microsoft.datawrangler.viewer.v0+json": {
       "columns": [
        {
         "name": "index",
         "rawType": "int64",
         "type": "integer"
        },
        {
         "name": "order_id",
         "rawType": "object",
         "type": "string"
        },
        {
         "name": "items_sold",
         "rawType": "int64",
         "type": "integer"
        },
        {
         "name": "unique_items_sold",
         "rawType": "int64",
         "type": "integer"
        },
        {
         "name": "price",
         "rawType": "float64",
         "type": "float"
        },
        {
         "name": "freight_value",
         "rawType": "float64",
         "type": "float"
        },
        {
         "name": "order_value",
         "rawType": "float64",
         "type": "float"
        }
       ],
       "ref": "5d56715c-6f9d-4eba-9b5e-d5c24b1992de",
       "rows": [
        [
         "13",
         "0008288aa423d2a3f00fcb17cd7d8719",
         "2",
         "1",
         "99.8",
         "26.74",
         "126.54"
        ]
       ],
       "shape": {
        "columns": 6,
        "rows": 1
       }
      },
      "text/html": [
       "<div>\n",
       "<style scoped>\n",
       "    .dataframe tbody tr th:only-of-type {\n",
       "        vertical-align: middle;\n",
       "    }\n",
       "\n",
       "    .dataframe tbody tr th {\n",
       "        vertical-align: top;\n",
       "    }\n",
       "\n",
       "    .dataframe thead th {\n",
       "        text-align: right;\n",
       "    }\n",
       "</style>\n",
       "<table border=\"1\" class=\"dataframe\">\n",
       "  <thead>\n",
       "    <tr style=\"text-align: right;\">\n",
       "      <th></th>\n",
       "      <th>order_id</th>\n",
       "      <th>items_sold</th>\n",
       "      <th>unique_items_sold</th>\n",
       "      <th>price</th>\n",
       "      <th>freight_value</th>\n",
       "      <th>order_value</th>\n",
       "    </tr>\n",
       "  </thead>\n",
       "  <tbody>\n",
       "    <tr>\n",
       "      <th>13</th>\n",
       "      <td>0008288aa423d2a3f00fcb17cd7d8719</td>\n",
       "      <td>2</td>\n",
       "      <td>1</td>\n",
       "      <td>99.8</td>\n",
       "      <td>26.74</td>\n",
       "      <td>126.54</td>\n",
       "    </tr>\n",
       "  </tbody>\n",
       "</table>\n",
       "</div>"
      ],
      "text/plain": [
       "                            order_id  items_sold  unique_items_sold  price  \\\n",
       "13  0008288aa423d2a3f00fcb17cd7d8719           2                  1   99.8   \n",
       "\n",
       "    freight_value  order_value  \n",
       "13          26.74       126.54  "
      ]
     },
     "execution_count": 7,
     "metadata": {},
     "output_type": "execute_result"
    }
   ],
   "source": [
    "valor_ordem_pedido[valor_ordem_pedido[\"order_id\"]==\"0008288aa423d2a3f00fcb17cd7d8719\"]"
   ]
  },
  {
   "cell_type": "code",
   "execution_count": 8,
   "id": "72c730fe",
   "metadata": {},
   "outputs": [
    {
     "data": {
      "application/vnd.microsoft.datawrangler.viewer.v0+json": {
       "columns": [
        {
         "name": "index",
         "rawType": "int64",
         "type": "integer"
        },
        {
         "name": "order_id",
         "rawType": "object",
         "type": "string"
        },
        {
         "name": "order_item_id",
         "rawType": "int64",
         "type": "integer"
        },
        {
         "name": "product_id",
         "rawType": "object",
         "type": "string"
        },
        {
         "name": "seller_id",
         "rawType": "object",
         "type": "string"
        },
        {
         "name": "shipping_limit_date",
         "rawType": "object",
         "type": "string"
        },
        {
         "name": "price",
         "rawType": "float64",
         "type": "float"
        },
        {
         "name": "freight_value",
         "rawType": "float64",
         "type": "float"
        }
       ],
       "ref": "93ae2ed7-f7c0-4dce-9c9c-16eddf466f87",
       "rows": [
        [
         "13",
         "0008288aa423d2a3f00fcb17cd7d8719",
         "1",
         "368c6c730842d78016ad823897a372db",
         "1f50f920176fa81dab994f9023523100",
         "2018-02-21 02:55:52",
         "49.9",
         "13.37"
        ],
        [
         "14",
         "0008288aa423d2a3f00fcb17cd7d8719",
         "2",
         "368c6c730842d78016ad823897a372db",
         "1f50f920176fa81dab994f9023523100",
         "2018-02-21 02:55:52",
         "49.9",
         "13.37"
        ]
       ],
       "shape": {
        "columns": 7,
        "rows": 2
       }
      },
      "text/html": [
       "<div>\n",
       "<style scoped>\n",
       "    .dataframe tbody tr th:only-of-type {\n",
       "        vertical-align: middle;\n",
       "    }\n",
       "\n",
       "    .dataframe tbody tr th {\n",
       "        vertical-align: top;\n",
       "    }\n",
       "\n",
       "    .dataframe thead th {\n",
       "        text-align: right;\n",
       "    }\n",
       "</style>\n",
       "<table border=\"1\" class=\"dataframe\">\n",
       "  <thead>\n",
       "    <tr style=\"text-align: right;\">\n",
       "      <th></th>\n",
       "      <th>order_id</th>\n",
       "      <th>order_item_id</th>\n",
       "      <th>product_id</th>\n",
       "      <th>seller_id</th>\n",
       "      <th>shipping_limit_date</th>\n",
       "      <th>price</th>\n",
       "      <th>freight_value</th>\n",
       "    </tr>\n",
       "  </thead>\n",
       "  <tbody>\n",
       "    <tr>\n",
       "      <th>13</th>\n",
       "      <td>0008288aa423d2a3f00fcb17cd7d8719</td>\n",
       "      <td>1</td>\n",
       "      <td>368c6c730842d78016ad823897a372db</td>\n",
       "      <td>1f50f920176fa81dab994f9023523100</td>\n",
       "      <td>2018-02-21 02:55:52</td>\n",
       "      <td>49.9</td>\n",
       "      <td>13.37</td>\n",
       "    </tr>\n",
       "    <tr>\n",
       "      <th>14</th>\n",
       "      <td>0008288aa423d2a3f00fcb17cd7d8719</td>\n",
       "      <td>2</td>\n",
       "      <td>368c6c730842d78016ad823897a372db</td>\n",
       "      <td>1f50f920176fa81dab994f9023523100</td>\n",
       "      <td>2018-02-21 02:55:52</td>\n",
       "      <td>49.9</td>\n",
       "      <td>13.37</td>\n",
       "    </tr>\n",
       "  </tbody>\n",
       "</table>\n",
       "</div>"
      ],
      "text/plain": [
       "                            order_id  order_item_id  \\\n",
       "13  0008288aa423d2a3f00fcb17cd7d8719              1   \n",
       "14  0008288aa423d2a3f00fcb17cd7d8719              2   \n",
       "\n",
       "                          product_id                         seller_id  \\\n",
       "13  368c6c730842d78016ad823897a372db  1f50f920176fa81dab994f9023523100   \n",
       "14  368c6c730842d78016ad823897a372db  1f50f920176fa81dab994f9023523100   \n",
       "\n",
       "    shipping_limit_date  price  freight_value  \n",
       "13  2018-02-21 02:55:52   49.9          13.37  \n",
       "14  2018-02-21 02:55:52   49.9          13.37  "
      ]
     },
     "execution_count": 8,
     "metadata": {},
     "output_type": "execute_result"
    }
   ],
   "source": [
    "order_items[order_items[\"order_id\"]==\"0008288aa423d2a3f00fcb17cd7d8719\"]"
   ]
  },
  {
   "cell_type": "code",
   "execution_count": 9,
   "id": "9881ccf0",
   "metadata": {},
   "outputs": [
    {
     "data": {
      "application/vnd.microsoft.datawrangler.viewer.v0+json": {
       "columns": [
        {
         "name": "index",
         "rawType": "int64",
         "type": "integer"
        },
        {
         "name": "order_id",
         "rawType": "object",
         "type": "string"
        },
        {
         "name": "customer_id",
         "rawType": "object",
         "type": "string"
        },
        {
         "name": "order_status",
         "rawType": "object",
         "type": "string"
        },
        {
         "name": "order_purchase_timestamp",
         "rawType": "object",
         "type": "string"
        },
        {
         "name": "order_approved_at",
         "rawType": "object",
         "type": "string"
        },
        {
         "name": "order_delivered_carrier_date",
         "rawType": "object",
         "type": "string"
        },
        {
         "name": "order_delivered_customer_date",
         "rawType": "object",
         "type": "string"
        },
        {
         "name": "order_estimated_delivery_date",
         "rawType": "object",
         "type": "string"
        },
        {
         "name": "items_sold",
         "rawType": "int64",
         "type": "integer"
        },
        {
         "name": "unique_items_sold",
         "rawType": "int64",
         "type": "integer"
        },
        {
         "name": "price",
         "rawType": "float64",
         "type": "float"
        },
        {
         "name": "freight_value",
         "rawType": "float64",
         "type": "float"
        },
        {
         "name": "order_value",
         "rawType": "float64",
         "type": "float"
        }
       ],
       "ref": "516fb66d-a28e-4df6-93be-6996e89c0bde",
       "rows": [
        [
         "53537",
         "0008288aa423d2a3f00fcb17cd7d8719",
         "2355af7c75e7c98b43a87b2a7f210dc5",
         "delivered",
         "2018-02-13 22:10:21",
         "2018-02-15 03:55:52",
         "2018-02-20 18:23:28",
         "2018-02-26 13:55:22",
         "2018-03-06 00:00:00",
         "2",
         "1",
         "99.8",
         "26.74",
         "126.54"
        ]
       ],
       "shape": {
        "columns": 13,
        "rows": 1
       }
      },
      "text/html": [
       "<div>\n",
       "<style scoped>\n",
       "    .dataframe tbody tr th:only-of-type {\n",
       "        vertical-align: middle;\n",
       "    }\n",
       "\n",
       "    .dataframe tbody tr th {\n",
       "        vertical-align: top;\n",
       "    }\n",
       "\n",
       "    .dataframe thead th {\n",
       "        text-align: right;\n",
       "    }\n",
       "</style>\n",
       "<table border=\"1\" class=\"dataframe\">\n",
       "  <thead>\n",
       "    <tr style=\"text-align: right;\">\n",
       "      <th></th>\n",
       "      <th>order_id</th>\n",
       "      <th>customer_id</th>\n",
       "      <th>order_status</th>\n",
       "      <th>order_purchase_timestamp</th>\n",
       "      <th>order_approved_at</th>\n",
       "      <th>order_delivered_carrier_date</th>\n",
       "      <th>order_delivered_customer_date</th>\n",
       "      <th>order_estimated_delivery_date</th>\n",
       "      <th>items_sold</th>\n",
       "      <th>unique_items_sold</th>\n",
       "      <th>price</th>\n",
       "      <th>freight_value</th>\n",
       "      <th>order_value</th>\n",
       "    </tr>\n",
       "  </thead>\n",
       "  <tbody>\n",
       "    <tr>\n",
       "      <th>53537</th>\n",
       "      <td>0008288aa423d2a3f00fcb17cd7d8719</td>\n",
       "      <td>2355af7c75e7c98b43a87b2a7f210dc5</td>\n",
       "      <td>delivered</td>\n",
       "      <td>2018-02-13 22:10:21</td>\n",
       "      <td>2018-02-15 03:55:52</td>\n",
       "      <td>2018-02-20 18:23:28</td>\n",
       "      <td>2018-02-26 13:55:22</td>\n",
       "      <td>2018-03-06 00:00:00</td>\n",
       "      <td>2</td>\n",
       "      <td>1</td>\n",
       "      <td>99.8</td>\n",
       "      <td>26.74</td>\n",
       "      <td>126.54</td>\n",
       "    </tr>\n",
       "  </tbody>\n",
       "</table>\n",
       "</div>"
      ],
      "text/plain": [
       "                               order_id                       customer_id  \\\n",
       "53537  0008288aa423d2a3f00fcb17cd7d8719  2355af7c75e7c98b43a87b2a7f210dc5   \n",
       "\n",
       "      order_status order_purchase_timestamp    order_approved_at  \\\n",
       "53537    delivered      2018-02-13 22:10:21  2018-02-15 03:55:52   \n",
       "\n",
       "      order_delivered_carrier_date order_delivered_customer_date  \\\n",
       "53537          2018-02-20 18:23:28           2018-02-26 13:55:22   \n",
       "\n",
       "      order_estimated_delivery_date  items_sold  unique_items_sold  price  \\\n",
       "53537           2018-03-06 00:00:00           2                  1   99.8   \n",
       "\n",
       "       freight_value  order_value  \n",
       "53537          26.74       126.54  "
      ]
     },
     "execution_count": 9,
     "metadata": {},
     "output_type": "execute_result"
    }
   ],
   "source": [
    "df_fct_ordem_pedido[df_fct_ordem_pedido[\"order_id\"]==\"0008288aa423d2a3f00fcb17cd7d8719\"]"
   ]
  },
  {
   "cell_type": "code",
   "execution_count": 10,
   "id": "346a9cae",
   "metadata": {},
   "outputs": [
    {
     "name": "stdout",
     "output_type": "stream",
     "text": [
      "<class 'pandas.core.frame.DataFrame'>\n",
      "RangeIndex: 98666 entries, 0 to 98665\n",
      "Data columns (total 13 columns):\n",
      " #   Column                         Non-Null Count  Dtype  \n",
      "---  ------                         --------------  -----  \n",
      " 0   order_id                       98666 non-null  object \n",
      " 1   customer_id                    98666 non-null  object \n",
      " 2   order_status                   98666 non-null  object \n",
      " 3   order_purchase_timestamp       98666 non-null  object \n",
      " 4   order_approved_at              98652 non-null  object \n",
      " 5   order_delivered_carrier_date   97657 non-null  object \n",
      " 6   order_delivered_customer_date  96476 non-null  object \n",
      " 7   order_estimated_delivery_date  98666 non-null  object \n",
      " 8   items_sold                     98666 non-null  int64  \n",
      " 9   unique_items_sold              98666 non-null  int64  \n",
      " 10  price                          98666 non-null  float64\n",
      " 11  freight_value                  98666 non-null  float64\n",
      " 12  order_value                    98666 non-null  float64\n",
      "dtypes: float64(3), int64(2), object(8)\n",
      "memory usage: 9.8+ MB\n",
      "(98666, 13)\n"
     ]
    }
   ],
   "source": [
    "df_fct_ordem_pedido.info()\n",
    "print(df_fct_ordem_pedido.shape)"
   ]
  },
  {
   "cell_type": "code",
   "execution_count": 11,
   "id": "e3de1ba1",
   "metadata": {},
   "outputs": [
    {
     "data": {
      "application/vnd.microsoft.datawrangler.viewer.v0+json": {
       "columns": [
        {
         "name": "index",
         "rawType": "object",
         "type": "string"
        },
        {
         "name": "items_sold",
         "rawType": "float64",
         "type": "float"
        },
        {
         "name": "unique_items_sold",
         "rawType": "float64",
         "type": "float"
        },
        {
         "name": "price",
         "rawType": "float64",
         "type": "float"
        },
        {
         "name": "freight_value",
         "rawType": "float64",
         "type": "float"
        },
        {
         "name": "order_value",
         "rawType": "float64",
         "type": "float"
        }
       ],
       "ref": "db600417-af2b-4bef-ab99-79ad18154c85",
       "rows": [
        [
         "count",
         "98666.0",
         "98666.0",
         "98666.0",
         "98666.0",
         "98666.0"
        ],
        [
         "mean",
         "1.1417306873695092",
         "1.0380982303934485",
         "137.75407637889447",
         "22.82356171325482",
         "160.57763809214924"
        ],
        [
         "std",
         "0.5384523739205161",
         "0.22645641747333772",
         "210.64514531166347",
         "21.65090948046291",
         "220.46608651478527"
        ],
        [
         "min",
         "1.0",
         "1.0",
         "0.85",
         "0.0",
         "9.59"
        ],
        [
         "25%",
         "1.0",
         "1.0",
         "45.9",
         "13.85",
         "61.98"
        ],
        [
         "50%",
         "1.0",
         "1.0",
         "86.9",
         "17.17",
         "105.29"
        ],
        [
         "75%",
         "1.0",
         "1.0",
         "149.9",
         "24.04",
         "176.87"
        ],
        [
         "max",
         "21.0",
         "8.0",
         "13440.0",
         "1794.96",
         "13664.08"
        ]
       ],
       "shape": {
        "columns": 5,
        "rows": 8
       }
      },
      "text/html": [
       "<div>\n",
       "<style scoped>\n",
       "    .dataframe tbody tr th:only-of-type {\n",
       "        vertical-align: middle;\n",
       "    }\n",
       "\n",
       "    .dataframe tbody tr th {\n",
       "        vertical-align: top;\n",
       "    }\n",
       "\n",
       "    .dataframe thead th {\n",
       "        text-align: right;\n",
       "    }\n",
       "</style>\n",
       "<table border=\"1\" class=\"dataframe\">\n",
       "  <thead>\n",
       "    <tr style=\"text-align: right;\">\n",
       "      <th></th>\n",
       "      <th>items_sold</th>\n",
       "      <th>unique_items_sold</th>\n",
       "      <th>price</th>\n",
       "      <th>freight_value</th>\n",
       "      <th>order_value</th>\n",
       "    </tr>\n",
       "  </thead>\n",
       "  <tbody>\n",
       "    <tr>\n",
       "      <th>count</th>\n",
       "      <td>98666.000000</td>\n",
       "      <td>98666.000000</td>\n",
       "      <td>98666.000000</td>\n",
       "      <td>98666.000000</td>\n",
       "      <td>98666.000000</td>\n",
       "    </tr>\n",
       "    <tr>\n",
       "      <th>mean</th>\n",
       "      <td>1.141731</td>\n",
       "      <td>1.038098</td>\n",
       "      <td>137.754076</td>\n",
       "      <td>22.823562</td>\n",
       "      <td>160.577638</td>\n",
       "    </tr>\n",
       "    <tr>\n",
       "      <th>std</th>\n",
       "      <td>0.538452</td>\n",
       "      <td>0.226456</td>\n",
       "      <td>210.645145</td>\n",
       "      <td>21.650909</td>\n",
       "      <td>220.466087</td>\n",
       "    </tr>\n",
       "    <tr>\n",
       "      <th>min</th>\n",
       "      <td>1.000000</td>\n",
       "      <td>1.000000</td>\n",
       "      <td>0.850000</td>\n",
       "      <td>0.000000</td>\n",
       "      <td>9.590000</td>\n",
       "    </tr>\n",
       "    <tr>\n",
       "      <th>25%</th>\n",
       "      <td>1.000000</td>\n",
       "      <td>1.000000</td>\n",
       "      <td>45.900000</td>\n",
       "      <td>13.850000</td>\n",
       "      <td>61.980000</td>\n",
       "    </tr>\n",
       "    <tr>\n",
       "      <th>50%</th>\n",
       "      <td>1.000000</td>\n",
       "      <td>1.000000</td>\n",
       "      <td>86.900000</td>\n",
       "      <td>17.170000</td>\n",
       "      <td>105.290000</td>\n",
       "    </tr>\n",
       "    <tr>\n",
       "      <th>75%</th>\n",
       "      <td>1.000000</td>\n",
       "      <td>1.000000</td>\n",
       "      <td>149.900000</td>\n",
       "      <td>24.040000</td>\n",
       "      <td>176.870000</td>\n",
       "    </tr>\n",
       "    <tr>\n",
       "      <th>max</th>\n",
       "      <td>21.000000</td>\n",
       "      <td>8.000000</td>\n",
       "      <td>13440.000000</td>\n",
       "      <td>1794.960000</td>\n",
       "      <td>13664.080000</td>\n",
       "    </tr>\n",
       "  </tbody>\n",
       "</table>\n",
       "</div>"
      ],
      "text/plain": [
       "         items_sold  unique_items_sold         price  freight_value  \\\n",
       "count  98666.000000       98666.000000  98666.000000   98666.000000   \n",
       "mean       1.141731           1.038098    137.754076      22.823562   \n",
       "std        0.538452           0.226456    210.645145      21.650909   \n",
       "min        1.000000           1.000000      0.850000       0.000000   \n",
       "25%        1.000000           1.000000     45.900000      13.850000   \n",
       "50%        1.000000           1.000000     86.900000      17.170000   \n",
       "75%        1.000000           1.000000    149.900000      24.040000   \n",
       "max       21.000000           8.000000  13440.000000    1794.960000   \n",
       "\n",
       "        order_value  \n",
       "count  98666.000000  \n",
       "mean     160.577638  \n",
       "std      220.466087  \n",
       "min        9.590000  \n",
       "25%       61.980000  \n",
       "50%      105.290000  \n",
       "75%      176.870000  \n",
       "max    13664.080000  "
      ]
     },
     "execution_count": 11,
     "metadata": {},
     "output_type": "execute_result"
    }
   ],
   "source": [
    "df_fct_ordem_pedido.describe(exclude='object')"
   ]
  },
  {
   "cell_type": "code",
   "execution_count": 12,
   "id": "b6f2c7da",
   "metadata": {},
   "outputs": [
    {
     "data": {
      "application/vnd.microsoft.datawrangler.viewer.v0+json": {
       "columns": [
        {
         "name": "index",
         "rawType": "int64",
         "type": "integer"
        },
        {
         "name": "order_status",
         "rawType": "object",
         "type": "string"
        },
        {
         "name": "count",
         "rawType": "int64",
         "type": "integer"
        },
        {
         "name": "proportion",
         "rawType": "float64",
         "type": "float"
        }
       ],
       "ref": "c913e1b0-be2c-4f0a-9e18-c4f66406cf05",
       "rows": [
        [
         "2",
         "delivered",
         "96478",
         "97.8"
        ],
        [
         "5",
         "shipped",
         "1106",
         "1.1"
        ],
        [
         "1",
         "canceled",
         "461",
         "0.5"
        ],
        [
         "3",
         "invoiced",
         "312",
         "0.3"
        ],
        [
         "4",
         "processing",
         "301",
         "0.3"
        ],
        [
         "6",
         "unavailable",
         "6",
         "0.0"
        ],
        [
         "0",
         "approved",
         "2",
         "0.0"
        ]
       ],
       "shape": {
        "columns": 3,
        "rows": 7
       }
      },
      "text/html": [
       "<div>\n",
       "<style scoped>\n",
       "    .dataframe tbody tr th:only-of-type {\n",
       "        vertical-align: middle;\n",
       "    }\n",
       "\n",
       "    .dataframe tbody tr th {\n",
       "        vertical-align: top;\n",
       "    }\n",
       "\n",
       "    .dataframe thead th {\n",
       "        text-align: right;\n",
       "    }\n",
       "</style>\n",
       "<table border=\"1\" class=\"dataframe\">\n",
       "  <thead>\n",
       "    <tr style=\"text-align: right;\">\n",
       "      <th></th>\n",
       "      <th>order_status</th>\n",
       "      <th>count</th>\n",
       "      <th>proportion</th>\n",
       "    </tr>\n",
       "  </thead>\n",
       "  <tbody>\n",
       "    <tr>\n",
       "      <th>2</th>\n",
       "      <td>delivered</td>\n",
       "      <td>96478</td>\n",
       "      <td>97.8</td>\n",
       "    </tr>\n",
       "    <tr>\n",
       "      <th>5</th>\n",
       "      <td>shipped</td>\n",
       "      <td>1106</td>\n",
       "      <td>1.1</td>\n",
       "    </tr>\n",
       "    <tr>\n",
       "      <th>1</th>\n",
       "      <td>canceled</td>\n",
       "      <td>461</td>\n",
       "      <td>0.5</td>\n",
       "    </tr>\n",
       "    <tr>\n",
       "      <th>3</th>\n",
       "      <td>invoiced</td>\n",
       "      <td>312</td>\n",
       "      <td>0.3</td>\n",
       "    </tr>\n",
       "    <tr>\n",
       "      <th>4</th>\n",
       "      <td>processing</td>\n",
       "      <td>301</td>\n",
       "      <td>0.3</td>\n",
       "    </tr>\n",
       "    <tr>\n",
       "      <th>6</th>\n",
       "      <td>unavailable</td>\n",
       "      <td>6</td>\n",
       "      <td>0.0</td>\n",
       "    </tr>\n",
       "    <tr>\n",
       "      <th>0</th>\n",
       "      <td>approved</td>\n",
       "      <td>2</td>\n",
       "      <td>0.0</td>\n",
       "    </tr>\n",
       "  </tbody>\n",
       "</table>\n",
       "</div>"
      ],
      "text/plain": [
       "  order_status  count  proportion\n",
       "2    delivered  96478        97.8\n",
       "5      shipped   1106         1.1\n",
       "1     canceled    461         0.5\n",
       "3     invoiced    312         0.3\n",
       "4   processing    301         0.3\n",
       "6  unavailable      6         0.0\n",
       "0     approved      2         0.0"
      ]
     },
     "execution_count": 12,
     "metadata": {},
     "output_type": "execute_result"
    }
   ],
   "source": [
    "# Percentual de pedidos por status\n",
    "order_status = df_fct_ordem_pedido.copy()\n",
    "order_status['order_purchase_timestamp'] = pd.to_datetime(order_status['order_purchase_timestamp'])\n",
    "order_status['year_month'] = order_status['order_purchase_timestamp'].dt.to_period('M')\n",
    "\n",
    "order_status_agg = (\n",
    "    order_status\n",
    "    .groupby([\"order_status\"])\n",
    "    .agg(count = (\"order_id\", \"nunique\"))\n",
    "    .reset_index()\n",
    ")\n",
    "order_status_agg[\"proportion\"] = round(order_status_agg[\"count\"] / order_status_agg[\"count\"].sum() * 100, 1)\n",
    "order_status_agg = order_status_agg.sort_values(by=\"count\", ascending=False)\n",
    "order_status_agg"
   ]
  },
  {
   "cell_type": "markdown",
   "id": "b2a50cca",
   "metadata": {},
   "source": [
    "### Salva os dados"
   ]
  },
  {
   "cell_type": "code",
   "execution_count": 13,
   "id": "7a581d43",
   "metadata": {},
   "outputs": [],
   "source": [
    "df_fct_ordem_pedido.to_csv(\"../data/01_interim/tb_fct_ordem_pedido.csv\", index=False)"
   ]
  },
  {
   "cell_type": "markdown",
   "id": "ba5bca0c",
   "metadata": {},
   "source": [
    "## Categoria do pedido por vendedor"
   ]
  },
  {
   "cell_type": "code",
   "execution_count": 14,
   "id": "a8159cd4",
   "metadata": {},
   "outputs": [],
   "source": [
    "order_seller = (\n",
    "    order_items\n",
    "    .merge(products, on=\"product_id\", how=\"left\") #categorias de produtos vendidas mas nulas serão substituídas por \"unknown\"\n",
    "    .merge(orders, on=\"order_id\", how=\"left\")\n",
    ")\n",
    "\n",
    "df_fct_ordem_vendedor_cat = (\n",
    "    order_seller\n",
    "    .groupby([\"order_purchase_timestamp\", \"order_id\", \"order_status\", \"seller_id\", \"product_category_name\"])\n",
    "    .agg(\n",
    "        items_sold = (\"product_id\", \"count\"),\n",
    "        unique_items_sold = (\"product_id\", \"nunique\"),\n",
    "        total_price = (\"price\", \"sum\"),\n",
    "        avg_price = (\"price\", \"mean\"),\n",
    "        min_price = (\"price\", \"min\"),\n",
    "        max_price = (\"price\", \"max\"),\n",
    "        median_price = (\"price\", \"median\"),\n",
    "        std_price = (\"price\", \"std\"),\n",
    "        total_freight_value = (\"freight_value\", \"sum\"),\n",
    "        avg_freight_value = (\"freight_value\", \"mean\"),\n",
    "        min_freight_value = (\"freight_value\", \"min\"),\n",
    "        max_freight_value = (\"freight_value\", \"max\"),\n",
    "        median_freight_value = (\"freight_value\", \"median\"),\n",
    "        std_freight_value = (\"freight_value\", \"std\"),\n",
    "    )\n",
    "    .reset_index()\n",
    ")"
   ]
  },
  {
   "cell_type": "code",
   "execution_count": 15,
   "id": "15483b3d",
   "metadata": {},
   "outputs": [
    {
     "data": {
      "application/vnd.microsoft.datawrangler.viewer.v0+json": {
       "columns": [
        {
         "name": "index",
         "rawType": "int64",
         "type": "integer"
        },
        {
         "name": "order_purchase_timestamp",
         "rawType": "object",
         "type": "string"
        },
        {
         "name": "order_id",
         "rawType": "object",
         "type": "string"
        },
        {
         "name": "order_status",
         "rawType": "object",
         "type": "string"
        },
        {
         "name": "seller_id",
         "rawType": "object",
         "type": "string"
        },
        {
         "name": "product_category_name",
         "rawType": "object",
         "type": "string"
        },
        {
         "name": "items_sold",
         "rawType": "int64",
         "type": "integer"
        },
        {
         "name": "unique_items_sold",
         "rawType": "int64",
         "type": "integer"
        },
        {
         "name": "total_price",
         "rawType": "float64",
         "type": "float"
        },
        {
         "name": "avg_price",
         "rawType": "float64",
         "type": "float"
        },
        {
         "name": "min_price",
         "rawType": "float64",
         "type": "float"
        },
        {
         "name": "max_price",
         "rawType": "float64",
         "type": "float"
        },
        {
         "name": "median_price",
         "rawType": "float64",
         "type": "float"
        },
        {
         "name": "std_price",
         "rawType": "float64",
         "type": "float"
        },
        {
         "name": "total_freight_value",
         "rawType": "float64",
         "type": "float"
        },
        {
         "name": "avg_freight_value",
         "rawType": "float64",
         "type": "float"
        },
        {
         "name": "min_freight_value",
         "rawType": "float64",
         "type": "float"
        },
        {
         "name": "max_freight_value",
         "rawType": "float64",
         "type": "float"
        },
        {
         "name": "median_freight_value",
         "rawType": "float64",
         "type": "float"
        },
        {
         "name": "std_freight_value",
         "rawType": "float64",
         "type": "float"
        }
       ],
       "ref": "f976f3fa-80e2-40f2-b010-d5a56cf664a8",
       "rows": [
        [
         "0",
         "2016-09-04 21:15:19",
         "2e7a8482f6fb09756ca50c10d7bfc047",
         "shipped",
         "1554a68530182680ad5c8b042c3ab563",
         "moveis_decoracao",
         "2",
         "2",
         "72.89",
         "36.445",
         "32.9",
         "39.99",
         "36.445",
         "5.013387078612625",
         "63.34",
         "31.67",
         "31.67",
         "31.67",
         "31.67",
         "0.0"
        ],
        [
         "1",
         "2016-09-05 00:15:34",
         "e5fa5a7210941f7d56d0208e4e071d35",
         "canceled",
         "a425f92c199eb576938df686728acd20",
         "telefonia",
         "1",
         "1",
         "59.5",
         "59.5",
         "59.5",
         "59.5",
         "59.5",
         null,
         "15.56",
         "15.56",
         "15.56",
         "15.56",
         "15.56",
         null
        ],
        [
         "2",
         "2016-09-15 12:16:38",
         "bfbd0f9bdef84302105ad712db648a6c",
         "delivered",
         "ecccfa2bb93b34a3bf033cc5d1dcdc69",
         "beleza_saude",
         "3",
         "1",
         "134.97",
         "44.99",
         "44.99",
         "44.99",
         "44.99",
         "0.0",
         "8.49",
         "2.83",
         "2.83",
         "2.83",
         "2.83",
         "0.0"
        ],
        [
         "3",
         "2016-10-02 22:07:52",
         "71303d7e93b399f5bcd537d124c0bcfa",
         "canceled",
         "25e6ffe976bd75618accfe16cefcbd0d",
         "bebes",
         "1",
         "1",
         "100.0",
         "100.0",
         "100.0",
         "100.0",
         "100.0",
         null,
         "9.34",
         "9.34",
         "9.34",
         "9.34",
         "9.34",
         null
        ],
        [
         "4",
         "2016-10-03 09:44:50",
         "3b697a20d9e427646d92567910af6d57",
         "delivered",
         "522620dcb18a6b31cd7bdf73665113a9",
         "relogios_presentes",
         "1",
         "1",
         "29.9",
         "29.9",
         "29.9",
         "29.9",
         "29.9",
         null,
         "15.56",
         "15.56",
         "15.56",
         "15.56",
         "15.56",
         null
        ]
       ],
       "shape": {
        "columns": 19,
        "rows": 5
       }
      },
      "text/html": [
       "<div>\n",
       "<style scoped>\n",
       "    .dataframe tbody tr th:only-of-type {\n",
       "        vertical-align: middle;\n",
       "    }\n",
       "\n",
       "    .dataframe tbody tr th {\n",
       "        vertical-align: top;\n",
       "    }\n",
       "\n",
       "    .dataframe thead th {\n",
       "        text-align: right;\n",
       "    }\n",
       "</style>\n",
       "<table border=\"1\" class=\"dataframe\">\n",
       "  <thead>\n",
       "    <tr style=\"text-align: right;\">\n",
       "      <th></th>\n",
       "      <th>order_purchase_timestamp</th>\n",
       "      <th>order_id</th>\n",
       "      <th>order_status</th>\n",
       "      <th>seller_id</th>\n",
       "      <th>product_category_name</th>\n",
       "      <th>items_sold</th>\n",
       "      <th>unique_items_sold</th>\n",
       "      <th>total_price</th>\n",
       "      <th>avg_price</th>\n",
       "      <th>min_price</th>\n",
       "      <th>max_price</th>\n",
       "      <th>median_price</th>\n",
       "      <th>std_price</th>\n",
       "      <th>total_freight_value</th>\n",
       "      <th>avg_freight_value</th>\n",
       "      <th>min_freight_value</th>\n",
       "      <th>max_freight_value</th>\n",
       "      <th>median_freight_value</th>\n",
       "      <th>std_freight_value</th>\n",
       "    </tr>\n",
       "  </thead>\n",
       "  <tbody>\n",
       "    <tr>\n",
       "      <th>0</th>\n",
       "      <td>2016-09-04 21:15:19</td>\n",
       "      <td>2e7a8482f6fb09756ca50c10d7bfc047</td>\n",
       "      <td>shipped</td>\n",
       "      <td>1554a68530182680ad5c8b042c3ab563</td>\n",
       "      <td>moveis_decoracao</td>\n",
       "      <td>2</td>\n",
       "      <td>2</td>\n",
       "      <td>72.89</td>\n",
       "      <td>36.445</td>\n",
       "      <td>32.90</td>\n",
       "      <td>39.99</td>\n",
       "      <td>36.445</td>\n",
       "      <td>5.013387</td>\n",
       "      <td>63.34</td>\n",
       "      <td>31.67</td>\n",
       "      <td>31.67</td>\n",
       "      <td>31.67</td>\n",
       "      <td>31.67</td>\n",
       "      <td>0.0</td>\n",
       "    </tr>\n",
       "    <tr>\n",
       "      <th>1</th>\n",
       "      <td>2016-09-05 00:15:34</td>\n",
       "      <td>e5fa5a7210941f7d56d0208e4e071d35</td>\n",
       "      <td>canceled</td>\n",
       "      <td>a425f92c199eb576938df686728acd20</td>\n",
       "      <td>telefonia</td>\n",
       "      <td>1</td>\n",
       "      <td>1</td>\n",
       "      <td>59.50</td>\n",
       "      <td>59.500</td>\n",
       "      <td>59.50</td>\n",
       "      <td>59.50</td>\n",
       "      <td>59.500</td>\n",
       "      <td>NaN</td>\n",
       "      <td>15.56</td>\n",
       "      <td>15.56</td>\n",
       "      <td>15.56</td>\n",
       "      <td>15.56</td>\n",
       "      <td>15.56</td>\n",
       "      <td>NaN</td>\n",
       "    </tr>\n",
       "    <tr>\n",
       "      <th>2</th>\n",
       "      <td>2016-09-15 12:16:38</td>\n",
       "      <td>bfbd0f9bdef84302105ad712db648a6c</td>\n",
       "      <td>delivered</td>\n",
       "      <td>ecccfa2bb93b34a3bf033cc5d1dcdc69</td>\n",
       "      <td>beleza_saude</td>\n",
       "      <td>3</td>\n",
       "      <td>1</td>\n",
       "      <td>134.97</td>\n",
       "      <td>44.990</td>\n",
       "      <td>44.99</td>\n",
       "      <td>44.99</td>\n",
       "      <td>44.990</td>\n",
       "      <td>0.000000</td>\n",
       "      <td>8.49</td>\n",
       "      <td>2.83</td>\n",
       "      <td>2.83</td>\n",
       "      <td>2.83</td>\n",
       "      <td>2.83</td>\n",
       "      <td>0.0</td>\n",
       "    </tr>\n",
       "    <tr>\n",
       "      <th>3</th>\n",
       "      <td>2016-10-02 22:07:52</td>\n",
       "      <td>71303d7e93b399f5bcd537d124c0bcfa</td>\n",
       "      <td>canceled</td>\n",
       "      <td>25e6ffe976bd75618accfe16cefcbd0d</td>\n",
       "      <td>bebes</td>\n",
       "      <td>1</td>\n",
       "      <td>1</td>\n",
       "      <td>100.00</td>\n",
       "      <td>100.000</td>\n",
       "      <td>100.00</td>\n",
       "      <td>100.00</td>\n",
       "      <td>100.000</td>\n",
       "      <td>NaN</td>\n",
       "      <td>9.34</td>\n",
       "      <td>9.34</td>\n",
       "      <td>9.34</td>\n",
       "      <td>9.34</td>\n",
       "      <td>9.34</td>\n",
       "      <td>NaN</td>\n",
       "    </tr>\n",
       "    <tr>\n",
       "      <th>4</th>\n",
       "      <td>2016-10-03 09:44:50</td>\n",
       "      <td>3b697a20d9e427646d92567910af6d57</td>\n",
       "      <td>delivered</td>\n",
       "      <td>522620dcb18a6b31cd7bdf73665113a9</td>\n",
       "      <td>relogios_presentes</td>\n",
       "      <td>1</td>\n",
       "      <td>1</td>\n",
       "      <td>29.90</td>\n",
       "      <td>29.900</td>\n",
       "      <td>29.90</td>\n",
       "      <td>29.90</td>\n",
       "      <td>29.900</td>\n",
       "      <td>NaN</td>\n",
       "      <td>15.56</td>\n",
       "      <td>15.56</td>\n",
       "      <td>15.56</td>\n",
       "      <td>15.56</td>\n",
       "      <td>15.56</td>\n",
       "      <td>NaN</td>\n",
       "    </tr>\n",
       "  </tbody>\n",
       "</table>\n",
       "</div>"
      ],
      "text/plain": [
       "  order_purchase_timestamp                          order_id order_status  \\\n",
       "0      2016-09-04 21:15:19  2e7a8482f6fb09756ca50c10d7bfc047      shipped   \n",
       "1      2016-09-05 00:15:34  e5fa5a7210941f7d56d0208e4e071d35     canceled   \n",
       "2      2016-09-15 12:16:38  bfbd0f9bdef84302105ad712db648a6c    delivered   \n",
       "3      2016-10-02 22:07:52  71303d7e93b399f5bcd537d124c0bcfa     canceled   \n",
       "4      2016-10-03 09:44:50  3b697a20d9e427646d92567910af6d57    delivered   \n",
       "\n",
       "                          seller_id product_category_name  items_sold  \\\n",
       "0  1554a68530182680ad5c8b042c3ab563      moveis_decoracao           2   \n",
       "1  a425f92c199eb576938df686728acd20             telefonia           1   \n",
       "2  ecccfa2bb93b34a3bf033cc5d1dcdc69          beleza_saude           3   \n",
       "3  25e6ffe976bd75618accfe16cefcbd0d                 bebes           1   \n",
       "4  522620dcb18a6b31cd7bdf73665113a9    relogios_presentes           1   \n",
       "\n",
       "   unique_items_sold  total_price  avg_price  min_price  max_price  \\\n",
       "0                  2        72.89     36.445      32.90      39.99   \n",
       "1                  1        59.50     59.500      59.50      59.50   \n",
       "2                  1       134.97     44.990      44.99      44.99   \n",
       "3                  1       100.00    100.000     100.00     100.00   \n",
       "4                  1        29.90     29.900      29.90      29.90   \n",
       "\n",
       "   median_price  std_price  total_freight_value  avg_freight_value  \\\n",
       "0        36.445   5.013387                63.34              31.67   \n",
       "1        59.500        NaN                15.56              15.56   \n",
       "2        44.990   0.000000                 8.49               2.83   \n",
       "3       100.000        NaN                 9.34               9.34   \n",
       "4        29.900        NaN                15.56              15.56   \n",
       "\n",
       "   min_freight_value  max_freight_value  median_freight_value  \\\n",
       "0              31.67              31.67                 31.67   \n",
       "1              15.56              15.56                 15.56   \n",
       "2               2.83               2.83                  2.83   \n",
       "3               9.34               9.34                  9.34   \n",
       "4              15.56              15.56                 15.56   \n",
       "\n",
       "   std_freight_value  \n",
       "0                0.0  \n",
       "1                NaN  \n",
       "2                0.0  \n",
       "3                NaN  \n",
       "4                NaN  "
      ]
     },
     "execution_count": 15,
     "metadata": {},
     "output_type": "execute_result"
    }
   ],
   "source": [
    "df_fct_ordem_vendedor_cat.head()"
   ]
  },
  {
   "cell_type": "code",
   "execution_count": 16,
   "id": "a36b9c11",
   "metadata": {},
   "outputs": [
    {
     "name": "stdout",
     "output_type": "stream",
     "text": [
      "<class 'pandas.core.frame.DataFrame'>\n",
      "RangeIndex: 98762 entries, 0 to 98761\n",
      "Data columns (total 19 columns):\n",
      " #   Column                    Non-Null Count  Dtype  \n",
      "---  ------                    --------------  -----  \n",
      " 0   order_purchase_timestamp  98762 non-null  object \n",
      " 1   order_id                  98762 non-null  object \n",
      " 2   order_status              98762 non-null  object \n",
      " 3   seller_id                 98762 non-null  object \n",
      " 4   product_category_name     98762 non-null  object \n",
      " 5   items_sold                98762 non-null  int64  \n",
      " 6   unique_items_sold         98762 non-null  int64  \n",
      " 7   total_price               98762 non-null  float64\n",
      " 8   avg_price                 98762 non-null  float64\n",
      " 9   min_price                 98762 non-null  float64\n",
      " 10  max_price                 98762 non-null  float64\n",
      " 11  median_price              98762 non-null  float64\n",
      " 12  std_price                 8594 non-null   float64\n",
      " 13  total_freight_value       98762 non-null  float64\n",
      " 14  avg_freight_value         98762 non-null  float64\n",
      " 15  min_freight_value         98762 non-null  float64\n",
      " 16  max_freight_value         98762 non-null  float64\n",
      " 17  median_freight_value      98762 non-null  float64\n",
      " 18  std_freight_value         8594 non-null   float64\n",
      "dtypes: float64(12), int64(2), object(5)\n",
      "memory usage: 14.3+ MB\n",
      "(98762, 19)\n"
     ]
    }
   ],
   "source": [
    "df_fct_ordem_vendedor_cat.info()\n",
    "print(df_fct_ordem_vendedor_cat.shape)"
   ]
  },
  {
   "cell_type": "code",
   "execution_count": 17,
   "id": "7a70b877",
   "metadata": {},
   "outputs": [
    {
     "data": {
      "text/plain": [
       "97277"
      ]
     },
     "execution_count": 17,
     "metadata": {},
     "output_type": "execute_result"
    }
   ],
   "source": [
    "# Possui linhas duplicadas pois a quantidade de order_id é menor que o número de linhas da tabela\n",
    "# Porém, pode ser que um oder_id pode aparecer mais de uma vez, pois um pedido pode ter mais de uma categoria ou de produto sendo vendida\n",
    "df_fct_ordem_vendedor_cat['order_id'].nunique()"
   ]
  },
  {
   "cell_type": "code",
   "execution_count": 18,
   "id": "4b2cb85d",
   "metadata": {},
   "outputs": [
    {
     "data": {
      "application/vnd.microsoft.datawrangler.viewer.v0+json": {
       "columns": [
        {
         "name": "index",
         "rawType": "int64",
         "type": "integer"
        },
        {
         "name": "order_id",
         "rawType": "object",
         "type": "string"
        },
        {
         "name": "count",
         "rawType": "int64",
         "type": "integer"
        }
       ],
       "ref": "f33f3a29-903b-4bef-9e6e-5b4e0bfa51c7",
       "rows": [
        [
         "53049",
         "8c2b13adf3f377c8f2b06b04321b0925",
         "3"
        ],
        [
         "64816",
         "ab1a70d5cd14419a6f2c2aca5ee8a79b",
         "3"
        ],
        [
         "18221",
         "3040863957c9336e7389512584639bb5",
         "3"
        ],
        [
         "45061",
         "76c4c846aae2dae9e87dfa492c3f5259",
         "3"
        ],
        [
         "77433",
         "cbb7694680a105281d391bf7002c0477",
         "3"
        ],
        [
         "12060",
         "1fcbc88015c88c1a14d4b8ec35ea8ed7",
         "3"
        ],
        [
         "11062",
         "1d23106803c48c391366ff224513fb7f",
         "3"
        ],
        [
         "81012",
         "d4bec1a24c97bd17be18d77297a0f6a0",
         "3"
        ],
        [
         "17961",
         "2f8f31eb2f7b6572836d662a6625c8e4",
         "3"
        ],
        [
         "88519",
         "e8c92cfd87f5f0c6d2fc5bc1df5f02b4",
         "3"
        ],
        [
         "55078",
         "91be51c856a90d7efe86cf9d082d6ae3",
         "3"
        ],
        [
         "82270",
         "d839ea07a528e914f89702508023da37",
         "3"
        ],
        [
         "18287",
         "306b4ec62d908535f2bfa2877665e899",
         "3"
        ],
        [
         "64197",
         "a98012aa8c697f2bcff9f8c2183e0f2b",
         "3"
        ],
        [
         "37494",
         "62ce4e3989a3477928510bb4d1064cc4",
         "3"
        ],
        [
         "83511",
         "db840ba7f7a60faf5eff58723492dfe1",
         "2"
        ],
        [
         "65573",
         "ad1c31ec035e55a4187e536234b28e38",
         "2"
        ],
        [
         "77755",
         "cc9760bf7b5d5b74c4d1eb1ab6405b50",
         "2"
        ],
        [
         "18338",
         "309b9de8813533826a3005f94bee92b9",
         "2"
        ],
        [
         "41239",
         "6c8b1b59b9c97b5dc0a4c618e3ccbf19",
         "2"
        ],
        [
         "35164",
         "5cd4d921a222793519021a823618a17c",
         "2"
        ],
        [
         "13823",
         "2480f727e869fdeb397244a21b721b67",
         "2"
        ],
        [
         "71470",
         "bc22fea220f805df6f4e021a709e668d",
         "2"
        ],
        [
         "29484",
         "4d680edbaa7d3d9bed69532957368a03",
         "2"
        ],
        [
         "19642",
         "33eef7fdc8d66d56aec3a027f087f8bc",
         "2"
        ],
        [
         "53761",
         "8e350e1e4254bd7c68913b98bde7d3a7",
         "2"
        ],
        [
         "74352",
         "c3ad507aba1f6b47354085e7e6bed0cf",
         "2"
        ],
        [
         "56374",
         "953a453190f96f0f32ea10b03af65a08",
         "2"
        ],
        [
         "92336",
         "f2fa3795760c35b8c05fa8e2f09d5143",
         "2"
        ],
        [
         "47228",
         "7c74884b55b2ef0862e578cc630dfb3d",
         "2"
        ],
        [
         "23018",
         "3caf494d4c5d2bd8d542138e316ad680",
         "2"
        ],
        [
         "23020",
         "3cb2ba0f933044d545dcce9bb8dbbed8",
         "2"
        ],
        [
         "68135",
         "b3981f7b203bb77c3d52bc97e46c5b25",
         "2"
        ],
        [
         "29366",
         "4d1eeeb5922d5d55dbe1be7623dc18cd",
         "2"
        ],
        [
         "92313",
         "f2e689a11a0a962aa271e7715b516ee2",
         "2"
        ],
        [
         "47248",
         "7c7fe53f2fdb00627f75d98690d753bf",
         "2"
        ],
        [
         "1583",
         "0420dbc50fc554e303e4b2d6b39063f6",
         "2"
        ],
        [
         "13931",
         "24c6142a989e2c7774a57791c8cd449d",
         "2"
        ],
        [
         "5008",
         "0d0b7c65e71700ed5fe8ae8d2baac37b",
         "2"
        ],
        [
         "29380",
         "4d288f2f1f3b59a97c364a2bf728b912",
         "2"
        ],
        [
         "43865",
         "737e75dc8fad86ce2b5b41377a28dac5",
         "2"
        ],
        [
         "47274",
         "7c952ad04bbf75547b59e530fa2a30d3",
         "2"
        ],
        [
         "83470",
         "db6c6df011e1bcc8e03e81b23982a1dc",
         "2"
        ],
        [
         "89682",
         "ebdfc2a2bfba1c888ea6011aec355151",
         "2"
        ],
        [
         "71512",
         "bc3ac768a8963f4ca68942ea6558fc9f",
         "2"
        ],
        [
         "56292",
         "94faf92860aca2dd583802d6673fd794",
         "2"
        ],
        [
         "29643",
         "4dd4fdc64737dc3f4472ceda049cb1ba",
         "2"
        ],
        [
         "23299",
         "3d76cc1cc5ebdd45a03c0b51f79d43b1",
         "2"
        ],
        [
         "35315",
         "5d3e4ac414939dae23da8aa3aa80bcb7",
         "2"
        ],
        [
         "77927",
         "cd07e3ceeebd529181ed30afdf30d43f",
         "2"
        ]
       ],
       "shape": {
        "columns": 2,
        "rows": 97277
       }
      },
      "text/html": [
       "<div>\n",
       "<style scoped>\n",
       "    .dataframe tbody tr th:only-of-type {\n",
       "        vertical-align: middle;\n",
       "    }\n",
       "\n",
       "    .dataframe tbody tr th {\n",
       "        vertical-align: top;\n",
       "    }\n",
       "\n",
       "    .dataframe thead th {\n",
       "        text-align: right;\n",
       "    }\n",
       "</style>\n",
       "<table border=\"1\" class=\"dataframe\">\n",
       "  <thead>\n",
       "    <tr style=\"text-align: right;\">\n",
       "      <th></th>\n",
       "      <th>order_id</th>\n",
       "      <th>count</th>\n",
       "    </tr>\n",
       "  </thead>\n",
       "  <tbody>\n",
       "    <tr>\n",
       "      <th>53049</th>\n",
       "      <td>8c2b13adf3f377c8f2b06b04321b0925</td>\n",
       "      <td>3</td>\n",
       "    </tr>\n",
       "    <tr>\n",
       "      <th>64816</th>\n",
       "      <td>ab1a70d5cd14419a6f2c2aca5ee8a79b</td>\n",
       "      <td>3</td>\n",
       "    </tr>\n",
       "    <tr>\n",
       "      <th>18221</th>\n",
       "      <td>3040863957c9336e7389512584639bb5</td>\n",
       "      <td>3</td>\n",
       "    </tr>\n",
       "    <tr>\n",
       "      <th>45061</th>\n",
       "      <td>76c4c846aae2dae9e87dfa492c3f5259</td>\n",
       "      <td>3</td>\n",
       "    </tr>\n",
       "    <tr>\n",
       "      <th>77433</th>\n",
       "      <td>cbb7694680a105281d391bf7002c0477</td>\n",
       "      <td>3</td>\n",
       "    </tr>\n",
       "    <tr>\n",
       "      <th>...</th>\n",
       "      <td>...</td>\n",
       "      <td>...</td>\n",
       "    </tr>\n",
       "    <tr>\n",
       "      <th>32544</th>\n",
       "      <td>55adc5cef9556477770f0b858669f8fc</td>\n",
       "      <td>1</td>\n",
       "    </tr>\n",
       "    <tr>\n",
       "      <th>32543</th>\n",
       "      <td>55ada6f0482ec84582a6de972bf57dd9</td>\n",
       "      <td>1</td>\n",
       "    </tr>\n",
       "    <tr>\n",
       "      <th>32542</th>\n",
       "      <td>55acfaef63e1cd8c8f71ab8e79b84ee0</td>\n",
       "      <td>1</td>\n",
       "    </tr>\n",
       "    <tr>\n",
       "      <th>32541</th>\n",
       "      <td>55ac02b6b194b6cebf53799310fb63bb</td>\n",
       "      <td>1</td>\n",
       "    </tr>\n",
       "    <tr>\n",
       "      <th>97276</th>\n",
       "      <td>fffe41c64501cc87c801fd61db3f6244</td>\n",
       "      <td>1</td>\n",
       "    </tr>\n",
       "  </tbody>\n",
       "</table>\n",
       "<p>97277 rows × 2 columns</p>\n",
       "</div>"
      ],
      "text/plain": [
       "                               order_id  count\n",
       "53049  8c2b13adf3f377c8f2b06b04321b0925      3\n",
       "64816  ab1a70d5cd14419a6f2c2aca5ee8a79b      3\n",
       "18221  3040863957c9336e7389512584639bb5      3\n",
       "45061  76c4c846aae2dae9e87dfa492c3f5259      3\n",
       "77433  cbb7694680a105281d391bf7002c0477      3\n",
       "...                                 ...    ...\n",
       "32544  55adc5cef9556477770f0b858669f8fc      1\n",
       "32543  55ada6f0482ec84582a6de972bf57dd9      1\n",
       "32542  55acfaef63e1cd8c8f71ab8e79b84ee0      1\n",
       "32541  55ac02b6b194b6cebf53799310fb63bb      1\n",
       "97276  fffe41c64501cc87c801fd61db3f6244      1\n",
       "\n",
       "[97277 rows x 2 columns]"
      ]
     },
     "execution_count": 18,
     "metadata": {},
     "output_type": "execute_result"
    }
   ],
   "source": [
    "# Há pedidos com mais de uma categoria de produto sendo vendida?\n",
    "(\n",
    "    df_fct_ordem_vendedor_cat\n",
    "    .groupby([\"order_id\"])\n",
    "    .agg(count=(\"product_category_name\", \"nunique\"))\n",
    "    .reset_index()\n",
    "    .sort_values(by=\"count\", ascending=False)\n",
    ")"
   ]
  },
  {
   "cell_type": "code",
   "execution_count": 19,
   "id": "b1ed54ba",
   "metadata": {},
   "outputs": [
    {
     "data": {
      "application/vnd.microsoft.datawrangler.viewer.v0+json": {
       "columns": [
        {
         "name": "index",
         "rawType": "int64",
         "type": "integer"
        },
        {
         "name": "order_purchase_timestamp",
         "rawType": "object",
         "type": "string"
        },
        {
         "name": "order_id",
         "rawType": "object",
         "type": "string"
        },
        {
         "name": "order_status",
         "rawType": "object",
         "type": "string"
        },
        {
         "name": "seller_id",
         "rawType": "object",
         "type": "string"
        },
        {
         "name": "product_category_name",
         "rawType": "object",
         "type": "string"
        },
        {
         "name": "items_sold",
         "rawType": "int64",
         "type": "integer"
        },
        {
         "name": "unique_items_sold",
         "rawType": "int64",
         "type": "integer"
        },
        {
         "name": "total_price",
         "rawType": "float64",
         "type": "float"
        },
        {
         "name": "avg_price",
         "rawType": "float64",
         "type": "float"
        },
        {
         "name": "min_price",
         "rawType": "float64",
         "type": "float"
        },
        {
         "name": "max_price",
         "rawType": "float64",
         "type": "float"
        },
        {
         "name": "median_price",
         "rawType": "float64",
         "type": "float"
        },
        {
         "name": "std_price",
         "rawType": "float64",
         "type": "float"
        },
        {
         "name": "total_freight_value",
         "rawType": "float64",
         "type": "float"
        },
        {
         "name": "avg_freight_value",
         "rawType": "float64",
         "type": "float"
        },
        {
         "name": "min_freight_value",
         "rawType": "float64",
         "type": "float"
        },
        {
         "name": "max_freight_value",
         "rawType": "float64",
         "type": "float"
        },
        {
         "name": "median_freight_value",
         "rawType": "float64",
         "type": "float"
        },
        {
         "name": "std_freight_value",
         "rawType": "float64",
         "type": "float"
        }
       ],
       "ref": "4bdc8eb6-784b-4a9a-a302-d11ed2f6c137",
       "rows": [
        [
         "34414",
         "2017-11-17 19:46:08",
         "8c2b13adf3f377c8f2b06b04321b0925",
         "delivered",
         "1dfe5347016252a7884b694d4f10f5c4",
         "cama_mesa_banho",
         "1",
         "1",
         "61.0",
         "61.0",
         "61.0",
         "61.0",
         "61.0",
         null,
         "21.08",
         "21.08",
         "21.08",
         "21.08",
         "21.08",
         null
        ],
        [
         "34415",
         "2017-11-17 19:46:08",
         "8c2b13adf3f377c8f2b06b04321b0925",
         "delivered",
         "54965bbe3e4f07ae045b90b0b8541f52",
         "cama_mesa_banho",
         "1",
         "1",
         "160.0",
         "160.0",
         "160.0",
         "160.0",
         "160.0",
         null,
         "21.08",
         "21.08",
         "21.08",
         "21.08",
         "21.08",
         null
        ],
        [
         "34416",
         "2017-11-17 19:46:08",
         "8c2b13adf3f377c8f2b06b04321b0925",
         "delivered",
         "7a67c85e85bb2ce8582c35f2203ad736",
         "cool_stuff",
         "1",
         "1",
         "129.99",
         "129.99",
         "129.99",
         "129.99",
         "129.99",
         null,
         "42.16",
         "42.16",
         "42.16",
         "42.16",
         "42.16",
         null
        ],
        [
         "34417",
         "2017-11-17 19:46:08",
         "8c2b13adf3f377c8f2b06b04321b0925",
         "delivered",
         "977f9f63dd360c2a32ece2f93ad6d306",
         "bebes",
         "1",
         "1",
         "90.9",
         "90.9",
         "90.9",
         "90.9",
         "90.9",
         null,
         "21.08",
         "21.08",
         "21.08",
         "21.08",
         "21.08",
         null
        ]
       ],
       "shape": {
        "columns": 19,
        "rows": 4
       }
      },
      "text/html": [
       "<div>\n",
       "<style scoped>\n",
       "    .dataframe tbody tr th:only-of-type {\n",
       "        vertical-align: middle;\n",
       "    }\n",
       "\n",
       "    .dataframe tbody tr th {\n",
       "        vertical-align: top;\n",
       "    }\n",
       "\n",
       "    .dataframe thead th {\n",
       "        text-align: right;\n",
       "    }\n",
       "</style>\n",
       "<table border=\"1\" class=\"dataframe\">\n",
       "  <thead>\n",
       "    <tr style=\"text-align: right;\">\n",
       "      <th></th>\n",
       "      <th>order_purchase_timestamp</th>\n",
       "      <th>order_id</th>\n",
       "      <th>order_status</th>\n",
       "      <th>seller_id</th>\n",
       "      <th>product_category_name</th>\n",
       "      <th>items_sold</th>\n",
       "      <th>unique_items_sold</th>\n",
       "      <th>total_price</th>\n",
       "      <th>avg_price</th>\n",
       "      <th>min_price</th>\n",
       "      <th>max_price</th>\n",
       "      <th>median_price</th>\n",
       "      <th>std_price</th>\n",
       "      <th>total_freight_value</th>\n",
       "      <th>avg_freight_value</th>\n",
       "      <th>min_freight_value</th>\n",
       "      <th>max_freight_value</th>\n",
       "      <th>median_freight_value</th>\n",
       "      <th>std_freight_value</th>\n",
       "    </tr>\n",
       "  </thead>\n",
       "  <tbody>\n",
       "    <tr>\n",
       "      <th>34414</th>\n",
       "      <td>2017-11-17 19:46:08</td>\n",
       "      <td>8c2b13adf3f377c8f2b06b04321b0925</td>\n",
       "      <td>delivered</td>\n",
       "      <td>1dfe5347016252a7884b694d4f10f5c4</td>\n",
       "      <td>cama_mesa_banho</td>\n",
       "      <td>1</td>\n",
       "      <td>1</td>\n",
       "      <td>61.00</td>\n",
       "      <td>61.00</td>\n",
       "      <td>61.00</td>\n",
       "      <td>61.00</td>\n",
       "      <td>61.00</td>\n",
       "      <td>NaN</td>\n",
       "      <td>21.08</td>\n",
       "      <td>21.08</td>\n",
       "      <td>21.08</td>\n",
       "      <td>21.08</td>\n",
       "      <td>21.08</td>\n",
       "      <td>NaN</td>\n",
       "    </tr>\n",
       "    <tr>\n",
       "      <th>34415</th>\n",
       "      <td>2017-11-17 19:46:08</td>\n",
       "      <td>8c2b13adf3f377c8f2b06b04321b0925</td>\n",
       "      <td>delivered</td>\n",
       "      <td>54965bbe3e4f07ae045b90b0b8541f52</td>\n",
       "      <td>cama_mesa_banho</td>\n",
       "      <td>1</td>\n",
       "      <td>1</td>\n",
       "      <td>160.00</td>\n",
       "      <td>160.00</td>\n",
       "      <td>160.00</td>\n",
       "      <td>160.00</td>\n",
       "      <td>160.00</td>\n",
       "      <td>NaN</td>\n",
       "      <td>21.08</td>\n",
       "      <td>21.08</td>\n",
       "      <td>21.08</td>\n",
       "      <td>21.08</td>\n",
       "      <td>21.08</td>\n",
       "      <td>NaN</td>\n",
       "    </tr>\n",
       "    <tr>\n",
       "      <th>34416</th>\n",
       "      <td>2017-11-17 19:46:08</td>\n",
       "      <td>8c2b13adf3f377c8f2b06b04321b0925</td>\n",
       "      <td>delivered</td>\n",
       "      <td>7a67c85e85bb2ce8582c35f2203ad736</td>\n",
       "      <td>cool_stuff</td>\n",
       "      <td>1</td>\n",
       "      <td>1</td>\n",
       "      <td>129.99</td>\n",
       "      <td>129.99</td>\n",
       "      <td>129.99</td>\n",
       "      <td>129.99</td>\n",
       "      <td>129.99</td>\n",
       "      <td>NaN</td>\n",
       "      <td>42.16</td>\n",
       "      <td>42.16</td>\n",
       "      <td>42.16</td>\n",
       "      <td>42.16</td>\n",
       "      <td>42.16</td>\n",
       "      <td>NaN</td>\n",
       "    </tr>\n",
       "    <tr>\n",
       "      <th>34417</th>\n",
       "      <td>2017-11-17 19:46:08</td>\n",
       "      <td>8c2b13adf3f377c8f2b06b04321b0925</td>\n",
       "      <td>delivered</td>\n",
       "      <td>977f9f63dd360c2a32ece2f93ad6d306</td>\n",
       "      <td>bebes</td>\n",
       "      <td>1</td>\n",
       "      <td>1</td>\n",
       "      <td>90.90</td>\n",
       "      <td>90.90</td>\n",
       "      <td>90.90</td>\n",
       "      <td>90.90</td>\n",
       "      <td>90.90</td>\n",
       "      <td>NaN</td>\n",
       "      <td>21.08</td>\n",
       "      <td>21.08</td>\n",
       "      <td>21.08</td>\n",
       "      <td>21.08</td>\n",
       "      <td>21.08</td>\n",
       "      <td>NaN</td>\n",
       "    </tr>\n",
       "  </tbody>\n",
       "</table>\n",
       "</div>"
      ],
      "text/plain": [
       "      order_purchase_timestamp                          order_id order_status  \\\n",
       "34414      2017-11-17 19:46:08  8c2b13adf3f377c8f2b06b04321b0925    delivered   \n",
       "34415      2017-11-17 19:46:08  8c2b13adf3f377c8f2b06b04321b0925    delivered   \n",
       "34416      2017-11-17 19:46:08  8c2b13adf3f377c8f2b06b04321b0925    delivered   \n",
       "34417      2017-11-17 19:46:08  8c2b13adf3f377c8f2b06b04321b0925    delivered   \n",
       "\n",
       "                              seller_id product_category_name  items_sold  \\\n",
       "34414  1dfe5347016252a7884b694d4f10f5c4       cama_mesa_banho           1   \n",
       "34415  54965bbe3e4f07ae045b90b0b8541f52       cama_mesa_banho           1   \n",
       "34416  7a67c85e85bb2ce8582c35f2203ad736            cool_stuff           1   \n",
       "34417  977f9f63dd360c2a32ece2f93ad6d306                 bebes           1   \n",
       "\n",
       "       unique_items_sold  total_price  avg_price  min_price  max_price  \\\n",
       "34414                  1        61.00      61.00      61.00      61.00   \n",
       "34415                  1       160.00     160.00     160.00     160.00   \n",
       "34416                  1       129.99     129.99     129.99     129.99   \n",
       "34417                  1        90.90      90.90      90.90      90.90   \n",
       "\n",
       "       median_price  std_price  total_freight_value  avg_freight_value  \\\n",
       "34414         61.00        NaN                21.08              21.08   \n",
       "34415        160.00        NaN                21.08              21.08   \n",
       "34416        129.99        NaN                42.16              42.16   \n",
       "34417         90.90        NaN                21.08              21.08   \n",
       "\n",
       "       min_freight_value  max_freight_value  median_freight_value  \\\n",
       "34414              21.08              21.08                 21.08   \n",
       "34415              21.08              21.08                 21.08   \n",
       "34416              42.16              42.16                 42.16   \n",
       "34417              21.08              21.08                 21.08   \n",
       "\n",
       "       std_freight_value  \n",
       "34414                NaN  \n",
       "34415                NaN  \n",
       "34416                NaN  \n",
       "34417                NaN  "
      ]
     },
     "execution_count": 19,
     "metadata": {},
     "output_type": "execute_result"
    }
   ],
   "source": [
    "# Um pedido com mais de uma categoria de produto sendo vendida e por mais de um vendedor?\n",
    "df_fct_ordem_vendedor_cat[df_fct_ordem_vendedor_cat[\"order_id\"]==\"8c2b13adf3f377c8f2b06b04321b0925\"]"
   ]
  },
  {
   "cell_type": "code",
   "execution_count": 20,
   "id": "1308c05b",
   "metadata": {},
   "outputs": [
    {
     "data": {
      "application/vnd.microsoft.datawrangler.viewer.v0+json": {
       "columns": [
        {
         "name": "index",
         "rawType": "int64",
         "type": "integer"
        },
        {
         "name": "order_id",
         "rawType": "object",
         "type": "string"
        },
        {
         "name": "order_item_id",
         "rawType": "int64",
         "type": "integer"
        },
        {
         "name": "product_id",
         "rawType": "object",
         "type": "string"
        },
        {
         "name": "seller_id",
         "rawType": "object",
         "type": "string"
        },
        {
         "name": "shipping_limit_date",
         "rawType": "object",
         "type": "string"
        },
        {
         "name": "price",
         "rawType": "float64",
         "type": "float"
        },
        {
         "name": "freight_value",
         "rawType": "float64",
         "type": "float"
        }
       ],
       "ref": "2885f6c8-260b-4b1a-8714-00c2741593e1",
       "rows": [
        [
         "61467",
         "8c2b13adf3f377c8f2b06b04321b0925",
         "1",
         "6f59fe49d85eb1353b826d6b5a55e753",
         "977f9f63dd360c2a32ece2f93ad6d306",
         "2017-11-23 20:31:40",
         "90.9",
         "21.08"
        ],
        [
         "61468",
         "8c2b13adf3f377c8f2b06b04321b0925",
         "2",
         "5c818ca21204caf8ce1599617751ff49",
         "54965bbe3e4f07ae045b90b0b8541f52",
         "2017-11-23 20:31:40",
         "160.0",
         "21.08"
        ],
        [
         "61469",
         "8c2b13adf3f377c8f2b06b04321b0925",
         "3",
         "b75ad41bddb7dc94c7e555d9f78f5e8a",
         "1dfe5347016252a7884b694d4f10f5c4",
         "2017-11-23 20:31:40",
         "61.0",
         "21.08"
        ],
        [
         "61470",
         "8c2b13adf3f377c8f2b06b04321b0925",
         "4",
         "601a360bd2a916ecef0e88de72a6531a",
         "7a67c85e85bb2ce8582c35f2203ad736",
         "2017-11-23 20:31:40",
         "129.99",
         "42.16"
        ]
       ],
       "shape": {
        "columns": 7,
        "rows": 4
       }
      },
      "text/html": [
       "<div>\n",
       "<style scoped>\n",
       "    .dataframe tbody tr th:only-of-type {\n",
       "        vertical-align: middle;\n",
       "    }\n",
       "\n",
       "    .dataframe tbody tr th {\n",
       "        vertical-align: top;\n",
       "    }\n",
       "\n",
       "    .dataframe thead th {\n",
       "        text-align: right;\n",
       "    }\n",
       "</style>\n",
       "<table border=\"1\" class=\"dataframe\">\n",
       "  <thead>\n",
       "    <tr style=\"text-align: right;\">\n",
       "      <th></th>\n",
       "      <th>order_id</th>\n",
       "      <th>order_item_id</th>\n",
       "      <th>product_id</th>\n",
       "      <th>seller_id</th>\n",
       "      <th>shipping_limit_date</th>\n",
       "      <th>price</th>\n",
       "      <th>freight_value</th>\n",
       "    </tr>\n",
       "  </thead>\n",
       "  <tbody>\n",
       "    <tr>\n",
       "      <th>61467</th>\n",
       "      <td>8c2b13adf3f377c8f2b06b04321b0925</td>\n",
       "      <td>1</td>\n",
       "      <td>6f59fe49d85eb1353b826d6b5a55e753</td>\n",
       "      <td>977f9f63dd360c2a32ece2f93ad6d306</td>\n",
       "      <td>2017-11-23 20:31:40</td>\n",
       "      <td>90.90</td>\n",
       "      <td>21.08</td>\n",
       "    </tr>\n",
       "    <tr>\n",
       "      <th>61468</th>\n",
       "      <td>8c2b13adf3f377c8f2b06b04321b0925</td>\n",
       "      <td>2</td>\n",
       "      <td>5c818ca21204caf8ce1599617751ff49</td>\n",
       "      <td>54965bbe3e4f07ae045b90b0b8541f52</td>\n",
       "      <td>2017-11-23 20:31:40</td>\n",
       "      <td>160.00</td>\n",
       "      <td>21.08</td>\n",
       "    </tr>\n",
       "    <tr>\n",
       "      <th>61469</th>\n",
       "      <td>8c2b13adf3f377c8f2b06b04321b0925</td>\n",
       "      <td>3</td>\n",
       "      <td>b75ad41bddb7dc94c7e555d9f78f5e8a</td>\n",
       "      <td>1dfe5347016252a7884b694d4f10f5c4</td>\n",
       "      <td>2017-11-23 20:31:40</td>\n",
       "      <td>61.00</td>\n",
       "      <td>21.08</td>\n",
       "    </tr>\n",
       "    <tr>\n",
       "      <th>61470</th>\n",
       "      <td>8c2b13adf3f377c8f2b06b04321b0925</td>\n",
       "      <td>4</td>\n",
       "      <td>601a360bd2a916ecef0e88de72a6531a</td>\n",
       "      <td>7a67c85e85bb2ce8582c35f2203ad736</td>\n",
       "      <td>2017-11-23 20:31:40</td>\n",
       "      <td>129.99</td>\n",
       "      <td>42.16</td>\n",
       "    </tr>\n",
       "  </tbody>\n",
       "</table>\n",
       "</div>"
      ],
      "text/plain": [
       "                               order_id  order_item_id  \\\n",
       "61467  8c2b13adf3f377c8f2b06b04321b0925              1   \n",
       "61468  8c2b13adf3f377c8f2b06b04321b0925              2   \n",
       "61469  8c2b13adf3f377c8f2b06b04321b0925              3   \n",
       "61470  8c2b13adf3f377c8f2b06b04321b0925              4   \n",
       "\n",
       "                             product_id                         seller_id  \\\n",
       "61467  6f59fe49d85eb1353b826d6b5a55e753  977f9f63dd360c2a32ece2f93ad6d306   \n",
       "61468  5c818ca21204caf8ce1599617751ff49  54965bbe3e4f07ae045b90b0b8541f52   \n",
       "61469  b75ad41bddb7dc94c7e555d9f78f5e8a  1dfe5347016252a7884b694d4f10f5c4   \n",
       "61470  601a360bd2a916ecef0e88de72a6531a  7a67c85e85bb2ce8582c35f2203ad736   \n",
       "\n",
       "       shipping_limit_date   price  freight_value  \n",
       "61467  2017-11-23 20:31:40   90.90          21.08  \n",
       "61468  2017-11-23 20:31:40  160.00          21.08  \n",
       "61469  2017-11-23 20:31:40   61.00          21.08  \n",
       "61470  2017-11-23 20:31:40  129.99          42.16  "
      ]
     },
     "execution_count": 20,
     "metadata": {},
     "output_type": "execute_result"
    }
   ],
   "source": [
    "# Está correto. Como pode-se ver na tabela de produtos pedidos e pela coluna de ordenação do produto (order_item_id)\n",
    "# Ou seja, esta tabela tem a visão de pedido na ótica do consumidor\n",
    "order_items[order_items[\"order_id\"]==\"8c2b13adf3f377c8f2b06b04321b0925\"]"
   ]
  },
  {
   "cell_type": "code",
   "execution_count": 21,
   "id": "e3ff43b2",
   "metadata": {},
   "outputs": [
    {
     "data": {
      "application/vnd.microsoft.datawrangler.viewer.v0+json": {
       "columns": [
        {
         "name": "index",
         "rawType": "int64",
         "type": "integer"
        },
        {
         "name": "order_id",
         "rawType": "object",
         "type": "string"
        },
        {
         "name": "customer_id",
         "rawType": "object",
         "type": "string"
        },
        {
         "name": "order_status",
         "rawType": "object",
         "type": "string"
        },
        {
         "name": "order_purchase_timestamp",
         "rawType": "object",
         "type": "string"
        },
        {
         "name": "order_approved_at",
         "rawType": "object",
         "type": "string"
        },
        {
         "name": "order_delivered_carrier_date",
         "rawType": "object",
         "type": "string"
        },
        {
         "name": "order_delivered_customer_date",
         "rawType": "object",
         "type": "string"
        },
        {
         "name": "order_estimated_delivery_date",
         "rawType": "object",
         "type": "string"
        },
        {
         "name": "items_sold",
         "rawType": "int64",
         "type": "integer"
        },
        {
         "name": "unique_items_sold",
         "rawType": "int64",
         "type": "integer"
        },
        {
         "name": "price",
         "rawType": "float64",
         "type": "float"
        },
        {
         "name": "freight_value",
         "rawType": "float64",
         "type": "float"
        },
        {
         "name": "order_value",
         "rawType": "float64",
         "type": "float"
        }
       ],
       "ref": "ec0c0cd9-f4c1-4182-84e5-72e3ee1df07a",
       "rows": [
        [
         "22037",
         "8c2b13adf3f377c8f2b06b04321b0925",
         "0aad2e31b3c119c26acb8a47768cd00a",
         "delivered",
         "2017-11-17 19:46:08",
         "2017-11-17 21:31:03",
         "2017-11-21 12:57:04",
         "2017-11-29 20:13:45",
         "2017-12-20 00:00:00",
         "4",
         "4",
         "441.89",
         "105.39999999999999",
         "547.29"
        ]
       ],
       "shape": {
        "columns": 13,
        "rows": 1
       }
      },
      "text/html": [
       "<div>\n",
       "<style scoped>\n",
       "    .dataframe tbody tr th:only-of-type {\n",
       "        vertical-align: middle;\n",
       "    }\n",
       "\n",
       "    .dataframe tbody tr th {\n",
       "        vertical-align: top;\n",
       "    }\n",
       "\n",
       "    .dataframe thead th {\n",
       "        text-align: right;\n",
       "    }\n",
       "</style>\n",
       "<table border=\"1\" class=\"dataframe\">\n",
       "  <thead>\n",
       "    <tr style=\"text-align: right;\">\n",
       "      <th></th>\n",
       "      <th>order_id</th>\n",
       "      <th>customer_id</th>\n",
       "      <th>order_status</th>\n",
       "      <th>order_purchase_timestamp</th>\n",
       "      <th>order_approved_at</th>\n",
       "      <th>order_delivered_carrier_date</th>\n",
       "      <th>order_delivered_customer_date</th>\n",
       "      <th>order_estimated_delivery_date</th>\n",
       "      <th>items_sold</th>\n",
       "      <th>unique_items_sold</th>\n",
       "      <th>price</th>\n",
       "      <th>freight_value</th>\n",
       "      <th>order_value</th>\n",
       "    </tr>\n",
       "  </thead>\n",
       "  <tbody>\n",
       "    <tr>\n",
       "      <th>22037</th>\n",
       "      <td>8c2b13adf3f377c8f2b06b04321b0925</td>\n",
       "      <td>0aad2e31b3c119c26acb8a47768cd00a</td>\n",
       "      <td>delivered</td>\n",
       "      <td>2017-11-17 19:46:08</td>\n",
       "      <td>2017-11-17 21:31:03</td>\n",
       "      <td>2017-11-21 12:57:04</td>\n",
       "      <td>2017-11-29 20:13:45</td>\n",
       "      <td>2017-12-20 00:00:00</td>\n",
       "      <td>4</td>\n",
       "      <td>4</td>\n",
       "      <td>441.89</td>\n",
       "      <td>105.4</td>\n",
       "      <td>547.29</td>\n",
       "    </tr>\n",
       "  </tbody>\n",
       "</table>\n",
       "</div>"
      ],
      "text/plain": [
       "                               order_id                       customer_id  \\\n",
       "22037  8c2b13adf3f377c8f2b06b04321b0925  0aad2e31b3c119c26acb8a47768cd00a   \n",
       "\n",
       "      order_status order_purchase_timestamp    order_approved_at  \\\n",
       "22037    delivered      2017-11-17 19:46:08  2017-11-17 21:31:03   \n",
       "\n",
       "      order_delivered_carrier_date order_delivered_customer_date  \\\n",
       "22037          2017-11-21 12:57:04           2017-11-29 20:13:45   \n",
       "\n",
       "      order_estimated_delivery_date  items_sold  unique_items_sold   price  \\\n",
       "22037           2017-12-20 00:00:00           4                  4  441.89   \n",
       "\n",
       "       freight_value  order_value  \n",
       "22037          105.4       547.29  "
      ]
     },
     "execution_count": 21,
     "metadata": {},
     "output_type": "execute_result"
    }
   ],
   "source": [
    "# Também pode-se ver na tabela fato de pedidos\n",
    "df_fct_ordem_pedido[df_fct_ordem_pedido[\"order_id\"]==\"8c2b13adf3f377c8f2b06b04321b0925\"]"
   ]
  },
  {
   "cell_type": "code",
   "execution_count": 22,
   "id": "b725fd31",
   "metadata": {},
   "outputs": [
    {
     "data": {
      "application/vnd.microsoft.datawrangler.viewer.v0+json": {
       "columns": [
        {
         "name": "index",
         "rawType": "int64",
         "type": "integer"
        },
        {
         "name": "order_id",
         "rawType": "object",
         "type": "string"
        },
        {
         "name": "customer_id",
         "rawType": "object",
         "type": "string"
        },
        {
         "name": "order_status",
         "rawType": "object",
         "type": "string"
        },
        {
         "name": "order_purchase_timestamp",
         "rawType": "object",
         "type": "string"
        },
        {
         "name": "order_approved_at",
         "rawType": "object",
         "type": "string"
        },
        {
         "name": "order_delivered_carrier_date",
         "rawType": "object",
         "type": "string"
        },
        {
         "name": "order_delivered_customer_date",
         "rawType": "object",
         "type": "string"
        },
        {
         "name": "order_estimated_delivery_date",
         "rawType": "object",
         "type": "string"
        }
       ],
       "ref": "cfe95f15-4c25-4b6f-98fd-bc30d017d228",
       "rows": [
        [
         "22209",
         "8c2b13adf3f377c8f2b06b04321b0925",
         "0aad2e31b3c119c26acb8a47768cd00a",
         "delivered",
         "2017-11-17 19:46:08",
         "2017-11-17 21:31:03",
         "2017-11-21 12:57:04",
         "2017-11-29 20:13:45",
         "2017-12-20 00:00:00"
        ]
       ],
       "shape": {
        "columns": 8,
        "rows": 1
       }
      },
      "text/html": [
       "<div>\n",
       "<style scoped>\n",
       "    .dataframe tbody tr th:only-of-type {\n",
       "        vertical-align: middle;\n",
       "    }\n",
       "\n",
       "    .dataframe tbody tr th {\n",
       "        vertical-align: top;\n",
       "    }\n",
       "\n",
       "    .dataframe thead th {\n",
       "        text-align: right;\n",
       "    }\n",
       "</style>\n",
       "<table border=\"1\" class=\"dataframe\">\n",
       "  <thead>\n",
       "    <tr style=\"text-align: right;\">\n",
       "      <th></th>\n",
       "      <th>order_id</th>\n",
       "      <th>customer_id</th>\n",
       "      <th>order_status</th>\n",
       "      <th>order_purchase_timestamp</th>\n",
       "      <th>order_approved_at</th>\n",
       "      <th>order_delivered_carrier_date</th>\n",
       "      <th>order_delivered_customer_date</th>\n",
       "      <th>order_estimated_delivery_date</th>\n",
       "    </tr>\n",
       "  </thead>\n",
       "  <tbody>\n",
       "    <tr>\n",
       "      <th>22209</th>\n",
       "      <td>8c2b13adf3f377c8f2b06b04321b0925</td>\n",
       "      <td>0aad2e31b3c119c26acb8a47768cd00a</td>\n",
       "      <td>delivered</td>\n",
       "      <td>2017-11-17 19:46:08</td>\n",
       "      <td>2017-11-17 21:31:03</td>\n",
       "      <td>2017-11-21 12:57:04</td>\n",
       "      <td>2017-11-29 20:13:45</td>\n",
       "      <td>2017-12-20 00:00:00</td>\n",
       "    </tr>\n",
       "  </tbody>\n",
       "</table>\n",
       "</div>"
      ],
      "text/plain": [
       "                               order_id                       customer_id  \\\n",
       "22209  8c2b13adf3f377c8f2b06b04321b0925  0aad2e31b3c119c26acb8a47768cd00a   \n",
       "\n",
       "      order_status order_purchase_timestamp    order_approved_at  \\\n",
       "22209    delivered      2017-11-17 19:46:08  2017-11-17 21:31:03   \n",
       "\n",
       "      order_delivered_carrier_date order_delivered_customer_date  \\\n",
       "22209          2017-11-21 12:57:04           2017-11-29 20:13:45   \n",
       "\n",
       "      order_estimated_delivery_date  \n",
       "22209           2017-12-20 00:00:00  "
      ]
     },
     "execution_count": 22,
     "metadata": {},
     "output_type": "execute_result"
    }
   ],
   "source": [
    "orders[orders[\"order_id\"]==\"8c2b13adf3f377c8f2b06b04321b0925\"]"
   ]
  },
  {
   "cell_type": "markdown",
   "id": "2b8c36d1",
   "metadata": {},
   "source": [
    "### Salva os dados"
   ]
  },
  {
   "cell_type": "code",
   "execution_count": 23,
   "id": "ef3fda5f",
   "metadata": {},
   "outputs": [],
   "source": [
    "df_fct_ordem_vendedor_cat.to_csv(\"../data/01_interim/tb_fct_ordem_vendedor_cat.csv\", index=False)"
   ]
  }
 ],
 "metadata": {
  "kernelspec": {
   "display_name": "tech_challenge_fase_03",
   "language": "python",
   "name": "python3"
  },
  "language_info": {
   "codemirror_mode": {
    "name": "ipython",
    "version": 3
   },
   "file_extension": ".py",
   "mimetype": "text/x-python",
   "name": "python",
   "nbconvert_exporter": "python",
   "pygments_lexer": "ipython3",
   "version": "3.11.13"
  }
 },
 "nbformat": 4,
 "nbformat_minor": 5
}
